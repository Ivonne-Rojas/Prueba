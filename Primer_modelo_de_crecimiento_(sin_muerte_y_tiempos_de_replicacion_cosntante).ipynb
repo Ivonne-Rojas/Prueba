{
  "nbformat": 4,
  "nbformat_minor": 0,
  "metadata": {
    "colab": {
      "name": "Primer modelo de crecimiento (sin muerte y tiempos de replicacion cosntante)",
      "provenance": [],
      "authorship_tag": "ABX9TyPtTRDh8t2pjXoFCOrPz8cV"
    },
    "kernelspec": {
      "name": "python3",
      "display_name": "Python 3"
    }
  },
  "cells": [
    {
      "cell_type": "code",
      "metadata": {
        "id": "UaKrXTC9NSvJ"
      },
      "source": [
        "import numpy as np\n",
        "import matplotlib.pyplot as plt\n",
        "import collections as coll \n",
        "import random"
      ],
      "execution_count": null,
      "outputs": []
    },
    {
      "cell_type": "code",
      "metadata": {
        "colab": {
          "base_uri": "https://localhost:8080/"
        },
        "id": "L4NRnHuQQjHE",
        "outputId": "68ee1aa4-dcab-4dd0-e850-d52e77b4c1ea"
      },
      "source": [
        "zi=[1]\n",
        "suma=[]\n",
        "for j in range(25):\n",
        "  zf=np.zeros((len(zi)+1),dtype=np.int64)\n",
        "  for i in range(len(zi)):\n",
        "    zf[i+1]= zi[i]\n",
        "    zf[0]=sum(zi)\n",
        "  zi=zf\n",
        "  suma.append(sum(zi))\n",
        "  print('Distribución de edades=', zi,'g=',j+1)\n",
        "  print('Población total=', sum(zi))\n",
        "total_celulas=sum(zi)"
      ],
      "execution_count": null,
      "outputs": [
        {
          "output_type": "stream",
          "text": [
            "Distribución de edades= [1 1] g= 1\n",
            "Población total= 2\n",
            "Distribución de edades= [2 1 1] g= 2\n",
            "Población total= 4\n",
            "Distribución de edades= [4 2 1 1] g= 3\n",
            "Población total= 8\n",
            "Distribución de edades= [8 4 2 1 1] g= 4\n",
            "Población total= 16\n",
            "Distribución de edades= [16  8  4  2  1  1] g= 5\n",
            "Población total= 32\n",
            "Distribución de edades= [32 16  8  4  2  1  1] g= 6\n",
            "Población total= 64\n",
            "Distribución de edades= [64 32 16  8  4  2  1  1] g= 7\n",
            "Población total= 128\n",
            "Distribución de edades= [128  64  32  16   8   4   2   1   1] g= 8\n",
            "Población total= 256\n",
            "Distribución de edades= [256 128  64  32  16   8   4   2   1   1] g= 9\n",
            "Población total= 512\n",
            "Distribución de edades= [512 256 128  64  32  16   8   4   2   1   1] g= 10\n",
            "Población total= 1024\n",
            "Distribución de edades= [1024  512  256  128   64   32   16    8    4    2    1    1] g= 11\n",
            "Población total= 2048\n",
            "Distribución de edades= [2048 1024  512  256  128   64   32   16    8    4    2    1    1] g= 12\n",
            "Población total= 4096\n",
            "Distribución de edades= [4096 2048 1024  512  256  128   64   32   16    8    4    2    1    1] g= 13\n",
            "Población total= 8192\n",
            "Distribución de edades= [8192 4096 2048 1024  512  256  128   64   32   16    8    4    2    1\n",
            "    1] g= 14\n",
            "Población total= 16384\n",
            "Distribución de edades= [16384  8192  4096  2048  1024   512   256   128    64    32    16     8\n",
            "     4     2     1     1] g= 15\n",
            "Población total= 32768\n",
            "Distribución de edades= [32768 16384  8192  4096  2048  1024   512   256   128    64    32    16\n",
            "     8     4     2     1     1] g= 16\n",
            "Población total= 65536\n",
            "Distribución de edades= [65536 32768 16384  8192  4096  2048  1024   512   256   128    64    32\n",
            "    16     8     4     2     1     1] g= 17\n",
            "Población total= 131072\n",
            "Distribución de edades= [131072  65536  32768  16384   8192   4096   2048   1024    512    256\n",
            "    128     64     32     16      8      4      2      1      1] g= 18\n",
            "Población total= 262144\n",
            "Distribución de edades= [262144 131072  65536  32768  16384   8192   4096   2048   1024    512\n",
            "    256    128     64     32     16      8      4      2      1      1] g= 19\n",
            "Población total= 524288\n",
            "Distribución de edades= [524288 262144 131072  65536  32768  16384   8192   4096   2048   1024\n",
            "    512    256    128     64     32     16      8      4      2      1\n",
            "      1] g= 20\n",
            "Población total= 1048576\n",
            "Distribución de edades= [1048576  524288  262144  131072   65536   32768   16384    8192    4096\n",
            "    2048    1024     512     256     128      64      32      16       8\n",
            "       4       2       1       1] g= 21\n",
            "Población total= 2097152\n",
            "Distribución de edades= [2097152 1048576  524288  262144  131072   65536   32768   16384    8192\n",
            "    4096    2048    1024     512     256     128      64      32      16\n",
            "       8       4       2       1       1] g= 22\n",
            "Población total= 4194304\n",
            "Distribución de edades= [4194304 2097152 1048576  524288  262144  131072   65536   32768   16384\n",
            "    8192    4096    2048    1024     512     256     128      64      32\n",
            "      16       8       4       2       1       1] g= 23\n",
            "Población total= 8388608\n",
            "Distribución de edades= [8388608 4194304 2097152 1048576  524288  262144  131072   65536   32768\n",
            "   16384    8192    4096    2048    1024     512     256     128      64\n",
            "      32      16       8       4       2       1       1] g= 24\n",
            "Población total= 16777216\n",
            "Distribución de edades= [16777216  8388608  4194304  2097152  1048576   524288   262144   131072\n",
            "    65536    32768    16384     8192     4096     2048     1024      512\n",
            "      256      128       64       32       16        8        4        2\n",
            "        1        1] g= 25\n",
            "Población total= 33554432\n"
          ],
          "name": "stdout"
        }
      ]
    },
    {
      "cell_type": "code",
      "metadata": {
        "colab": {
          "base_uri": "https://localhost:8080/"
        },
        "id": "CpGSp_oBQvG1",
        "outputId": "a20fbd79-e8e2-4562-91fd-f0f67385264f"
      },
      "source": [
        "print(len(zi))\n",
        "print(suma)"
      ],
      "execution_count": null,
      "outputs": [
        {
          "output_type": "stream",
          "text": [
            "26\n",
            "[2, 4, 8, 16, 32, 64, 128, 256, 512, 1024, 2048, 4096, 8192, 16384, 32768, 65536, 131072, 262144, 524288, 1048576, 2097152, 4194304, 8388608, 16777216, 33554432]\n"
          ],
          "name": "stdout"
        }
      ]
    },
    {
      "cell_type": "markdown",
      "metadata": {
        "id": "3H7VvaS1Qzvt"
      },
      "source": [
        "## Histograma de la distribucion de edades"
      ]
    },
    {
      "cell_type": "code",
      "metadata": {
        "colab": {
          "base_uri": "https://localhost:8080/"
        },
        "id": "zDGgEUg3_GF1",
        "outputId": "47ff8bc6-ca26-4c67-c626-a0e32ab01db6"
      },
      "source": [
        "edad=[]\n",
        "ed=-1\n",
        "for i in range(len(zi)):\n",
        "  ed=ed+1\n",
        "  edad.append(ed)\n",
        "print(edad)"
      ],
      "execution_count": null,
      "outputs": [
        {
          "output_type": "stream",
          "text": [
            "[0, 1, 2, 3, 4, 5, 6, 7, 8, 9, 10, 11, 12, 13, 14, 15, 16, 17, 18, 19, 20, 21, 22, 23, 24, 25]\n"
          ],
          "name": "stdout"
        }
      ]
    },
    {
      "cell_type": "code",
      "metadata": {
        "colab": {
          "base_uri": "https://localhost:8080/",
          "height": 305
        },
        "id": "zDOv3mzTQqWV",
        "outputId": "a8f28c3c-5b69-4379-d895-1af50d8db15f"
      },
      "source": [
        "fig, ax = plt.subplots()\n",
        "ax.set_ylabel('Número de células',fontsize=16)\n",
        "ax.set_xlabel('Edad',fontsize=16)\n",
        "ax.set_title('Distribución de edades',fontsize=20)\n",
        "plt.bar(edad, zi)\n",
        "#plt.savefig('Distribucion de edades25.png')\n",
        "plt.show()"
      ],
      "execution_count": null,
      "outputs": [
        {
          "output_type": "display_data",
          "data": {
            "image/png": "[encoded data removed]",
            "text/plain": [
              "<Figure size 432x288 with 1 Axes>"
            ]
          },
          "metadata": {
            "tags": [],
            "needs_background": "light"
          }
        }
      ]
    },
    {
      "cell_type": "markdown",
      "metadata": {
        "id": "6Qb8GEglHyLa"
      },
      "source": [
        "## Curva de crecimieto respecto a las generaciones"
      ]
    },
    {
      "cell_type": "code",
      "metadata": {
        "id": "WUFzJM3PRAla",
        "colab": {
          "base_uri": "https://localhost:8080/",
          "height": 305
        },
        "outputId": "7ff2f258-20fb-42c8-b2bd-460aecaa2434"
      },
      "source": [
        "plt.plot(suma) \n",
        "plt.xlabel('Generaciones',fontsize=16)\n",
        "plt.ylabel('Número de células',fontsize=16)\n",
        "plt.title('Curva de crecimiento',fontsize=20)\n",
        "#plt.savefig('Curva de crecimiento generaciones25.png')\n",
        "plt.show()  "
      ],
      "execution_count": null,
      "outputs": [
        {
          "output_type": "display_data",
          "data": {
            "image/png": "[encoded data removed]",
            "text/plain": [
              "<Figure size 432x288 with 1 Axes>"
            ]
          },
          "metadata": {
            "tags": [],
            "needs_background": "light"
          }
        }
      ]
    },
    {
      "cell_type": "markdown",
      "metadata": {
        "id": "4iGDfTDnfeUX"
      },
      "source": [
        "Escala logaritmica"
      ]
    },
    {
      "cell_type": "code",
      "metadata": {
        "id": "7Qed0Z6gfeDx",
        "colab": {
          "base_uri": "https://localhost:8080/",
          "height": 295
        },
        "outputId": "b9c6125e-ffcf-440c-c7a3-6c529f6aa411"
      },
      "source": [
        "plt.plot(suma) \n",
        "plt.semilogy(basey=2.7182818281828)\n",
        "plt.xlabel('Generaciones')\n",
        "plt.ylabel('Número de células')\n",
        "plt.title('Curva de crecimiento')\n",
        "plt.show()  "
      ],
      "execution_count": null,
      "outputs": [
        {
          "output_type": "display_data",
          "data": {
            "image/png": "[encoded data removed]",
            "text/plain": [
              "<Figure size 432x288 with 1 Axes>"
            ]
          },
          "metadata": {
            "tags": [],
            "needs_background": "light"
          }
        }
      ]
    },
    {
      "cell_type": "markdown",
      "metadata": {
        "id": "ivoxw2Jal3uC"
      },
      "source": [
        "Tasa de crecimiento"
      ]
    },
    {
      "cell_type": "code",
      "metadata": {
        "colab": {
          "base_uri": "https://localhost:8080/"
        },
        "id": "g2kUYX87l3XU",
        "outputId": "48d437bf-db9c-4a47-c5db-22c3f177bebb"
      },
      "source": [
        "pendientes=[]\n",
        "for i in range(len(suma)-1):\n",
        "  y=np.log(suma[i+1])-np.log(suma[i])\n",
        "  x=edad[i+1]-edad[i]\n",
        "  pendiente=y/x\n",
        "  pendientes.append(pendiente)\n",
        "print(pendientes)\n",
        "print('tasa de crecimiento',sum(pendientes)/len(pendientes))"
      ],
      "execution_count": null,
      "outputs": [
        {
          "output_type": "stream",
          "text": [
            "[0.6931471805599453, 0.6931471805599452, 0.6931471805599454, 0.6931471805599454, 0.693147180559945, 0.6931471805599454, 0.6931471805599454, 0.6931471805599454, 0.6931471805599454, 0.6931471805599454, 0.6931471805599445, 0.6931471805599454, 0.6931471805599454, 0.6931471805599454, 0.6931471805599454, 0.6931471805599454, 0.6931471805599454, 0.6931471805599454, 0.6931471805599454, 0.6931471805599454, 0.6931471805599454, 0.6931471805599454, 0.6931471805599436, 0.6931471805599472]\n",
            "tasa de crecimiento 0.6931471805599454\n"
          ],
          "name": "stdout"
        }
      ]
    },
    {
      "cell_type": "markdown",
      "metadata": {
        "id": "mponwz7rH3k2"
      },
      "source": [
        "## Curva de crecimiento respecto al tiempo "
      ]
    },
    {
      "cell_type": "code",
      "metadata": {
        "id": "_V7UpTP4RRjj",
        "colab": {
          "base_uri": "https://localhost:8080/"
        },
        "outputId": "cfd3bbcb-0718-4727-bd37-dc933c3467ee"
      },
      "source": [
        "#Para este caso se asume que el tiempo de replicacion para todas las células es de 120 minutos \n",
        "tiempo=[]\n",
        "ti=0\n",
        "for i in range(len(suma)):\n",
        "  ti=ti+120\n",
        "  tiempo.append(ti)\n",
        "print(tiempo)"
      ],
      "execution_count": null,
      "outputs": [
        {
          "output_type": "stream",
          "text": [
            "[120, 240, 360, 480, 600, 720, 840, 960, 1080, 1200, 1320, 1440, 1560, 1680, 1800, 1920, 2040, 2160, 2280, 2400, 2520, 2640, 2760, 2880, 3000]\n"
          ],
          "name": "stdout"
        }
      ]
    },
    {
      "cell_type": "code",
      "metadata": {
        "colab": {
          "base_uri": "https://localhost:8080/",
          "height": 295
        },
        "id": "P17p1HNpIzt0",
        "outputId": "f0fa7053-6708-4e74-d133-5d915c18c39a"
      },
      "source": [
        "plt.plot(tiempo,suma)  \n",
        "plt.xlabel('Tiempo (min)')\n",
        "plt.ylabel('Número de células')\n",
        "plt.title('Cuva de crecimiento')\n",
        "plt.show() "
      ],
      "execution_count": null,
      "outputs": [
        {
          "output_type": "display_data",
          "data": {
            "image/png": "[encoded data removed]",
            "text/plain": [
              "<Figure size 432x288 with 1 Axes>"
            ]
          },
          "metadata": {
            "tags": [],
            "needs_background": "light"
          }
        }
      ]
    },
    {
      "cell_type": "markdown",
      "metadata": {
        "id": "56aWrqhki4iW"
      },
      "source": [
        "Escala logaritmica"
      ]
    },
    {
      "cell_type": "code",
      "metadata": {
        "id": "PDtfloo_JJi2",
        "colab": {
          "base_uri": "https://localhost:8080/",
          "height": 295
        },
        "outputId": "30ba15d9-fad2-4f81-fb95-85bd7a4f3acb"
      },
      "source": [
        "plt.plot(tiempo,suma)\n",
        "plt.yscale(\"log\")\n",
        "plt.xlabel('Tiempo (min)')\n",
        "plt.ylabel('Número de células')\n",
        "plt.title('Cuva de crecimiento')\n",
        "plt.show() "
      ],
      "execution_count": null,
      "outputs": [
        {
          "output_type": "display_data",
          "data": {
            "image/png": "[encoded data removed]",
            "text/plain": [
              "<Figure size 432x288 with 1 Axes>"
            ]
          },
          "metadata": {
            "tags": [],
            "needs_background": "light"
          }
        }
      ]
    },
    {
      "cell_type": "markdown",
      "metadata": {
        "id": "3LEcxEExBMJ6"
      },
      "source": [
        "Tasa de crecimiento"
      ]
    },
    {
      "cell_type": "code",
      "metadata": {
        "colab": {
          "base_uri": "https://localhost:8080/"
        },
        "id": "3_RdQZSli_oE",
        "outputId": "7a711801-30b7-406d-9be7-cd3d875270d5"
      },
      "source": [
        "pendientes=[]\n",
        "for i in range(len(suma)-1):\n",
        "  y=np.log(suma[i+1])-np.log(suma[i])\n",
        "  x=tiempo[i+1]-tiempo[i]\n",
        "  pendiente=y/x\n",
        "  pendientes.append(pendiente)\n",
        "print(pendientes)\n",
        "print('Tasa de crecimiento',sum(pendientes)/len(pendientes))"
      ],
      "execution_count": null,
      "outputs": [
        {
          "output_type": "stream",
          "text": [
            "[0.0057762265046662105, 0.00577622650466621, 0.005776226504666211, 0.005776226504666211, 0.005776226504666208, 0.005776226504666211, 0.005776226504666211, 0.005776226504666211, 0.005776226504666211, 0.005776226504666211, 0.005776226504666204, 0.005776226504666211, 0.005776226504666211, 0.005776226504666211, 0.005776226504666211, 0.005776226504666211, 0.005776226504666211, 0.005776226504666211, 0.005776226504666211, 0.005776226504666211, 0.005776226504666211, 0.005776226504666211, 0.005776226504666197, 0.005776226504666226]\n",
            "Tasa de crecimiento 0.00577622650466621\n"
          ],
          "name": "stdout"
        }
      ]
    },
    {
      "cell_type": "markdown",
      "metadata": {
        "id": "2u9kmcEHBVPX"
      },
      "source": [
        "## Distribucion de probabilidad "
      ]
    },
    {
      "cell_type": "code",
      "metadata": {
        "id": "L1QCh6S-3h0M",
        "colab": {
          "base_uri": "https://localhost:8080/"
        },
        "outputId": "38b7ae30-2a9d-4b98-edb9-efb3d57da9c7"
      },
      "source": [
        "P=[] \n",
        "for i in zi:\n",
        "  p=i/total_celulas # se tiene en cuentas las celulas que ya se murieron \n",
        "  P.append(p)\n",
        "print(P)"
      ],
      "execution_count": null,
      "outputs": [
        {
          "output_type": "stream",
          "text": [
            "[0.5, 0.25, 0.125, 0.0625, 0.03125, 0.015625, 0.0078125, 0.00390625, 0.001953125, 0.0009765625, 0.00048828125, 0.000244140625, 0.0001220703125, 6.103515625e-05, 3.0517578125e-05, 1.52587890625e-05, 7.62939453125e-06, 3.814697265625e-06, 1.9073486328125e-06, 9.5367431640625e-07, 4.76837158203125e-07, 2.384185791015625e-07, 1.1920928955078125e-07, 5.960464477539063e-08, 2.9802322387695312e-08, 2.9802322387695312e-08]\n"
          ],
          "name": "stdout"
        }
      ]
    },
    {
      "cell_type": "code",
      "metadata": {
        "id": "8CYoSkH5LPDI",
        "colab": {
          "base_uri": "https://localhost:8080/",
          "height": 295
        },
        "outputId": "2e53521d-e895-47f1-ff2c-0f95a48a90ef"
      },
      "source": [
        "fig, ax = plt.subplots()   \n",
        "ax.set_ylabel('Probabilidad')\n",
        "ax.set_xlabel('Edad')\n",
        "ax.set_title('Distribución de probabilidad')\n",
        "plt.bar(edad, P)\n",
        "#plt.savefig('D probabilidad g 25 sin muerte.png')\n",
        "plt.show()"
      ],
      "execution_count": null,
      "outputs": [
        {
          "output_type": "display_data",
          "data": {
            "image/png": "[encoded data removed]",
            "text/plain": [
              "<Figure size 432x288 with 1 Axes>"
            ]
          },
          "metadata": {
            "tags": [],
            "needs_background": "light"
          }
        }
      ]
    },
    {
      "cell_type": "code",
      "metadata": {
        "id": "iy8lo_LhLVqk"
      },
      "source": [
        ""
      ],
      "execution_count": null,
      "outputs": []
    }
  ]
}