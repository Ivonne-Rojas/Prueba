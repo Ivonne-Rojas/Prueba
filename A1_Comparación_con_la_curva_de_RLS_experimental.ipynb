{
  "nbformat": 4,
  "nbformat_minor": 0,
  "metadata": {
    "colab": {
      "name": "A1:Comparación con la curva de RLS experimental",
      "provenance": [],
      "collapsed_sections": [],
      "authorship_tag": "ABX9TyMWuowdTXBIoLie+sa6h5e+"
    },
    "kernelspec": {
      "name": "python3",
      "display_name": "Python 3"
    },
    "language_info": {
      "name": "python"
    }
  },
  "cells": [
    {
      "cell_type": "code",
      "metadata": {
        "id": "_sPNylZoA4aA"
      },
      "source": [
        "import numpy as np\n",
        "import matplotlib.pyplot as plt\n",
        "import collections as coll \n",
        "import random\n",
        "from time import time\n",
        "from timeit import timeit\n",
        "from scipy.interpolate import interp1d \n",
        "from scipy.optimize import curve_fit\n",
        "import statistics"
      ],
      "execution_count": null,
      "outputs": []
    },
    {
      "cell_type": "markdown",
      "metadata": {
        "id": "unZLsWmoCgxL"
      },
      "source": [
        "## Modelo inicial de crecimiento"
      ]
    },
    {
      "cell_type": "code",
      "metadata": {
        "colab": {
          "base_uri": "https://localhost:8080/"
        },
        "id": "nfk2jJzPBQGb",
        "outputId": "e8c30260-3a84-4adb-a97a-c9e275396409"
      },
      "source": [
        "tiempo_inicial = time()# libreria para calcular el tiempo de ejecución  \n",
        "#-------------------------------------------------------------------------------\n",
        "#variables \n",
        "s=[]#para guardar los tiempos aleatorios de replicacion\n",
        "R=0 \n",
        "celulas=[] # guarda el numero total de células \n",
        "zi=[1,0,0,0,0,0,0,0,0,0,0,0,0,0,0,0,0,0,0,0,0,0,0,0,0,0,0,0,0,0,0,0,0,0,0,0,0,0,0,0,0,0,0,0,0,0]# matrix inicial  \n",
        "t=0 # tiempo que ha pasado  \n",
        "tr=[]#lista para guardar t (t}iempo total )\n",
        "m=19 # para definir la generacion en la que se mueren las células  \n",
        "muertes=0# variable para contabilizar el número de células no viables \n",
        "fraccion=[] # guarda la fracción de células viables \n",
        "r=0 # crecimiento per capita\n",
        "g=15 #número de generaciones que crece la población \n",
        "#------------------------------------------------------------------------------- \n",
        "for j in range(g):# número de iteraciones o numero de generaciones la cual se va realizar \n",
        "  zf=np.zeros(m,dtype=np.int64) # tiene que tener una longitud definida la cual sera la generacion en la que se mueran las celulas\n",
        "  for i in range(m-1):  \n",
        "    zf[i+1]= zi[i]\n",
        "    zf[0]=sum(zi)-zi[-1]\n",
        "  zi=zf\n",
        "#-------------------------------------------------------------------------------\n",
        "  R=R+120\n",
        "  s.append(R)\n",
        "  celulas.append(sum(zi)) \n",
        "#-------------------------------------------------------------------------------\n",
        "  t=t+max(s)    # tiempo total trascurrido \n",
        "  tr.append(t)\n",
        "#-------------------------------------------------------------------------------\n",
        "#calculos \n",
        "  muertes=muertes+zf[-1]#para guardas las celulas muertas\n",
        "  total_celulas= sum(zi)+muertes #total de celulas teniendo en cuenta las muertes para sacar la fraccion de celulas viables \n",
        "  fraccion_viables= (sum(zi)-zi[-1])/total_celulas\n",
        "  fraccion.append(fraccion_viables)\n",
        "  r=zi[0]-muertes # numero de nacimientos menos numero de muertes \n",
        "#-------------------------------------------------------------------------------\n",
        "  print(zi)\n",
        "  #print('s',s)\n",
        "  #print('tiempo',t)\n",
        "  #print('lista tiempo',tr)\n",
        "  print('No viable', muertes)\n",
        "  #print('Crecimiento per capita', r)\n",
        "  #print('Células viables', celulas)\n",
        "  #print('Total celulas',total_celulas)\n",
        "  #print('Fraccion de células viables',fraccion_viables)\n",
        "  #print('Lista de fracción de células viables', fraccion)\n",
        "  print('---------------')\n",
        "#-------------------------------------------------------------------------------\n",
        "print(len(zi))\n",
        "tiempo_final = time()\n",
        "tiempo_ejecucion = tiempo_final - tiempo_inicial\n",
        "print('tiempo de ejecucion',tiempo_ejecucion)"
      ],
      "execution_count": null,
      "outputs": [
        {
          "output_type": "stream",
          "text": [
            "[1 1 0 0 0 0 0 0 0 0 0 0 0 0 0 0 0 0 0]\n",
            "No viable 0\n",
            "---------------\n",
            "[2 1 1 0 0 0 0 0 0 0 0 0 0 0 0 0 0 0 0]\n",
            "No viable 0\n",
            "---------------\n",
            "[4 2 1 1 0 0 0 0 0 0 0 0 0 0 0 0 0 0 0]\n",
            "No viable 0\n",
            "---------------\n",
            "[8 4 2 1 1 0 0 0 0 0 0 0 0 0 0 0 0 0 0]\n",
            "No viable 0\n",
            "---------------\n",
            "[16  8  4  2  1  1  0  0  0  0  0  0  0  0  0  0  0  0  0]\n",
            "No viable 0\n",
            "---------------\n",
            "[32 16  8  4  2  1  1  0  0  0  0  0  0  0  0  0  0  0  0]\n",
            "No viable 0\n",
            "---------------\n",
            "[64 32 16  8  4  2  1  1  0  0  0  0  0  0  0  0  0  0  0]\n",
            "No viable 0\n",
            "---------------\n",
            "[128  64  32  16   8   4   2   1   1   0   0   0   0   0   0   0   0   0\n",
            "   0]\n",
            "No viable 0\n",
            "---------------\n",
            "[256 128  64  32  16   8   4   2   1   1   0   0   0   0   0   0   0   0\n",
            "   0]\n",
            "No viable 0\n",
            "---------------\n",
            "[512 256 128  64  32  16   8   4   2   1   1   0   0   0   0   0   0   0\n",
            "   0]\n",
            "No viable 0\n",
            "---------------\n",
            "[1024  512  256  128   64   32   16    8    4    2    1    1    0    0\n",
            "    0    0    0    0    0]\n",
            "No viable 0\n",
            "---------------\n",
            "[2048 1024  512  256  128   64   32   16    8    4    2    1    1    0\n",
            "    0    0    0    0    0]\n",
            "No viable 0\n",
            "---------------\n",
            "[4096 2048 1024  512  256  128   64   32   16    8    4    2    1    1\n",
            "    0    0    0    0    0]\n",
            "No viable 0\n",
            "---------------\n",
            "[8192 4096 2048 1024  512  256  128   64   32   16    8    4    2    1\n",
            "    1    0    0    0    0]\n",
            "No viable 0\n",
            "---------------\n",
            "[16384  8192  4096  2048  1024   512   256   128    64    32    16     8\n",
            "     4     2     1     1     0     0     0]\n",
            "No viable 0\n",
            "---------------\n",
            "19\n",
            "tiempo de ejecucion 0.023119688034057617\n"
          ],
          "name": "stdout"
        }
      ]
    },
    {
      "cell_type": "code",
      "metadata": {
        "colab": {
          "base_uri": "https://localhost:8080/"
        },
        "id": "S-OrvaZUBUmF",
        "outputId": "4344025c-8922-4c31-97a3-f82178d182e0"
      },
      "source": [
        "indice=[]#edades\n",
        "ind=-1\n",
        "for i in range(len(zi)):\n",
        "  ind=ind+1\n",
        "  indice.append(ind)\n",
        "print(indice)"
      ],
      "execution_count": null,
      "outputs": [
        {
          "output_type": "stream",
          "text": [
            "[0, 1, 2, 3, 4, 5, 6, 7, 8, 9, 10, 11, 12, 13, 14, 15, 16, 17, 18]\n"
          ],
          "name": "stdout"
        }
      ]
    },
    {
      "cell_type": "code",
      "metadata": {
        "colab": {
          "base_uri": "https://localhost:8080/",
          "height": 295
        },
        "id": "XviRWaWDpN4A",
        "outputId": "fb72427e-b228-411b-d0c6-ca2b874b0354"
      },
      "source": [
        "fig, ax = plt.subplots()\n",
        "ax.set_ylabel('Número de células')\n",
        "ax.set_xlabel('Edad')\n",
        "ax.set_title('Distribución de edades ')\n",
        "plt.bar(indice, zi)\n",
        "#plt.savefig('barras_simple.png')\n",
        "plt.show()"
      ],
      "execution_count": null,
      "outputs": [
        {
          "output_type": "display_data",
          "data": {
            "image/png": "[encoded data removed]",
            "text/plain": [
              "<Figure size 432x288 with 1 Axes>"
            ]
          },
          "metadata": {
            "tags": [],
            "needs_background": "light"
          }
        }
      ]
    },
    {
      "cell_type": "code",
      "metadata": {
        "colab": {
          "base_uri": "https://localhost:8080/"
        },
        "id": "P2wETBRpBYgK",
        "outputId": "fd15e522-2ac1-4d24-8c1f-21e34c348504"
      },
      "source": [
        "dic= dict(zip(zi,indice))# diccionario que guarda la distribucion {Número de células: edad} \n",
        "print(dic) "
      ],
      "execution_count": null,
      "outputs": [
        {
          "output_type": "stream",
          "text": [
            "{16384: 0, 8192: 1, 4096: 2, 2048: 3, 1024: 4, 512: 5, 256: 6, 128: 7, 64: 8, 32: 9, 16: 10, 8: 11, 4: 12, 2: 13, 1: 15, 0: 18}\n"
          ],
          "name": "stdout"
        }
      ]
    },
    {
      "cell_type": "code",
      "metadata": {
        "colab": {
          "base_uri": "https://localhost:8080/"
        },
        "id": "FkcX2ykYBaeq",
        "outputId": "ce8378c4-ab50-4b41-c3c7-54d487f4aed3"
      },
      "source": [
        "#Probabilidad \n",
        "P=[] \n",
        "for i in zi:\n",
        "  p=i/total_celulas \n",
        "  P.append(p)\n",
        "print(P)"
      ],
      "execution_count": null,
      "outputs": [
        {
          "output_type": "stream",
          "text": [
            "[0.5, 0.25, 0.125, 0.0625, 0.03125, 0.015625, 0.0078125, 0.00390625, 0.001953125, 0.0009765625, 0.00048828125, 0.000244140625, 0.0001220703125, 6.103515625e-05, 3.0517578125e-05, 3.0517578125e-05, 0.0, 0.0, 0.0]\n"
          ],
          "name": "stdout"
        }
      ]
    },
    {
      "cell_type": "code",
      "metadata": {
        "colab": {
          "base_uri": "https://localhost:8080/",
          "height": 295
        },
        "id": "9lMiQcCKBcjR",
        "outputId": "346f4990-7729-40a4-cf17-1c287d2fd8e8"
      },
      "source": [
        "fig, ax = plt.subplots()  \n",
        "ax.set_ylabel('Probabilidad')\n",
        "ax.set_xlabel('Edad')\n",
        "ax.set_title('Distribución de probabilidades')\n",
        "plt.bar(indice, P)\n",
        "#plt.savefig('barras_simple.png')\n",
        "plt.show()"
      ],
      "execution_count": null,
      "outputs": [
        {
          "output_type": "display_data",
          "data": {
            "image/png": "[encoded data removed]",
            "text/plain": [
              "<Figure size 432x288 with 1 Axes>"
            ]
          },
          "metadata": {
            "tags": [],
            "needs_background": "light"
          }
        }
      ]
    },
    {
      "cell_type": "code",
      "metadata": {
        "colab": {
          "base_uri": "https://localhost:8080/"
        },
        "id": "j0uQ25OpULkH",
        "outputId": "2c7a03e2-7a67-4320-ea7f-7d97048c69c5"
      },
      "source": [
        "#Determina el número de la primera muestra \n",
        "muestra=int((total_celulas*0.02)/5)\n",
        "print(muestra)\n",
        "print(total_celulas)"
      ],
      "execution_count": null,
      "outputs": [
        {
          "output_type": "stream",
          "text": [
            "131\n",
            "32768\n"
          ],
          "name": "stdout"
        }
      ]
    },
    {
      "cell_type": "code",
      "metadata": {
        "colab": {
          "base_uri": "https://localhost:8080/"
        },
        "id": "IWvhfKH-BfDp",
        "outputId": "28608599-92ef-441d-f148-5e1e401dcb07"
      },
      "source": [
        "#Toma una muestra de edades de segun los pesos probabilisticos y la cantidad hallada anteriormente\n",
        "sample= random.choices(indice,weights=P,k=muestra)    \n",
        "print(sample)"
      ],
      "execution_count": null,
      "outputs": [
        {
          "output_type": "stream",
          "text": [
            "[0, 1, 1, 2, 0, 0, 0, 3, 0, 4, 1, 5, 0, 0, 0, 0, 1, 5, 0, 1, 1, 0, 0, 0, 2, 6, 0, 0, 7, 0, 0, 0, 1, 0, 0, 1, 0, 0, 2, 0, 1, 1, 5, 0, 0, 1, 3, 1, 0, 1, 0, 1, 0, 0, 1, 1, 0, 0, 0, 0, 0, 0, 0, 2, 1, 0, 1, 1, 0, 2, 0, 0, 1, 1, 0, 2, 0, 0, 0, 0, 0, 0, 0, 3, 1, 5, 1, 4, 3, 3, 0, 2, 0, 1, 1, 0, 1, 2, 0, 0, 0, 0, 1, 1, 2, 0, 0, 2, 2, 0, 0, 0, 1, 1, 0, 0, 1, 0, 0, 4, 0, 0, 0, 0, 0, 3, 0, 2, 2, 2, 1]\n"
          ],
          "name": "stdout"
        }
      ]
    },
    {
      "cell_type": "code",
      "metadata": {
        "colab": {
          "base_uri": "https://localhost:8080/"
        },
        "id": "kpenJX-PBhz8",
        "outputId": "ecf7b87e-43c1-4201-fb53-81e5a0cd33b0"
      },
      "source": [
        "#Genera un diccionario con la mustra seleccionada {edad: numero de celulas}\n",
        "print(coll.Counter(sample))"
      ],
      "execution_count": null,
      "outputs": [
        {
          "output_type": "stream",
          "text": [
            "Counter({0: 70, 1: 32, 2: 14, 3: 6, 5: 4, 4: 3, 6: 1, 7: 1})\n"
          ],
          "name": "stdout"
        }
      ]
    },
    {
      "cell_type": "markdown",
      "metadata": {
        "id": "vCvDbQQ5Po2T"
      },
      "source": [
        "\n",
        "\n",
        "---\n",
        "\n",
        "\n",
        "\n",
        "---\n",
        "\n"
      ]
    },
    {
      "cell_type": "code",
      "metadata": {
        "colab": {
          "base_uri": "https://localhost:8080/"
        },
        "id": "xTRF5t6_i_7-",
        "outputId": "53ae0f95-97f1-43eb-ead7-c6dab97ce7d0"
      },
      "source": [
        "#Para organizar el diccionario \n",
        "Dic= coll.Counter(sample)\n",
        "Dics=sorted(Dic)\n",
        "print(Dics)"
      ],
      "execution_count": null,
      "outputs": [
        {
          "output_type": "stream",
          "text": [
            "[0, 1, 2, 3, 4, 5, 6, 7]\n"
          ],
          "name": "stdout"
        }
      ]
    },
    {
      "cell_type": "code",
      "metadata": {
        "colab": {
          "base_uri": "https://localhost:8080/"
        },
        "id": "BBx90xsYjRyq",
        "outputId": "e601fc6b-863f-4501-89c8-2a2df856409d"
      },
      "source": [
        "valores_ord = coll.OrderedDict(sorted(Dic.items()))\n",
        "print(valores_ord)\n",
        "print(valores_ord[0])"
      ],
      "execution_count": null,
      "outputs": [
        {
          "output_type": "stream",
          "text": [
            "OrderedDict([(0, 70), (1, 32), (2, 14), (3, 6), (4, 3), (5, 4), (6, 1), (7, 1)])\n",
            "70\n"
          ],
          "name": "stdout"
        }
      ]
    },
    {
      "cell_type": "code",
      "metadata": {
        "colab": {
          "base_uri": "https://localhost:8080/"
        },
        "id": "_4pSePC7BlFm",
        "outputId": "22b78fed-e8e8-4ae4-d7bb-0de89795fab3"
      },
      "source": [
        "#Separa el diccionario en dos listas \n",
        "valores=valores_ord.values()\n",
        "llaves=valores_ord.keys()\n",
        "Ncell=[]\n",
        "Edad=[]\n",
        "for i in valores:\n",
        "  Ncell.append(i)\n",
        "print('Numero de celulas',Ncell)\n",
        "for j in llaves:\n",
        "  Edad.append(j)\n",
        "print('Edades',Edad)\n",
        "print(sum(Ncell))"
      ],
      "execution_count": null,
      "outputs": [
        {
          "output_type": "stream",
          "text": [
            "Numero de celulas [70, 32, 14, 6, 3, 4, 1, 1]\n",
            "Edades [0, 1, 2, 3, 4, 5, 6, 7]\n",
            "131\n"
          ],
          "name": "stdout"
        }
      ]
    },
    {
      "cell_type": "code",
      "metadata": {
        "colab": {
          "base_uri": "https://localhost:8080/",
          "height": 295
        },
        "id": "QFEh9AHTSLb-",
        "outputId": "9c64539a-1348-42d3-f27f-4694c2d02873"
      },
      "source": [
        "#Distribucion de edades de la segunda muestra \n",
        "fig, ax = plt.subplots()  \n",
        "ax.set_ylabel('Número de celulas')\n",
        "ax.set_xlabel('Edad')\n",
        "ax.set_title('Distribucion de edades final ')\n",
        "plt.bar(Edad, Ncell)\n",
        "#plt.savefig('barras_simple.png')\n",
        "plt.show()"
      ],
      "execution_count": null,
      "outputs": [
        {
          "output_type": "display_data",
          "data": {
            "image/png": "[encoded data removed]",
            "text/plain": [
              "<Figure size 432x288 with 1 Axes>"
            ]
          },
          "metadata": {
            "tags": [],
            "needs_background": "light"
          }
        }
      ]
    },
    {
      "cell_type": "code",
      "metadata": {
        "colab": {
          "base_uri": "https://localhost:8080/"
        },
        "id": "vIyzFPxgjlop",
        "outputId": "0a538b94-e27a-4411-c1ce-5d9e30a6da7d"
      },
      "source": [
        "#para organizar el diccionario en una lista \n",
        "inicial1=[0,0,0,0,0,0,0,0,0,0,0,0,0,0,0,0,0,0,0,0,0,0,0,0,0]\n",
        "for i in range(len(Edad)):\n",
        "  if i==Edad[i]:\n",
        "    inicial1[i]=Ncell[i]\n",
        "  else:\n",
        "    inicial1[Edad[i]]=Ncell[i]\n",
        "print(inicial1)\n",
        "print(len(inicial1))"
      ],
      "execution_count": null,
      "outputs": [
        {
          "output_type": "stream",
          "text": [
            "[70, 32, 14, 6, 3, 4, 1, 1, 0, 0, 0, 0, 0, 0, 0, 0, 0, 0, 0, 0, 0, 0, 0, 0, 0]\n",
            "25\n"
          ],
          "name": "stdout"
        }
      ]
    },
    {
      "cell_type": "markdown",
      "metadata": {
        "id": "3v9TwKZqSGsq"
      },
      "source": [
        "\n",
        "\n",
        "---\n",
        "\n",
        "\n",
        "\n",
        "---\n",
        "\n"
      ]
    },
    {
      "cell_type": "markdown",
      "metadata": {
        "id": "wr2bLM1zSYZo"
      },
      "source": [
        "## Convolución "
      ]
    },
    {
      "cell_type": "markdown",
      "metadata": {
        "id": "YgxlVh50Sc3I"
      },
      "source": [
        "Se vuelve a correr el primer código pero esta vez la matrix inicial va a ser la matrix hallada anteriormente "
      ]
    },
    {
      "cell_type": "code",
      "metadata": {
        "colab": {
          "base_uri": "https://localhost:8080/"
        },
        "id": "9o2Y3ukMhWjR",
        "outputId": "718ba02c-a483-4ddd-a475-ed81ae223633"
      },
      "source": [
        "tiempo_inicial = time()  \n",
        "#-------------------------------------------------------------------------------\n",
        "#variables \n",
        "s_1=[]\n",
        "R_1=0\n",
        "celulas_1=[]\n",
        "t_1=0  \n",
        "tr_1=[]\n",
        "m_1=19 \n",
        "muertes_1=0 \n",
        "fraccion_1=[]\n",
        "suma_1=[]\n",
        "r_1=0 \n",
        "g_1=10\n",
        "#------------------------------------------------------------------------------- \n",
        "for j_1 in range(g_1): \n",
        "  zf_1=np.zeros(m_1,dtype=np.int64) \n",
        "  for i_1 in range(m_1 -1):  \n",
        "    zf_1[i_1+1]= inicial1[i_1]\n",
        "    zf_1[0]=sum(inicial1)-inicial1[-1]\n",
        "  inicial1=zf_1\n",
        "#-------------------------------------------------------------------------------\n",
        "  muertes_1=muertes_1+zf_1[-1]\n",
        "  total_celulas_1= sum(inicial1)+muertes_1 \n",
        "  fraccion_viables_1= (sum(inicial1)-inicial1[-1])/total_celulas_1\n",
        "  fraccion.append(fraccion_viables_1)\n",
        "  r_1=inicial1[0]-muertes_1  \n",
        "#-------------------------------------------------------------------------------\n",
        "  total_1=sum(inicial1)\n",
        "  suma_1.append(total_1)\n",
        "#-------------------------------------------------------------------------------\n",
        "  print(inicial1)\n",
        "  #print('s',s)\n",
        "  #print('tiempo',t)\n",
        "  #print('lista tiempo',tr)\n",
        "  print('No viable', muertes_1)\n",
        "  #print('Crecimiento per capita', r)\n",
        "  #print('Células viables', total)\n",
        "  #print('Total de células',total_celulas)\n",
        "  #print('Fraccion de células viables',fraccion_viables)\n",
        "  #print('Lista de fracción de células viables', fraccion)\n",
        "  print('---------------')\n",
        "#-------------------------------------------------------------------------------\n",
        "print(len(inicial1))\n",
        "tiempo_final = time()\n",
        "tiempo_ejecucion = tiempo_final - tiempo_inicial\n",
        "print('tiempo de ejecucion',tiempo_ejecucion)"
      ],
      "execution_count": null,
      "outputs": [
        {
          "output_type": "stream",
          "text": [
            "[262 131  70  32  14   6   3   4   1   1   0   0   0   0   0   0   0   0\n",
            "   0]\n",
            "No viable 0\n",
            "---------------\n",
            "[524 262 131  70  32  14   6   3   4   1   1   0   0   0   0   0   0   0\n",
            "   0]\n",
            "No viable 0\n",
            "---------------\n",
            "[1048  524  262  131   70   32   14    6    3    4    1    1    0    0\n",
            "    0    0    0    0    0]\n",
            "No viable 0\n",
            "---------------\n",
            "[2096 1048  524  262  131   70   32   14    6    3    4    1    1    0\n",
            "    0    0    0    0    0]\n",
            "No viable 0\n",
            "---------------\n",
            "[4192 2096 1048  524  262  131   70   32   14    6    3    4    1    1\n",
            "    0    0    0    0    0]\n",
            "No viable 0\n",
            "---------------\n",
            "[8384 4192 2096 1048  524  262  131   70   32   14    6    3    4    1\n",
            "    1    0    0    0    0]\n",
            "No viable 0\n",
            "---------------\n",
            "[16768  8384  4192  2096  1048   524   262   131    70    32    14     6\n",
            "     3     4     1     1     0     0     0]\n",
            "No viable 0\n",
            "---------------\n",
            "[33536 16768  8384  4192  2096  1048   524   262   131    70    32    14\n",
            "     6     3     4     1     1     0     0]\n",
            "No viable 0\n",
            "---------------\n",
            "[67072 33536 16768  8384  4192  2096  1048   524   262   131    70    32\n",
            "    14     6     3     4     1     1     0]\n",
            "No viable 0\n",
            "---------------\n",
            "[134144  67072  33536  16768   8384   4192   2096   1048    524    262\n",
            "    131     70     32     14      6      3      4      1      1]\n",
            "No viable 1\n",
            "---------------\n",
            "19\n",
            "tiempo de ejecucion 0.012228012084960938\n"
          ],
          "name": "stdout"
        }
      ]
    },
    {
      "cell_type": "code",
      "metadata": {
        "colab": {
          "base_uri": "https://localhost:8080/"
        },
        "id": "EZZzawLalnxC",
        "outputId": "d246171d-6fdc-4fc3-ff47-be084be29614"
      },
      "source": [
        "edad=[]#edades\n",
        "ind=-1\n",
        "for i in range(len(inicial1)):\n",
        "  ind=ind+1\n",
        "  edad.append(ind)\n",
        "print('Edad',edad)"
      ],
      "execution_count": null,
      "outputs": [
        {
          "output_type": "stream",
          "text": [
            "Edad [0, 1, 2, 3, 4, 5, 6, 7, 8, 9, 10, 11, 12, 13, 14, 15, 16, 17, 18]\n"
          ],
          "name": "stdout"
        }
      ]
    },
    {
      "cell_type": "code",
      "metadata": {
        "colab": {
          "base_uri": "https://localhost:8080/",
          "height": 295
        },
        "id": "2iz_lHNvkMKU",
        "outputId": "e3023c94-b096-4d9d-f886-2ea80288bb8d"
      },
      "source": [
        "fig, ax = plt.subplots()\n",
        "ax.set_ylabel('Número de células')\n",
        "ax.set_xlabel('Edad')\n",
        "ax.set_title('Distribucion de edades ')\n",
        "plt.bar(edad, inicial1)\n",
        "#plt.savefig('Distribución de edades.png')\n",
        "plt.show()"
      ],
      "execution_count": null,
      "outputs": [
        {
          "output_type": "display_data",
          "data": {
            "image/png": "[encoded data removed]",
            "text/plain": [
              "<Figure size 432x288 with 1 Axes>"
            ]
          },
          "metadata": {
            "tags": [],
            "needs_background": "light"
          }
        }
      ]
    },
    {
      "cell_type": "code",
      "metadata": {
        "colab": {
          "base_uri": "https://localhost:8080/"
        },
        "id": "hDdMOLFWnKFu",
        "outputId": "9acf7957-9262-4069-9d77-2969cddf9767"
      },
      "source": [
        "#Probabilidad\n",
        "P_1=[] \n",
        "for ii in inicial1:\n",
        "  p_1=ii/total_celulas_1 \n",
        "  P_1.append(p_1)\n",
        "print(P_1)"
      ],
      "execution_count": null,
      "outputs": [
        {
          "output_type": "stream",
          "text": [
            "[0.49999813633805335, 0.24999906816902667, 0.12499953408451334, 0.06249976704225667, 0.031249883521128334, 0.015624941760564167, 0.0078124708802820835, 0.0039062354401410418, 0.0019531177200705209, 0.0009765588600352604, 0.0004882794300176302, 0.0002609126725285047, 0.0001192743645844593, 5.218253450570094e-05, 2.236394335958612e-05, 1.118197167979306e-05, 1.4909295573057412e-05, 3.727323893264353e-06, 3.727323893264353e-06]\n"
          ],
          "name": "stdout"
        }
      ]
    },
    {
      "cell_type": "code",
      "metadata": {
        "colab": {
          "base_uri": "https://localhost:8080/"
        },
        "id": "-PG97kXwnqvc",
        "outputId": "454ac29d-3d2e-42a2-f502-25ef24bc930b"
      },
      "source": [
        "#Segunda muestra, fue el número de células que se estudiaron \n",
        "n_cell=180\n",
        "sample_1= random.choices(edad,weights=P_1,k=n_cell)   \n",
        "print(sample_1) "
      ],
      "execution_count": null,
      "outputs": [
        {
          "output_type": "stream",
          "text": [
            "[6, 2, 0, 0, 5, 4, 2, 1, 0, 2, 2, 1, 6, 1, 0, 2, 0, 0, 3, 7, 1, 0, 2, 0, 1, 0, 0, 0, 0, 0, 1, 0, 0, 4, 1, 2, 2, 3, 0, 0, 3, 0, 0, 2, 0, 2, 0, 4, 2, 0, 1, 0, 0, 1, 0, 2, 0, 2, 1, 0, 0, 1, 0, 0, 4, 0, 0, 1, 0, 4, 6, 0, 0, 0, 2, 2, 0, 0, 7, 1, 0, 1, 0, 2, 2, 0, 1, 4, 0, 2, 0, 0, 1, 3, 3, 0, 1, 1, 0, 4, 0, 0, 0, 1, 2, 0, 0, 0, 7, 1, 7, 0, 1, 0, 1, 5, 0, 1, 2, 1, 1, 0, 0, 0, 0, 1, 0, 1, 0, 0, 0, 0, 1, 4, 1, 2, 3, 0, 2, 0, 0, 0, 0, 1, 1, 1, 0, 2, 1, 0, 0, 1, 0, 2, 0, 1, 1, 6, 2, 1, 2, 0, 1, 1, 2, 0, 1, 0, 0, 0, 0, 1, 1, 0, 0, 2, 0, 0, 0, 1]\n"
          ],
          "name": "stdout"
        }
      ]
    },
    {
      "cell_type": "code",
      "metadata": {
        "colab": {
          "base_uri": "https://localhost:8080/"
        },
        "id": "lk0Xk82YVZWJ",
        "outputId": "da543b65-347a-40bf-a5c3-0a90d94bb9ca"
      },
      "source": [
        "Dic_1= coll.Counter(sample_1)\n",
        "valores_1=Dic_1.values()\n",
        "llaves_1=Dic_1.keys()\n",
        "Ncell_1=[]\n",
        "Edad_1=[]\n",
        "for i in valores_1:\n",
        "  Ncell_1.append(i)\n",
        "print('Numero de celulas',Ncell_1)\n",
        "for j in llaves_1:\n",
        "  Edad_1.append(j)\n",
        "print('Edades',Edad_1)\n",
        "print(sum(Ncell_1))"
      ],
      "execution_count": null,
      "outputs": [
        {
          "output_type": "stream",
          "text": [
            "Numero de celulas [4, 28, 85, 2, 8, 43, 6, 4]\n",
            "Edades [6, 2, 0, 5, 4, 1, 3, 7]\n",
            "180\n"
          ],
          "name": "stdout"
        }
      ]
    },
    {
      "cell_type": "code",
      "metadata": {
        "colab": {
          "base_uri": "https://localhost:8080/",
          "height": 295
        },
        "id": "LT3l6BgeS-xg",
        "outputId": "805ed7a1-cfdc-4d95-f02f-ebf601acaccd"
      },
      "source": [
        "fig, ax = plt.subplots()  \n",
        "ax.set_ylabel('Número de celulas')\n",
        "ax.set_xlabel('Edad')\n",
        "ax.set_title('Distribucion de edades final ')\n",
        "plt.bar(Edad_1, Ncell_1)\n",
        "#plt.savefig('Distribucion de edades .png')\n",
        "plt.show()"
      ],
      "execution_count": null,
      "outputs": [
        {
          "output_type": "display_data",
          "data": {
            "image/png": "[encoded data removed]",
            "text/plain": [
              "<Figure size 432x288 with 1 Axes>"
            ]
          },
          "metadata": {
            "tags": [],
            "needs_background": "light"
          }
        }
      ]
    },
    {
      "cell_type": "markdown",
      "metadata": {
        "id": "XjREmh0HYOCi"
      },
      "source": [
        "\n",
        "\n",
        "---\n",
        "\n",
        "\n",
        "\n",
        "---\n",
        "\n"
      ]
    },
    {
      "cell_type": "code",
      "metadata": {
        "colab": {
          "base_uri": "https://localhost:8080/"
        },
        "id": "vN2OTiBuYPtD",
        "outputId": "2ac2fc13-215c-4047-adb6-7e39ba443a4f"
      },
      "source": [
        "#Porcentaje de las edades dentro de la distribucion \n",
        "per_cell=[]\n",
        "for i in range(len(Edad_1)):\n",
        "  per_c=(Ncell_1[i]*100)/180\n",
        "  per_cell.append(per_c)\n",
        "print(per_cell)\n",
        "print(Edad_1)"
      ],
      "execution_count": null,
      "outputs": [
        {
          "output_type": "stream",
          "text": [
            "[2.2222222222222223, 15.555555555555555, 47.22222222222222, 1.1111111111111112, 4.444444444444445, 23.88888888888889, 3.3333333333333335, 2.2222222222222223]\n",
            "[6, 2, 0, 5, 4, 1, 3, 7]\n"
          ],
          "name": "stdout"
        }
      ]
    },
    {
      "cell_type": "markdown",
      "metadata": {
        "id": "KkUHagK0hUYz"
      },
      "source": [
        "\n",
        "\n",
        "---\n",
        "\n",
        "\n",
        "\n",
        "---\n",
        "\n"
      ]
    },
    {
      "cell_type": "markdown",
      "metadata": {
        "id": "WKHn93MiPq-x"
      },
      "source": [
        "## Datos"
      ]
    },
    {
      "cell_type": "code",
      "metadata": {
        "id": "Scr_Q_i8Pnt6"
      },
      "source": [
        "x=[0,11,12,13,14,15,16,17,18,19,21,25,26,27,28,35] # Generaciones\n",
        "y=[1,1,1,1,1,0.96,0.79,0.58,0.51,0.40,0.34,0,0,0,0,0] # Fracción de células viables "
      ],
      "execution_count": null,
      "outputs": []
    },
    {
      "cell_type": "code",
      "metadata": {
        "colab": {
          "base_uri": "https://localhost:8080/",
          "height": 331
        },
        "id": "ASjNHoaVQP3i",
        "outputId": "708462cb-2e05-401b-b979-c66a67923e2a"
      },
      "source": [
        "#fit\n",
        "xa=np.array(x)\n",
        "ya=np.array(y)\n",
        "def fsigmoid(x,a,b):\n",
        "  return np.exp(a+b*x)/( 1+ np.exp(a+b*x))\n",
        "xdata = np.linspace(0, 35, 35)\n",
        "ydata = np.random.normal(size=len(xdata))\n",
        "popt, pcov = curve_fit(fsigmoid, xa, ya)\n",
        "a=curve_fit(fsigmoid,xa,ya)\n",
        "print('popt',popt,'pcov', pcov)\n",
        "plt.figure()\n",
        "plt.plot(xa, fsigmoid(xa, *popt), 'r-', label='fit')\n",
        "plt.plot(x,y)\n",
        "plt.title('RLS')\n",
        "plt.ylabel('Fracción de células viables ')\n",
        "plt.xlabel('Generaciones')\n",
        "plt.legend(loc=4)\n",
        "plt.plot(xa, ya, 'b-', label='data')\n",
        "plt.show()"
      ],
      "execution_count": null,
      "outputs": [
        {
          "output_type": "stream",
          "text": [
            "popt [10.01643518 -0.54299728] pcov [[ 1.54072518 -0.08542983]\n",
            " [-0.08542983  0.00478655]]\n"
          ],
          "name": "stdout"
        },
        {
          "output_type": "display_data",
          "data": {
            "image/png": "[encoded data removed]",
            "text/plain": [
              "<Figure size 432x288 with 1 Axes>"
            ]
          },
          "metadata": {
            "tags": [],
            "needs_background": "light"
          }
        }
      ]
    },
    {
      "cell_type": "markdown",
      "metadata": {
        "id": "xO1V4P3TTkUu"
      },
      "source": [
        "\n",
        "\n",
        "---\n",
        "\n"
      ]
    },
    {
      "cell_type": "markdown",
      "metadata": {
        "id": "tjxvBkYlBojq"
      },
      "source": [
        "## Simulacion de la curva de envejecimiento\n"
      ]
    },
    {
      "cell_type": "code",
      "metadata": {
        "colab": {
          "base_uri": "https://localhost:8080/"
        },
        "id": "oxwKgsaGBptH",
        "outputId": "10134324-25b5-4b06-88c5-91dfd99265ce"
      },
      "source": [
        "R=[]#Me crea una lista de numeros aleatorios entre cero y uno \n",
        "for i in range(n_cell):\n",
        "  r=random.random()\n",
        "  R.append(r)\n",
        "print(R)\n",
        "print(len(R))"
      ],
      "execution_count": null,
      "outputs": [
        {
          "output_type": "stream",
          "text": [
            "[0.6930293185006087, 0.12305742803990105, 0.16020791538808687, 0.2843383314600424, 0.08319143480639235, 0.5534588436583601, 0.1811788063512546, 0.3495006291883268, 0.5210040891484451, 0.9779066503487716, 0.9769676122868691, 0.8153287127946869, 0.5898656839470493, 0.8581122079451363, 0.7316639761169206, 0.04253629910339296, 0.12147550192812373, 0.7474277592593199, 0.6286466083216604, 0.26403887335372145, 0.9603530494203295, 0.3759973874897494, 0.3584262370439638, 0.2414429604810835, 0.03129983794602853, 0.2184431861106313, 0.9677753915661755, 0.9935469932586452, 0.24552587933642556, 0.7501428271073164, 0.08189503774598084, 0.048670180155151344, 0.6498656739209442, 0.3000844900223145, 0.7041171717567289, 0.4722465326778168, 0.2174083933857196, 0.7164422115077435, 0.9266118461670086, 0.5497132904726686, 0.2635674723922694, 0.5608141439150078, 0.7461475711614528, 0.45220653429049296, 0.07498123540648804, 0.9425503934047137, 0.2914495560421727, 0.9456813146921395, 0.6192719476671833, 0.3529929923211881, 0.8011468542195082, 0.5475378405580393, 0.8982963763256124, 0.7847953283243375, 0.7770307626740252, 0.6390382380844543, 0.45157730901657245, 0.07402910065708146, 0.28857585376971984, 0.652146006291628, 0.5545623661726385, 0.46211347175564454, 0.690241580937868, 0.8216067311221442, 0.08036679764735233, 0.2726829180133682, 0.8020237687391699, 0.335079971865229, 0.22483503672424054, 0.009206282456582615, 0.6135616378283235, 0.6353316138676369, 0.545989785423391, 0.1837036694565578, 0.5455792791584059, 0.4425159149285144, 0.6339550424690215, 0.09605516194657748, 0.2891297520913534, 0.38950408865485175, 0.1579136165923053, 0.6418042236609429, 0.13433066185873732, 0.7717578618791426, 0.29154099849326776, 0.2125197587266785, 0.3915656985603121, 0.1811989382410345, 0.38455935560684507, 0.6720452231423346, 0.7451404872900247, 0.3077507110808788, 0.34459860365667894, 0.5224886430893567, 0.02768553784916905, 0.5550920686512097, 0.06999198846874066, 0.6947707707570532, 0.9935386846428543, 0.09322844170230726, 0.9309015218304045, 0.5999000064612392, 0.7086704200482185, 0.9255999670036, 0.8959889950033088, 0.5213392439468483, 0.7900610113391437, 0.919088114471567, 0.296343886758078, 0.9834390206642092, 0.731554572368013, 0.7907087484309193, 0.9670459754295903, 0.09603406790575453, 0.06097079436630459, 0.5235763012195099, 0.4538336021654765, 0.6617079058626976, 0.958192175105891, 0.9563608995005893, 0.459678800215896, 0.5419721669956762, 0.8518971210337968, 0.275478066272581, 0.943273234003697, 0.4561195830716862, 0.7060748377541978, 0.23764918594760664, 0.5503456677609512, 0.849780600561647, 0.36445344787874423, 0.0494327779704401, 0.6245667267911758, 0.7409341063787491, 0.7361463922176494, 0.3551509005848179, 0.5697536274632474, 0.37393942229757127, 0.4894168152247297, 0.5839430652423502, 0.6593714720753265, 0.4382702551148886, 0.5291673227632683, 0.5508242630864192, 0.5109737859224577, 0.3177240341975901, 0.13189313828112592, 0.6933279125265409, 0.082985030263516, 0.4045361603300165, 0.6308578553737771, 0.06972703583281137, 0.25791349522684537, 0.2276846803413901, 0.2756455134150507, 0.7955578980264418, 0.9427444144941719, 0.3232240329593622, 0.4687788978262579, 0.004656564024484333, 0.8230415177859025, 0.6526621886566101, 0.08993663262544727, 0.07966285132809547, 0.016322564654418836, 0.047640645749398636, 0.22114251027570897, 0.7620640619111011, 0.9855192971214084, 0.9262495936599623, 0.09156306262041969, 0.11569941450936516, 0.6703385828403136, 0.12580214377926557, 0.8629960660184383, 0.1298449598685476, 0.01815124770588805, 0.5620248618945178, 0.7091589558330144, 0.6001100795632047]\n",
            "180\n"
          ],
          "name": "stdout"
        }
      ]
    },
    {
      "cell_type": "markdown",
      "metadata": {
        "id": "rql_sEsKFjUe"
      },
      "source": [
        "La ecuación inversa que utilizo para ajustar la curva \n",
        "$$f(x)=\\frac{ln\\left ( \\frac{1-x}{x} \\right )-a}{b}$$"
      ]
    },
    {
      "cell_type": "code",
      "metadata": {
        "colab": {
          "base_uri": "https://localhost:8080/"
        },
        "id": "kI2tPbVYBsep",
        "outputId": "84d11241-862d-449d-ccef-0ae18bad44ef"
      },
      "source": [
        "p=[]\n",
        "def inversa(x,a,b):\n",
        "  return (np.log((1-x)/x)-a)/b\n",
        "for i in R:\n",
        "  p1= inversa(i,popt[0],popt[1])\n",
        "  p.append(p1)\n",
        "print(p)"
      ],
      "execution_count": null,
      "outputs": [
        {
          "output_type": "stream",
          "text": [
            "[19.946242036402573, 14.829990974673715, 15.395571090884353, 16.74666295446875, 14.027106799607724, 18.841882477526042, 15.668685876750994, 17.30248105626034, 18.60138405253749, 25.42659636126246, 25.34816970930829, 21.181411898436433, 19.115832888783395, 21.76094404109123, 20.293870445871516, 12.711859503249629, 14.802843850933659, 20.44462442981371, 19.416027705307375, 16.558746227691273, 24.3163686461928, 17.513647138259596, 17.37436666574602, 16.338296175974445, 12.125462073365822, 16.098926390774018, 24.71228718131971, 27.722367706986635, 16.379117961263475, 20.471206203020973, 13.99557988444386, 12.971779240654731, 19.585519706013258, 16.886897779250386, 20.043224459188412, 18.24190910075411, 16.087744898489785, 20.153538812593613, 23.116519709738498, 18.813993790623982, 16.55427611018209, 18.89678339522283, 20.432156485549594, 18.093416228472748, 13.819330727437178, 23.59885914371447, 16.810546100220556, 23.708171156889158, 19.342443622305737, 17.33070596406564, 21.01283598273675, 18.79781525717215, 22.458440716145372, 20.829328142966332, 20.745741554460206, 19.49849062730841, 18.088737716115965, 13.793900758174074, 16.784843372943364, 19.60400381889827, 18.85010757622063, 18.166938080045544, 19.922169892743195, 21.259234425092878, 13.957825645976547, 16.639829643185013, 21.022989969882875, 17.18450149576332, 16.16716427073266, 9.830279290504274, 19.297966763812582, 19.468962701738906, 18.786310835572813, 15.699860694379637, 18.783261262704862, 18.02122763999101, 19.458029314961866, 14.317915960288493, 16.78980925504428, 17.618942556380045, 15.363982444902279, 19.52061108486042, 15.015243731920496, 20.690156832996067, 16.811361510030665, 16.03439304612806, 17.634894034119643, 15.668935779842812, 17.58055723652186, 19.767843076264114, 20.422377474378276, 16.953637524000722, 17.262641766761185, 18.612340781932676, 11.8926305555806, 18.854057129979353, 13.68261497922232, 19.961341259994647, 27.719982627466, 14.257156906812973, 23.23594675506405, 19.19251528940672, 20.08365580166487, 23.089288501895382, 22.412389470764577, 18.603857411569045, 20.887265439704194, 22.921765590395047, 16.853981146029955, 25.967793864651057, 20.29284435022537, 20.89446556673048, 24.669677418223706, 14.317468512762861, 13.410718227898347, 18.620370077792515, 18.105508825479106, 19.68214211616667, 24.21448581190409, 24.132012038544488, 18.148892614322783, 18.756484027055233, 21.668605251645108, 16.66570244596859, 23.623589651277367, 18.122486238760356, 20.0605630276403, 16.299941438358545, 18.818699321623487, 21.637891841382462, 17.42246039749231, 13.001888294273051, 19.38391391217656, 20.38180441663018, 20.33614178827425, 17.348082398542836, 18.96378034248237, 17.497475852561895, 18.3685930306138, 19.070844124644886, 19.662952372003737, 17.98950080335604, 18.661671778160695, 18.822261362386975, 18.527417501885147, 17.039098412464966, 14.976340847483971, 19.948827584979405, 14.02211732596774, 17.734592669328304, 19.433493100764405, 13.675105722113216, 16.500254921594824, 16.1971417289121, 16.667247201460757, 20.948896683368414, 23.605468350128945, 17.08561137854457, 18.216275443465022, 8.566571740469323, 21.27731949280261, 19.608195750981793, 14.184281438116995, 13.940214274488193, 10.898186440377378, 12.93041283368464, 16.127915725973416, 20.590276733834198, 26.21889168182055, 23.106731458629376, 14.22058247345875, 14.701056456559623, 19.753601572164044, 14.876389037268646, 21.835902373671917, 14.943177703551243, 11.09717744435476, 18.905838818446075, 20.088015782043396, 19.194127283264145]\n"
          ],
          "name": "stdout"
        }
      ]
    },
    {
      "cell_type": "code",
      "metadata": {
        "colab": {
          "base_uri": "https://localhost:8080/"
        },
        "id": "EIfYFhhfS_Iy",
        "outputId": "8be8d428-6d1e-4d20-d67e-4350ae969419"
      },
      "source": [
        "#RLS promedio \n",
        "RLSmean1=statistics.mean(p)\n",
        "print(RLSmean1)"
      ],
      "execution_count": null,
      "outputs": [
        {
          "output_type": "stream",
          "text": [
            "18.39147631212312\n"
          ],
          "name": "stdout"
        }
      ]
    },
    {
      "cell_type": "markdown",
      "metadata": {
        "id": "wypgQX1JRcBB"
      },
      "source": [
        "La siguiente celda de código es para restar la distribución de edades hallada, para esto, se divide la lista “p” según la cantidad de edades presentes en la distribución, y la cantidad de elementos dentro de la lista vienen dada por la cantidad de células en cada edad. Luego de esto se resta los valores de la edad a la respectiva lista. "
      ]
    },
    {
      "cell_type": "markdown",
      "metadata": {
        "id": "tQQokXjuZ6n2"
      },
      "source": [
        "Es posible que se presente un error cuando hay mas listas definidas que edades en la distribución, cuando suceda esto por favor comentar la lista donde se presenta el error y verificar que la suma sea igual al valor de n_cell "
      ]
    },
    {
      "cell_type": "code",
      "metadata": {
        "colab": {
          "base_uri": "https://localhost:8080/"
        },
        "id": "G3k_SraYM0AQ",
        "outputId": "be6882f5-36b1-439b-ffe0-e9a11c07de14"
      },
      "source": [
        "p_1=p[0:Ncell_1[0]]\n",
        "p_2=p[Ncell_1[0]:Ncell_1[1]+Ncell_1[0]]\n",
        "p_3=p[Ncell_1[1]+Ncell_1[0]:(Ncell_1[2]+Ncell_1[1]+Ncell_1[0])]\n",
        "p_4=p[(Ncell_1[2]+Ncell_1[1]+Ncell_1[0]):(Ncell_1[2]+Ncell_1[1]+Ncell_1[3]+Ncell_1[0])]\n",
        "p_5=p[(Ncell_1[2]+Ncell_1[1]+Ncell_1[3]+Ncell_1[0]):(Ncell_1[2]+Ncell_1[1]+Ncell_1[3]+Ncell_1[4]+Ncell_1[0])]\n",
        "p_6=p[(Ncell_1[2]+Ncell_1[1]+Ncell_1[3]+Ncell_1[4]+Ncell_1[0]):(Ncell_1[2]+Ncell_1[1]+Ncell_1[3]+Ncell_1[4]+Ncell_1[5]+Ncell_1[0])]\n",
        "p_7=p[(Ncell_1[2]+Ncell_1[1]+Ncell_1[3]+Ncell_1[4]+Ncell_1[5]+Ncell_1[0]):(Ncell_1[2]+Ncell_1[1]+Ncell_1[3]+Ncell_1[4]+Ncell_1[5]+Ncell_1[6]+Ncell_1[0])]\n",
        "p_8=p[(Ncell_1[2]+Ncell_1[1]+Ncell_1[3]+Ncell_1[4]+Ncell_1[5]+Ncell_1[6]+Ncell_1[0]):(Ncell_1[2]+Ncell_1[1]+Ncell_1[3]+Ncell_1[4]+Ncell_1[5]+Ncell_1[6]+Ncell_1[0]+Ncell_1[7])]\n",
        "#p_9=p[(Ncell_1[2]+Ncell_1[1]+Ncell_1[3]+Ncell_1[4]+Ncell_1[5]+Ncell_1[6]+Ncell_1[0]+Ncell_1[7]):(Ncell_1[2]+Ncell_1[1]+Ncell_1[3]+Ncell_1[4]+Ncell_1[5]+Ncell_1[6]+Ncell_1[0]+Ncell_1[7]+Ncell_1[8])]\n",
        "print(len(p_1)+len(p_2)+len(p_3)+len(p_4)+len(p_5)+len(p_6)+len(p_7)+len(p_8))#+len(p_9))"
      ],
      "execution_count": null,
      "outputs": [
        {
          "output_type": "stream",
          "text": [
            "180\n"
          ],
          "name": "stdout"
        }
      ]
    },
    {
      "cell_type": "code",
      "metadata": {
        "colab": {
          "base_uri": "https://localhost:8080/"
        },
        "id": "2hUvlDVQR_tm",
        "outputId": "cee6a282-1a41-47fa-8d4f-db7aeb1e72e9"
      },
      "source": [
        "dp_1=[]\n",
        "for i in range(len(p_1)):\n",
        "  d=p_1[i]-Edad_1[0]\n",
        "  dp_1.append(d)\n",
        "print(dp_1)\n",
        "len(dp_1)"
      ],
      "execution_count": null,
      "outputs": [
        {
          "output_type": "stream",
          "text": [
            "[13.946242036402573, 8.829990974673715, 9.395571090884353, 10.74666295446875]\n"
          ],
          "name": "stdout"
        },
        {
          "output_type": "execute_result",
          "data": {
            "text/plain": [
              "4"
            ]
          },
          "metadata": {
            "tags": []
          },
          "execution_count": 33
        }
      ]
    },
    {
      "cell_type": "code",
      "metadata": {
        "colab": {
          "base_uri": "https://localhost:8080/"
        },
        "id": "zYtf3e1ES6IA",
        "outputId": "f5e255da-03be-4fa1-baf3-f1e7f00b49d0"
      },
      "source": [
        "dp_2=[]\n",
        "for i in range(len(p_2)):\n",
        "  d=p_2[i]-Edad_1[1]\n",
        "  dp_2.append(d)\n",
        "print(dp_2)\n",
        "len(dp_2)"
      ],
      "execution_count": null,
      "outputs": [
        {
          "output_type": "stream",
          "text": [
            "[12.027106799607724, 16.841882477526042, 13.668685876750994, 15.30248105626034, 16.60138405253749, 23.42659636126246, 23.34816970930829, 19.181411898436433, 17.115832888783395, 19.76094404109123, 18.293870445871516, 10.711859503249629, 12.802843850933659, 18.44462442981371, 17.416027705307375, 14.558746227691273, 22.3163686461928, 15.513647138259596, 15.37436666574602, 14.338296175974445, 10.125462073365822, 14.098926390774018, 22.71228718131971, 25.722367706986635, 14.379117961263475, 18.471206203020973, 11.99557988444386, 10.971779240654731]\n"
          ],
          "name": "stdout"
        },
        {
          "output_type": "execute_result",
          "data": {
            "text/plain": [
              "28"
            ]
          },
          "metadata": {
            "tags": []
          },
          "execution_count": 34
        }
      ]
    },
    {
      "cell_type": "code",
      "metadata": {
        "colab": {
          "base_uri": "https://localhost:8080/"
        },
        "id": "a5n9k0CBS8jq",
        "outputId": "15d913c3-5587-4be5-b285-ba4cd615ea27"
      },
      "source": [
        "dp_3=[]\n",
        "for i in range(len(p_3)):\n",
        "  d=p_3[i]-Edad_1[2]\n",
        "  dp_3.append(d)\n",
        "print(dp_3)\n",
        "len(dp_3)"
      ],
      "execution_count": null,
      "outputs": [
        {
          "output_type": "stream",
          "text": [
            "[19.585519706013258, 16.886897779250386, 20.043224459188412, 18.24190910075411, 16.087744898489785, 20.153538812593613, 23.116519709738498, 18.813993790623982, 16.55427611018209, 18.89678339522283, 20.432156485549594, 18.093416228472748, 13.819330727437178, 23.59885914371447, 16.810546100220556, 23.708171156889158, 19.342443622305737, 17.33070596406564, 21.01283598273675, 18.79781525717215, 22.458440716145372, 20.829328142966332, 20.745741554460206, 19.49849062730841, 18.088737716115965, 13.793900758174074, 16.784843372943364, 19.60400381889827, 18.85010757622063, 18.166938080045544, 19.922169892743195, 21.259234425092878, 13.957825645976547, 16.639829643185013, 21.022989969882875, 17.18450149576332, 16.16716427073266, 9.830279290504274, 19.297966763812582, 19.468962701738906, 18.786310835572813, 15.699860694379637, 18.783261262704862, 18.02122763999101, 19.458029314961866, 14.317915960288493, 16.78980925504428, 17.618942556380045, 15.363982444902279, 19.52061108486042, 15.015243731920496, 20.690156832996067, 16.811361510030665, 16.03439304612806, 17.634894034119643, 15.668935779842812, 17.58055723652186, 19.767843076264114, 20.422377474378276, 16.953637524000722, 17.262641766761185, 18.612340781932676, 11.8926305555806, 18.854057129979353, 13.68261497922232, 19.961341259994647, 27.719982627466, 14.257156906812973, 23.23594675506405, 19.19251528940672, 20.08365580166487, 23.089288501895382, 22.412389470764577, 18.603857411569045, 20.887265439704194, 22.921765590395047, 16.853981146029955, 25.967793864651057, 20.29284435022537, 20.89446556673048, 24.669677418223706, 14.317468512762861, 13.410718227898347, 18.620370077792515, 18.105508825479106]\n"
          ],
          "name": "stdout"
        },
        {
          "output_type": "execute_result",
          "data": {
            "text/plain": [
              "85"
            ]
          },
          "metadata": {
            "tags": []
          },
          "execution_count": 35
        }
      ]
    },
    {
      "cell_type": "code",
      "metadata": {
        "colab": {
          "base_uri": "https://localhost:8080/"
        },
        "id": "VQJ758dvTJYn",
        "outputId": "f8064b24-e3dd-4dff-9af5-1abcc93f01b1"
      },
      "source": [
        "dp_4=[]\n",
        "for i in range(len(p_4)):\n",
        "  d=p_4[i]-Edad_1[3]\n",
        "  dp_4.append(d)\n",
        "#dp_4=[dp_3-Edad[3]]\n",
        "print(dp_4)\n",
        "len(dp_4)"
      ],
      "execution_count": null,
      "outputs": [
        {
          "output_type": "stream",
          "text": [
            "[14.68214211616667, 19.21448581190409]\n"
          ],
          "name": "stdout"
        },
        {
          "output_type": "execute_result",
          "data": {
            "text/plain": [
              "2"
            ]
          },
          "metadata": {
            "tags": []
          },
          "execution_count": 36
        }
      ]
    },
    {
      "cell_type": "code",
      "metadata": {
        "colab": {
          "base_uri": "https://localhost:8080/"
        },
        "id": "s8MQnvAOTSDY",
        "outputId": "b9fdd86b-732f-4f99-fa3b-1b52c8e1780a"
      },
      "source": [
        "dp_5=[]\n",
        "for i in range(len(p_5)):\n",
        "  d=p_5[i]-Edad_1[4]\n",
        "  dp_5.append(d)\n",
        "print(dp_5)\n",
        "len(dp_5)"
      ],
      "execution_count": null,
      "outputs": [
        {
          "output_type": "stream",
          "text": [
            "[20.132012038544488, 14.148892614322783, 14.756484027055233, 17.668605251645108, 12.665702445968591, 19.623589651277367, 14.122486238760356, 16.0605630276403]\n"
          ],
          "name": "stdout"
        },
        {
          "output_type": "execute_result",
          "data": {
            "text/plain": [
              "8"
            ]
          },
          "metadata": {
            "tags": []
          },
          "execution_count": 37
        }
      ]
    },
    {
      "cell_type": "code",
      "metadata": {
        "colab": {
          "base_uri": "https://localhost:8080/"
        },
        "id": "goADsN_3TT4g",
        "outputId": "190baf1b-2662-4ed8-8150-808fc35ed48c"
      },
      "source": [
        "dp_6=[]\n",
        "for i in range(len(p_6)):\n",
        "  d=p_6[i]-Edad_1[5]\n",
        "  dp_6.append(d)\n",
        "print(dp_6)\n",
        "len(dp_6)"
      ],
      "execution_count": null,
      "outputs": [
        {
          "output_type": "stream",
          "text": [
            "[15.299941438358545, 17.818699321623487, 20.637891841382462, 16.42246039749231, 12.001888294273051, 18.38391391217656, 19.38180441663018, 19.33614178827425, 16.348082398542836, 17.96378034248237, 16.497475852561895, 17.3685930306138, 18.070844124644886, 18.662952372003737, 16.98950080335604, 17.661671778160695, 17.822261362386975, 17.527417501885147, 16.039098412464966, 13.976340847483971, 18.948827584979405, 13.02211732596774, 16.734592669328304, 18.433493100764405, 12.675105722113216, 15.500254921594824, 15.1971417289121, 15.667247201460757, 19.948896683368414, 22.605468350128945, 16.08561137854457, 17.216275443465022, 7.566571740469323, 20.27731949280261, 18.608195750981793, 13.184281438116995, 12.940214274488193, 9.898186440377378, 11.93041283368464, 15.127915725973416, 19.590276733834198, 25.21889168182055, 22.106731458629376]\n"
          ],
          "name": "stdout"
        },
        {
          "output_type": "execute_result",
          "data": {
            "text/plain": [
              "43"
            ]
          },
          "metadata": {
            "tags": []
          },
          "execution_count": 38
        }
      ]
    },
    {
      "cell_type": "code",
      "metadata": {
        "colab": {
          "base_uri": "https://localhost:8080/"
        },
        "id": "bxtg0UX9TV0A",
        "outputId": "e2ecad27-fa08-46ab-e701-41a320bb6e41"
      },
      "source": [
        "dp_7=[]\n",
        "for i in range(len(p_7)):\n",
        "  d=p_7[i]-Edad_1[6]\n",
        "  dp_7.append(d)\n",
        "print(dp_7)\n",
        "len(dp_7)"
      ],
      "execution_count": null,
      "outputs": [
        {
          "output_type": "stream",
          "text": [
            "[11.22058247345875, 11.701056456559623, 16.753601572164044, 11.876389037268646, 18.835902373671917, 11.943177703551243]\n"
          ],
          "name": "stdout"
        },
        {
          "output_type": "execute_result",
          "data": {
            "text/plain": [
              "6"
            ]
          },
          "metadata": {
            "tags": []
          },
          "execution_count": 39
        }
      ]
    },
    {
      "cell_type": "code",
      "metadata": {
        "colab": {
          "base_uri": "https://localhost:8080/"
        },
        "id": "LPPAsjLOTX1Y",
        "outputId": "9fd4056e-5b38-4fb2-d948-c31cfdef4f28"
      },
      "source": [
        "dp_8=[]\n",
        "for i in range(len(p_8)):\n",
        "  d=p_8[i]-Edad_1[7]\n",
        "  dp_8.append(d)\n",
        "print(dp_8)\n",
        "print(Edad_1[7])\n",
        "len(dp_8)"
      ],
      "execution_count": null,
      "outputs": [
        {
          "output_type": "stream",
          "text": [
            "[4.0971774443547595, 11.905838818446075, 13.088015782043396, 12.194127283264145]\n",
            "7\n"
          ],
          "name": "stdout"
        },
        {
          "output_type": "execute_result",
          "data": {
            "text/plain": [
              "4"
            ]
          },
          "metadata": {
            "tags": []
          },
          "execution_count": 40
        }
      ]
    },
    {
      "cell_type": "code",
      "metadata": {
        "colab": {
          "base_uri": "https://localhost:8080/"
        },
        "id": "W6W8xWlDTajo",
        "outputId": "c0bf20b2-253a-458f-91fa-80a355b3396c"
      },
      "source": [
        "dp_9=[]\n",
        "for i in range(len(p_9)):\n",
        "  d=p_9[i]-Edad_1[8]\n",
        "  dp_9.append(d)\n",
        "print(dp_9)\n",
        "len(dp_9)"
      ],
      "execution_count": null,
      "outputs": [
        {
          "output_type": "stream",
          "text": [
            "[14.06081066323198]\n"
          ],
          "name": "stdout"
        },
        {
          "output_type": "execute_result",
          "data": {
            "text/plain": [
              "1"
            ]
          },
          "metadata": {
            "tags": []
          },
          "execution_count": 1013
        }
      ]
    },
    {
      "cell_type": "code",
      "metadata": {
        "colab": {
          "base_uri": "https://localhost:8080/"
        },
        "id": "bR3m0z0xTmm_",
        "outputId": "b62d24eb-9332-4781-931d-592a5abbe679"
      },
      "source": [
        "listaobservada=dp_1+dp_2+dp_3+dp_4+dp_5+dp_6+dp_7+dp_8#+dp_9\n",
        "print(listaobservada)\n",
        "len(listaobservada)"
      ],
      "execution_count": null,
      "outputs": [
        {
          "output_type": "stream",
          "text": [
            "[13.946242036402573, 8.829990974673715, 9.395571090884353, 10.74666295446875, 12.027106799607724, 16.841882477526042, 13.668685876750994, 15.30248105626034, 16.60138405253749, 23.42659636126246, 23.34816970930829, 19.181411898436433, 17.115832888783395, 19.76094404109123, 18.293870445871516, 10.711859503249629, 12.802843850933659, 18.44462442981371, 17.416027705307375, 14.558746227691273, 22.3163686461928, 15.513647138259596, 15.37436666574602, 14.338296175974445, 10.125462073365822, 14.098926390774018, 22.71228718131971, 25.722367706986635, 14.379117961263475, 18.471206203020973, 11.99557988444386, 10.971779240654731, 19.585519706013258, 16.886897779250386, 20.043224459188412, 18.24190910075411, 16.087744898489785, 20.153538812593613, 23.116519709738498, 18.813993790623982, 16.55427611018209, 18.89678339522283, 20.432156485549594, 18.093416228472748, 13.819330727437178, 23.59885914371447, 16.810546100220556, 23.708171156889158, 19.342443622305737, 17.33070596406564, 21.01283598273675, 18.79781525717215, 22.458440716145372, 20.829328142966332, 20.745741554460206, 19.49849062730841, 18.088737716115965, 13.793900758174074, 16.784843372943364, 19.60400381889827, 18.85010757622063, 18.166938080045544, 19.922169892743195, 21.259234425092878, 13.957825645976547, 16.639829643185013, 21.022989969882875, 17.18450149576332, 16.16716427073266, 9.830279290504274, 19.297966763812582, 19.468962701738906, 18.786310835572813, 15.699860694379637, 18.783261262704862, 18.02122763999101, 19.458029314961866, 14.317915960288493, 16.78980925504428, 17.618942556380045, 15.363982444902279, 19.52061108486042, 15.015243731920496, 20.690156832996067, 16.811361510030665, 16.03439304612806, 17.634894034119643, 15.668935779842812, 17.58055723652186, 19.767843076264114, 20.422377474378276, 16.953637524000722, 17.262641766761185, 18.612340781932676, 11.8926305555806, 18.854057129979353, 13.68261497922232, 19.961341259994647, 27.719982627466, 14.257156906812973, 23.23594675506405, 19.19251528940672, 20.08365580166487, 23.089288501895382, 22.412389470764577, 18.603857411569045, 20.887265439704194, 22.921765590395047, 16.853981146029955, 25.967793864651057, 20.29284435022537, 20.89446556673048, 24.669677418223706, 14.317468512762861, 13.410718227898347, 18.620370077792515, 18.105508825479106, 14.68214211616667, 19.21448581190409, 20.132012038544488, 14.148892614322783, 14.756484027055233, 17.668605251645108, 12.665702445968591, 19.623589651277367, 14.122486238760356, 16.0605630276403, 15.299941438358545, 17.818699321623487, 20.637891841382462, 16.42246039749231, 12.001888294273051, 18.38391391217656, 19.38180441663018, 19.33614178827425, 16.348082398542836, 17.96378034248237, 16.497475852561895, 17.3685930306138, 18.070844124644886, 18.662952372003737, 16.98950080335604, 17.661671778160695, 17.822261362386975, 17.527417501885147, 16.039098412464966, 13.976340847483971, 18.948827584979405, 13.02211732596774, 16.734592669328304, 18.433493100764405, 12.675105722113216, 15.500254921594824, 15.1971417289121, 15.667247201460757, 19.948896683368414, 22.605468350128945, 16.08561137854457, 17.216275443465022, 7.566571740469323, 20.27731949280261, 18.608195750981793, 13.184281438116995, 12.940214274488193, 9.898186440377378, 11.93041283368464, 15.127915725973416, 19.590276733834198, 25.21889168182055, 22.106731458629376, 11.22058247345875, 11.701056456559623, 16.753601572164044, 11.876389037268646, 18.835902373671917, 11.943177703551243, 4.0971774443547595, 11.905838818446075, 13.088015782043396, 12.194127283264145]\n"
          ],
          "name": "stdout"
        },
        {
          "output_type": "execute_result",
          "data": {
            "text/plain": [
              "180"
            ]
          },
          "metadata": {
            "tags": []
          },
          "execution_count": 41
        }
      ]
    },
    {
      "cell_type": "code",
      "metadata": {
        "colab": {
          "base_uri": "https://localhost:8080/"
        },
        "id": "OaG2_LLFS2b8",
        "outputId": "efd9e8e5-77f2-4811-efff-297eed49ee56"
      },
      "source": [
        "#RLS promedio \n",
        "RLSmean2=statistics.mean(listaobservada)\n",
        "print(RLSmean2)"
      ],
      "execution_count": null,
      "outputs": [
        {
          "output_type": "stream",
          "text": [
            "17.2192540899009\n"
          ],
          "name": "stdout"
        }
      ]
    },
    {
      "cell_type": "markdown",
      "metadata": {
        "id": "u9zD4BZ8TnYg"
      },
      "source": [
        "## Simulación de la curva de RLS sin la distribución de edades  "
      ]
    },
    {
      "cell_type": "code",
      "metadata": {
        "colab": {
          "base_uri": "https://localhost:8080/"
        },
        "id": "nI2Pu6NUTvUw",
        "outputId": "38b99f67-f506-4e2f-8055-ba754551bd1e"
      },
      "source": [
        "l=[1,2,3,4,5,6,7,8,9,10,11,12,13,14,15,16,17,18,19,20,21,22,23,24,25,26,27,28,29,30]# lista de tiempos en los que se grafica \n",
        "d=[] # lista donde se van a guardar los datos de las celulas viables \n",
        "for i in x: \n",
        "  num=0  \n",
        "  for j in p:\n",
        "    if j>i:\n",
        "      num=num+1\n",
        "  d.append(num)\n",
        "print(d)\n",
        "for i in range(len(d)):  \n",
        "    d[i] /= len(listaobservada)\n",
        "print(d)"
      ],
      "execution_count": null,
      "outputs": [
        {
          "output_type": "stream",
          "text": [
            "[180, 177, 175, 171, 162, 149, 143, 120, 104, 75, 31, 6, 3, 2, 0, 0]\n",
            "[1.0, 0.9833333333333333, 0.9722222222222222, 0.95, 0.9, 0.8277777777777777, 0.7944444444444444, 0.6666666666666666, 0.5777777777777777, 0.4166666666666667, 0.17222222222222222, 0.03333333333333333, 0.016666666666666666, 0.011111111111111112, 0.0, 0.0]\n"
          ],
          "name": "stdout"
        }
      ]
    },
    {
      "cell_type": "code",
      "metadata": {
        "colab": {
          "base_uri": "https://localhost:8080/",
          "height": 295
        },
        "id": "v6G3rEPvTycZ",
        "outputId": "c2c9d9d6-bfd7-4ced-cdee-e780835c15db"
      },
      "source": [
        "plt.plot(x,d) \n",
        "plt.xlabel('Generaciones')\n",
        "plt.ylabel(' Fracción de células viables  ')\n",
        "plt.title('RLS ')\n",
        "plt.show()"
      ],
      "execution_count": null,
      "outputs": [
        {
          "output_type": "display_data",
          "data": {
            "image/png": "[encoded data removed]",
            "text/plain": [
              "<Figure size 432x288 with 1 Axes>"
            ]
          },
          "metadata": {
            "tags": [],
            "needs_background": "light"
          }
        }
      ]
    },
    {
      "cell_type": "markdown",
      "metadata": {
        "id": "LWZ-KhtaT30Q"
      },
      "source": [
        "## Simulación de la curva de RLS con la distribución de edades"
      ]
    },
    {
      "cell_type": "code",
      "metadata": {
        "colab": {
          "base_uri": "https://localhost:8080/"
        },
        "id": "qkfhZr_eUOhf",
        "outputId": "29364a9c-3896-46b0-bb58-1b422ad0bb5c"
      },
      "source": [
        "l=[1,2,3,4,5,6,7,8,9,10,11,12,13,14,15,16,17,18,19,20,21,22,23,24,25,26,27,29,29,30]# lista de tiempos en los que se grafica \n",
        "viab=[] # lista donde se van a guardar los datos de las celulas viables \n",
        "for i in x:  \n",
        "  num=0 \n",
        "  for j in listaobservada:\n",
        "    if j>i:\n",
        "      num=num+1\n",
        "  viab.append(num)\n",
        "print(viab)\n",
        "for i in range(len(viab)): \n",
        "    viab[i] /= len(listaobservada)\n",
        "print(viab)"
      ],
      "execution_count": null,
      "outputs": [
        {
          "output_type": "stream",
          "text": [
            "[180, 170, 162, 155, 144, 133, 121, 98, 82, 56, 22, 4, 1, 1, 0, 0]\n",
            "[1.0, 0.9444444444444444, 0.9, 0.8611111111111112, 0.8, 0.7388888888888889, 0.6722222222222223, 0.5444444444444444, 0.45555555555555555, 0.3111111111111111, 0.12222222222222222, 0.022222222222222223, 0.005555555555555556, 0.005555555555555556, 0.0, 0.0]\n"
          ],
          "name": "stdout"
        }
      ]
    },
    {
      "cell_type": "code",
      "metadata": {
        "colab": {
          "base_uri": "https://localhost:8080/",
          "height": 295
        },
        "id": "y_0PHcI8T7Xh",
        "outputId": "38c43a8f-a722-45db-e244-d0e41238fc41"
      },
      "source": [
        "plt.plot(x,viab) \n",
        "plt.xlabel('Generaciones')\n",
        "plt.ylabel('Fracción de células viables ')\n",
        "plt.title('RLS Con la distribución ')\n",
        "plt.show() "
      ],
      "execution_count": null,
      "outputs": [
        {
          "output_type": "display_data",
          "data": {
            "image/png": "[encoded data removed]",
            "text/plain": [
              "<Figure size 432x288 with 1 Axes>"
            ]
          },
          "metadata": {
            "tags": [],
            "needs_background": "light"
          }
        }
      ]
    },
    {
      "cell_type": "markdown",
      "metadata": {
        "id": "xgk2cC3uUUg_"
      },
      "source": [
        "## Comparacion entre las simulaciones de las dos curvas de RLS "
      ]
    },
    {
      "cell_type": "code",
      "metadata": {
        "colab": {
          "base_uri": "https://localhost:8080/",
          "height": 295
        },
        "id": "uVwCWL4IUYaW",
        "outputId": "615df627-3e72-4959-aca6-ee38ef033ad3"
      },
      "source": [
        "plt.plot(x, viab, '--', label='distribucion de edades')# con distribucion de edades \n",
        "plt.plot(x, d, label=' virgenes')# virgenes sin distribucion \n",
        "plt.title('RLS')\n",
        "plt.ylabel('Fracción de células viables ')\n",
        "plt.xlabel('Generaciones')\n",
        "plt.legend(loc=3)\n",
        "plt.show()"
      ],
      "execution_count": null,
      "outputs": [
        {
          "output_type": "display_data",
          "data": {
            "image/png": "[encoded data removed]",
            "text/plain": [
              "<Figure size 432x288 with 1 Axes>"
            ]
          },
          "metadata": {
            "tags": [],
            "needs_background": "light"
          }
        }
      ]
    },
    {
      "cell_type": "markdown",
      "metadata": {
        "id": "x0YFGn6hVPo3"
      },
      "source": [
        "## Comparacion con los datos "
      ]
    },
    {
      "cell_type": "markdown",
      "metadata": {
        "id": "1JpGxJbTVU98"
      },
      "source": [
        "RLS sin la distribución de edades (virgenes)"
      ]
    },
    {
      "cell_type": "code",
      "metadata": {
        "colab": {
          "base_uri": "https://localhost:8080/",
          "height": 295
        },
        "id": "mJ097I8YVRqI",
        "outputId": "2717ecbc-16d9-4039-b867-0e30a8f3327e"
      },
      "source": [
        "plt.plot(x, d, '--', label='simulación') \n",
        "plt.plot(x, y, label=' datos ')\n",
        "plt.title('RLS')\n",
        "plt.ylabel('Fracción de células viables ')\n",
        "plt.xlabel('Generaciones')\n",
        "plt.legend(loc=3)\n",
        "plt.show()"
      ],
      "execution_count": null,
      "outputs": [
        {
          "output_type": "display_data",
          "data": {
            "image/png": "[encoded data removed]",
            "text/plain": [
              "<Figure size 432x288 with 1 Axes>"
            ]
          },
          "metadata": {
            "tags": [],
            "needs_background": "light"
          }
        }
      ]
    },
    {
      "cell_type": "markdown",
      "metadata": {
        "id": "tRJfteI8XIO-"
      },
      "source": [
        "Minimos cuadrados "
      ]
    },
    {
      "cell_type": "code",
      "metadata": {
        "colab": {
          "base_uri": "https://localhost:8080/"
        },
        "id": "KZiuw1MpXL0v",
        "outputId": "b3e7b8a4-1135-4f0f-e459-eeb728dcc061"
      },
      "source": [
        "error=[]\n",
        "for i in range(len(xa)):\n",
        "  r_1=ya[i]\n",
        "  r_t=(r_1-d[i])**2\n",
        "  error.append(r_t)\n",
        "print(error)\n",
        "print(sum(error))"
      ],
      "execution_count": null,
      "outputs": [
        {
          "output_type": "stream",
          "text": [
            "[0.0, 0.0002777777777777795, 0.0007716049382716057, 0.0025000000000000044, 0.009999999999999995, 0.017482716049382722, 1.9753086419752355e-05, 0.007511111111111112, 0.004593827160493819, 0.00027777777777777767, 0.02814938271604939, 0.0011111111111111111, 0.0002777777777777778, 0.0001234567901234568, 0.0, 0.0]\n",
            "0.07309629629629631\n"
          ],
          "name": "stdout"
        }
      ]
    },
    {
      "cell_type": "markdown",
      "metadata": {
        "id": "ZZcu8bjyVgom"
      },
      "source": [
        "RLS con la distribucion de edades"
      ]
    },
    {
      "cell_type": "code",
      "metadata": {
        "colab": {
          "base_uri": "https://localhost:8080/",
          "height": 295
        },
        "id": "d2zBHSVlVkpI",
        "outputId": "2890bb60-86ce-4b50-dde9-7491fd9e941b"
      },
      "source": [
        "plt.plot(x, viab, '--', label='simulacion') \n",
        "plt.plot(x, y, label=' datos ')\n",
        "plt.title('RLS')\n",
        "plt.ylabel('Fracción de células viables ')\n",
        "plt.xlabel('Generaciones')\n",
        "plt.legend(loc=3)\n",
        "plt.show()"
      ],
      "execution_count": null,
      "outputs": [
        {
          "output_type": "display_data",
          "data": {
            "image/png": "[encoded data removed]",
            "text/plain": [
              "<Figure size 432x288 with 1 Axes>"
            ]
          },
          "metadata": {
            "tags": [],
            "needs_background": "light"
          }
        }
      ]
    },
    {
      "cell_type": "markdown",
      "metadata": {
        "id": "d_C5eCxTan_e"
      },
      "source": [
        "Minimos cuadrados "
      ]
    },
    {
      "cell_type": "code",
      "metadata": {
        "colab": {
          "base_uri": "https://localhost:8080/"
        },
        "id": "2cWa7p6QWC-Y",
        "outputId": "7e74b9ac-560c-43f8-9cb6-45d3f80bbbac"
      },
      "source": [
        "error=[]\n",
        "for i in range(len(xa)):\n",
        "  r_t=(ya[i]-viab[i])**2\n",
        "  error.append(r_t)\n",
        "print(error)\n",
        "print(sum(error))"
      ],
      "execution_count": null,
      "outputs": [
        {
          "output_type": "stream",
          "text": [
            "[0.0, 0.0030864197530864226, 0.009999999999999995, 0.01929012345679011, 0.03999999999999998, 0.04889012345679009, 0.0138716049382716, 0.001264197530864198, 0.0029641975308641994, 0.007901234567901238, 0.04742716049382717, 0.0004938271604938272, 3.08641975308642e-05, 3.08641975308642e-05, 0.0, 0.0]\n",
            "0.19525061728395057\n"
          ],
          "name": "stdout"
        }
      ]
    },
    {
      "cell_type": "code",
      "metadata": {
        "id": "1FxwVBM1WuOo"
      },
      "source": [
        ""
      ],
      "execution_count": null,
      "outputs": []
    }
  ]
}