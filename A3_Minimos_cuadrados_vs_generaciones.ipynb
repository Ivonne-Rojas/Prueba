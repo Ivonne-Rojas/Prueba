{
  "nbformat": 4,
  "nbformat_minor": 0,
  "metadata": {
    "colab": {
      "name": "A3: Minimos cuadrados vs generaciones",
      "provenance": [],
      "authorship_tag": "ABX9TyPxR2Q8OV2cTvDKOHz8ZfeN"
    },
    "kernelspec": {
      "name": "python3",
      "display_name": "Python 3"
    },
    "language_info": {
      "name": "python"
    }
  },
  "cells": [
    {
      "cell_type": "code",
      "metadata": {
        "id": "qDLUdJbwBNWJ"
      },
      "source": [
        "import statistics\n",
        "import matplotlib.pyplot as plt\n",
        "import numpy as np\n",
        "import math"
      ],
      "execution_count": null,
      "outputs": []
    },
    {
      "cell_type": "markdown",
      "metadata": {
        "id": "lr6u9NM07EIJ"
      },
      "source": [
        "Datos"
      ]
    },
    {
      "cell_type": "markdown",
      "metadata": {
        "id": "au1kO1fR7F54"
      },
      "source": [
        "Los datos son los minimos cuadrados obtenidos para cada generación, de la simulación de comparacion entre los datos experimentales del artículo, Divergent Aging of Isogenic Yeast Cells Revealed through Single-Cell Phenotypic Dynamics. \\\n",
        "Para cada simulacion se realizo 5 veces y se calculo la desviacion estandar y el intervalo de confianza del 95% "
      ]
    },
    {
      "cell_type": "code",
      "metadata": {
        "id": "R05gPwFcBiYT"
      },
      "source": [
        "g0=[0.027749826388888902,0.050206423611111134,0.037858333333333334,0.053765451388888906,0.04896944444444445]\n",
        "g2=[0.04592690972222223,0.09514565972222222,0.048044965277777775,0.11770208333333336,0.02014565972222222]\n",
        "g4=[0.035679513888888896,0.048452951388888894,0.016139583333333322,0.04222031250000001,0.06875243055555554]\n",
        "g6=[0.03398680555555555,0.050757638888888894,0.05678194444444447,0.0665345486111111,0.043309722222222236]\n",
        "g8=[0.08442083333333333,0.04378715277777777,0.027155208333333337,0.1330666666666667,0.047090104166666695]\n",
        "g10=[0.05958576388888888,0.10794947916666665,0.04759357638888889,0.046721180555555575,0.06169079861111109]\n",
        "g15=[0.06169079861111109,0.03780190972222225,0.0345467013888889,0.10431666666666671,0.03238524305555557]\n",
        "g20=[0.18669947916666665,0.029442534722222222,0.08095729166666668,0.01463784722222223,0.041977256944444465]\n",
        "g25=[0.10291041666666668,0.061339236111111105,0.08299288194444446,0.06750243055555555,0.03259791666666666]\n",
        "g30=[0.05853975694444445,0.03526284722222224,0.058526736111111116,0.05598767361111112,0.06032795138888888]\n",
        "g35=[0.03312309027777782,0.15567083333333337,0.06903020833333333,0.08159965277777777,0.033900000000000007]\n",
        "g40=[0.03061875000000002,0.0857229166666667,0.03867864583333335,0.06819687500000002,0.055805381944444454]"
      ],
      "execution_count": null,
      "outputs": []
    },
    {
      "cell_type": "code",
      "metadata": {
        "id": "FH0IpgI9HZ_Y"
      },
      "source": [
        "#Se definio una funcion para calcular el intervalo de confianza del 95%\n",
        "def intervalo(x):\n",
        "  inte=(1.96)*(x/(np.sqrt(5)))\n",
        "  return inte "
      ],
      "execution_count": null,
      "outputs": []
    },
    {
      "cell_type": "markdown",
      "metadata": {
        "id": "zPGFwZUf8Drg"
      },
      "source": [
        "\n",
        "\n",
        "---\n",
        "\n",
        "\n",
        "\n",
        "---\n",
        "\n"
      ]
    },
    {
      "cell_type": "code",
      "metadata": {
        "colab": {
          "base_uri": "https://localhost:8080/"
        },
        "id": "6kQcJWTLBlNS",
        "outputId": "474c7365-040f-4608-b947-cdd81a010115"
      },
      "source": [
        "promg0=statistics.mean(g0) \n",
        "standar0=statistics.stdev(g0)\n",
        "i0=intervalo(standar0)\n",
        "print(promg0,standar0,i0)"
      ],
      "execution_count": null,
      "outputs": [
        {
          "output_type": "stream",
          "text": [
            "0.043709895833333345 0.010723181928115355 0.009399283380734372\n"
          ],
          "name": "stdout"
        }
      ]
    },
    {
      "cell_type": "code",
      "metadata": {
        "colab": {
          "base_uri": "https://localhost:8080/"
        },
        "id": "Xx0xac0TBnZN",
        "outputId": "3bec6c23-5dc8-45c1-ba04-563e9e8f6a8a"
      },
      "source": [
        "promg2=statistics.mean(g2) \n",
        "standar2=statistics.stdev(g2)\n",
        "i2=intervalo(standar2)\n",
        "print(promg2,standar2,i2)"
      ],
      "execution_count": null,
      "outputs": [
        {
          "output_type": "stream",
          "text": [
            "0.06539305555555557 0.0398392574646653 0.034920648842730155\n"
          ],
          "name": "stdout"
        }
      ]
    },
    {
      "cell_type": "code",
      "metadata": {
        "colab": {
          "base_uri": "https://localhost:8080/"
        },
        "id": "06dF0_UFBpeV",
        "outputId": "8d337bd3-ab69-43ca-8519-d99d6c886d66"
      },
      "source": [
        "promg4=statistics.mean(g4) \n",
        "standar4=statistics.stdev(g4)\n",
        "i4=intervalo(standar4)\n",
        "print(promg4,standar4,i4)"
      ],
      "execution_count": null,
      "outputs": [
        {
          "output_type": "stream",
          "text": [
            "0.04224895833333333 0.019142762688876182 0.01677937131059373\n"
          ],
          "name": "stdout"
        }
      ]
    },
    {
      "cell_type": "code",
      "metadata": {
        "colab": {
          "base_uri": "https://localhost:8080/"
        },
        "id": "X43F8AWABsFJ",
        "outputId": "eb28005b-eba4-4a13-e398-103fc6f9d19c"
      },
      "source": [
        "promg6=statistics.mean(g6) \n",
        "standar6=statistics.stdev(g6)\n",
        "i6=intervalo(standar6)\n",
        "print(promg6,standar6,i6)"
      ],
      "execution_count": null,
      "outputs": [
        {
          "output_type": "stream",
          "text": [
            "0.05027413194444445 0.01245759363150919 0.010919562268880221\n"
          ],
          "name": "stdout"
        }
      ]
    },
    {
      "cell_type": "code",
      "metadata": {
        "colab": {
          "base_uri": "https://localhost:8080/"
        },
        "id": "oOHSU59vBt7t",
        "outputId": "d5560ef7-4928-4257-9013-e59b2eebc38f"
      },
      "source": [
        "promg8=statistics.mean(g8) \n",
        "standar8=statistics.stdev(g8)\n",
        "i8=intervalo(standar8)\n",
        "print(promg8,standar8,i8)"
      ],
      "execution_count": null,
      "outputs": [
        {
          "output_type": "stream",
          "text": [
            "0.06710399305555556 0.04240012811569881 0.037165350938789816\n"
          ],
          "name": "stdout"
        }
      ]
    },
    {
      "cell_type": "code",
      "metadata": {
        "colab": {
          "base_uri": "https://localhost:8080/"
        },
        "id": "RppO8-JPBvm4",
        "outputId": "dc1be173-a69b-478e-d764-2aa9b51084b8"
      },
      "source": [
        "promg10=statistics.mean(g10) \n",
        "standar10=statistics.stdev(g10)\n",
        "i10=intervalo(standar10)\n",
        "print(promg10,standar10,i10)"
      ],
      "execution_count": null,
      "outputs": [
        {
          "output_type": "stream",
          "text": [
            "0.06470815972222221 0.02510774530229863 0.022007909101014772\n"
          ],
          "name": "stdout"
        }
      ]
    },
    {
      "cell_type": "code",
      "metadata": {
        "colab": {
          "base_uri": "https://localhost:8080/"
        },
        "id": "b6pHXa-fBy0_",
        "outputId": "acd2c1bd-9e75-46f1-d1e0-9374d7479aa0"
      },
      "source": [
        "promg15=statistics.mean(g15) \n",
        "standar15=statistics.stdev(g15)\n",
        "i15=intervalo(standar15)\n",
        "print(promg15,standar15,i15)"
      ],
      "execution_count": null,
      "outputs": [
        {
          "output_type": "stream",
          "text": [
            "0.0541482638888889 0.03040892997987959 0.02665460234675249\n"
          ],
          "name": "stdout"
        }
      ]
    },
    {
      "cell_type": "code",
      "metadata": {
        "colab": {
          "base_uri": "https://localhost:8080/"
        },
        "id": "2pe8B02PB07m",
        "outputId": "4720c5e6-dd29-4176-da6c-a31bf65772ea"
      },
      "source": [
        "promg20=statistics.mean(g20) \n",
        "standar20=statistics.stdev(g20)\n",
        "i20=intervalo(standar20)\n",
        "print(promg20,standar20,i20)"
      ],
      "execution_count": null,
      "outputs": [
        {
          "output_type": "stream",
          "text": [
            "0.07074288194444445 0.0693383396628961 0.06077773444581656\n"
          ],
          "name": "stdout"
        }
      ]
    },
    {
      "cell_type": "code",
      "metadata": {
        "colab": {
          "base_uri": "https://localhost:8080/"
        },
        "id": "VqDvJa4xB2pw",
        "outputId": "bb0465ae-cf67-42a5-b878-849eaa10b186"
      },
      "source": [
        "promg25=statistics.mean(g25) \n",
        "standar25=statistics.stdev(g25)\n",
        "i25=intervalo(standar25)\n",
        "print(promg25,standar25,i25)"
      ],
      "execution_count": null,
      "outputs": [
        {
          "output_type": "stream",
          "text": [
            "0.0694685763888889 0.02612786335057924 0.022902081995018475\n"
          ],
          "name": "stdout"
        }
      ]
    },
    {
      "cell_type": "code",
      "metadata": {
        "colab": {
          "base_uri": "https://localhost:8080/"
        },
        "id": "lLZyYvYjB4Rf",
        "outputId": "94703a2a-d839-4265-bad6-0f57f16c7c12"
      },
      "source": [
        "promg30=statistics.mean(g30) \n",
        "standar30=statistics.stdev(g30)\n",
        "i30=intervalo(standar30)\n",
        "print(promg30,standar30,i30)"
      ],
      "execution_count": null,
      "outputs": [
        {
          "output_type": "stream",
          "text": [
            "0.05372899305555556 0.010438010089294037 0.009149319242920124\n"
          ],
          "name": "stdout"
        }
      ]
    },
    {
      "cell_type": "code",
      "metadata": {
        "colab": {
          "base_uri": "https://localhost:8080/"
        },
        "id": "6pKWkMIqB6BK",
        "outputId": "bcc948ca-8121-4167-e9a8-48bafdd324e6"
      },
      "source": [
        "promg35=statistics.mean(g35) \n",
        "standar35=statistics.stdev(g35)\n",
        "i35=intervalo(standar35)\n",
        "print(promg35,standar35,i35)"
      ],
      "execution_count": null,
      "outputs": [
        {
          "output_type": "stream",
          "text": [
            "0.07466475694444447 0.05007319844082445 0.04389109362129182\n"
          ],
          "name": "stdout"
        }
      ]
    },
    {
      "cell_type": "code",
      "metadata": {
        "colab": {
          "base_uri": "https://localhost:8080/"
        },
        "id": "0LWx0KAyB8MF",
        "outputId": "9013319c-d628-41e9-9dc3-61b597878caa"
      },
      "source": [
        "promg40=statistics.mean(g40) \n",
        "standar40=statistics.stdev(g40)\n",
        "i40=intervalo(standar40)\n",
        "print(promg40,standar40,i40)"
      ],
      "execution_count": null,
      "outputs": [
        {
          "output_type": "stream",
          "text": [
            "0.05580451388888891 0.022227795092846028 0.019483521440475667\n"
          ],
          "name": "stdout"
        }
      ]
    },
    {
      "cell_type": "code",
      "metadata": {
        "id": "mpxZiYm2B-ON"
      },
      "source": [
        "x=[0,2,4,6,8,10,15,20,25,30,35,40]\n",
        "y=[promg0,promg2,promg4,promg6,promg8,promg10,promg15,promg20,promg25,promg30,promg35,promg40]\n",
        "yerr=[i0,i2,i4,i6,i8,i10,i15,i20,i25,i30,i35,i40]"
      ],
      "execution_count": null,
      "outputs": []
    },
    {
      "cell_type": "code",
      "metadata": {
        "colab": {
          "base_uri": "https://localhost:8080/",
          "height": 305
        },
        "id": "z-ruS_lRCAN9",
        "outputId": "d9ea7064-c12d-4ef3-d360-f8b29cf27d38"
      },
      "source": [
        "plt.scatter(x,y) \n",
        "axes = plt.gca() \n",
        "plt.errorbar(x,y,yerr=yerr,xerr=None)\n",
        "plt.xlabel('Generaciones')\n",
        "plt.ylabel('Minimos cuadrados')\n",
        "plt.title(' ')\n",
        "axes.title.set_size(20)\n",
        "axes.xaxis.label.set_size(16)\n",
        "axes.yaxis.label.set_size(16)\n",
        "#plt.savefig('Minimos cuadrados .png')\n",
        "plt.show() "
      ],
      "execution_count": null,
      "outputs": [
        {
          "output_type": "display_data",
          "data": {
            "image/png": "[encoded data removed]",
            "text/plain": [
              "<Figure size 432x288 with 1 Axes>"
            ]
          },
          "metadata": {
            "tags": [],
            "needs_background": "light"
          }
        }
      ]
    },
    {
      "cell_type": "code",
      "metadata": {
        "id": "N4cq7Sac8lrH"
      },
      "source": [
        ""
      ],
      "execution_count": null,
      "outputs": []
    }
  ]
}