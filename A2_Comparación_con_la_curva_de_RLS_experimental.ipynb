{
  "nbformat": 4,
  "nbformat_minor": 0,
  "metadata": {
    "colab": {
      "name": "A2: Comparación con la curva de RLS experimental",
      "provenance": [],
      "collapsed_sections": [],
      "authorship_tag": "ABX9TyMm1mxE7Ny18ESRQ1n6b5xR"
    },
    "kernelspec": {
      "name": "python3",
      "display_name": "Python 3"
    },
    "language_info": {
      "name": "python"
    }
  },
  "cells": [
    {
      "cell_type": "code",
      "metadata": {
        "id": "_sPNylZoA4aA"
      },
      "source": [
        "import numpy as np\n",
        "import matplotlib.pyplot as plt\n",
        "import collections as coll \n",
        "import random\n",
        "from time import time\n",
        "from timeit import timeit\n",
        "from scipy.interpolate import interp1d \n",
        "from scipy.optimize import curve_fit\n",
        "import statistics"
      ],
      "execution_count": null,
      "outputs": []
    },
    {
      "cell_type": "markdown",
      "metadata": {
        "id": "unZLsWmoCgxL"
      },
      "source": [
        "## Modelo inicial de crecimiento"
      ]
    },
    {
      "cell_type": "code",
      "metadata": {
        "colab": {
          "base_uri": "https://localhost:8080/"
        },
        "id": "nfk2jJzPBQGb",
        "outputId": "ff7c194d-ae27-4620-fd06-0630fc44dd59"
      },
      "source": [
        "tiempo_inicial = time()# libreria para calcular el tiempo de ejecución  \n",
        "#-------------------------------------------------------------------------------\n",
        "#variables \n",
        "s=[]#para guardar los tiempos aleatorios de replicacion\n",
        "R=0 \n",
        "celulas=[] # guarda el numero total de células \n",
        "zi=[1,0,0,0,0,0,0,0,0,0,0,0,0,0,0,0,0,0,0,0,0,0,0,0,0,0,0,0,0,0,0,0,0,0,0,0,0,0,0,0,0,0,0,0,0,0]# matrix inicial  \n",
        "t=0 # tiempo que ha pasado  \n",
        "tr=[]#lista para guardar t (t}iempo total )\n",
        "m=30 # para definir la generacion en la que se mueren las células  \n",
        "muertes=0# variable para contabilizar el número de células no viables \n",
        "fraccion=[] # guarda la fracción de células viables \n",
        "r=0 # crecimiento per capita\n",
        "g=12 #número de generaciones que crece la población \n",
        "#------------------------------------------------------------------------------- \n",
        "for j in range(g):# número de iteraciones o numero de generaciones la cual se va realizar \n",
        "  zf=np.zeros(m,dtype=np.int64) # tiene que tener una longitud definida la cual sera la generacion en la que se mueran las celulas\n",
        "  for i in range(m-1):  \n",
        "    zf[i+1]= zi[i]\n",
        "    zf[0]=sum(zi)-zi[-1]\n",
        "  zi=zf\n",
        "#-------------------------------------------------------------------------------\n",
        "  R=R+120\n",
        "  s.append(R)\n",
        "  celulas.append(sum(zi)) \n",
        "#-------------------------------------------------------------------------------\n",
        "  t=t+max(s)    # tiempo total trascurrido \n",
        "  tr.append(t)\n",
        "#-------------------------------------------------------------------------------\n",
        "#calculos \n",
        "  muertes=muertes+zf[-1]#para guardas las celulas muertas\n",
        "  total_celulas= sum(zi)+muertes #total de celulas teniendo en cuenta las muertes para sacar la fraccion de celulas viables \n",
        "  fraccion_viables= (sum(zi)-zi[-1])/total_celulas\n",
        "  fraccion.append(fraccion_viables)\n",
        "  r=zi[0]-muertes # numero de nacimientos menos numero de muertes \n",
        "#-------------------------------------------------------------------------------\n",
        "  print(zi)\n",
        "  #print('s',s)\n",
        "  #print('tiempo',t)\n",
        "  #print('lista tiempo',tr)\n",
        "  print('No viable', muertes)\n",
        "  #print('Crecimiento per capita', r)\n",
        "  #print('Células viables', celulas)\n",
        "  #print('Total celulas',total_celulas)\n",
        "  #print('Fraccion de células viables',fraccion_viables)\n",
        "  #print('Lista de fracción de células viables', fraccion)\n",
        "  print('---------------')\n",
        "#-------------------------------------------------------------------------------\n",
        "print(len(zi))\n",
        "tiempo_final = time()\n",
        "tiempo_ejecucion = tiempo_final - tiempo_inicial\n",
        "print('tiempo de ejecucion',tiempo_ejecucion)"
      ],
      "execution_count": null,
      "outputs": [
        {
          "output_type": "stream",
          "text": [
            "[1 1 0 0 0 0 0 0 0 0 0 0 0 0 0 0 0 0 0 0 0 0 0 0 0 0 0 0 0 0]\n",
            "No viable 0\n",
            "---------------\n",
            "[2 1 1 0 0 0 0 0 0 0 0 0 0 0 0 0 0 0 0 0 0 0 0 0 0 0 0 0 0 0]\n",
            "No viable 0\n",
            "---------------\n",
            "[4 2 1 1 0 0 0 0 0 0 0 0 0 0 0 0 0 0 0 0 0 0 0 0 0 0 0 0 0 0]\n",
            "No viable 0\n",
            "---------------\n",
            "[8 4 2 1 1 0 0 0 0 0 0 0 0 0 0 0 0 0 0 0 0 0 0 0 0 0 0 0 0 0]\n",
            "No viable 0\n",
            "---------------\n",
            "[16  8  4  2  1  1  0  0  0  0  0  0  0  0  0  0  0  0  0  0  0  0  0  0\n",
            "  0  0  0  0  0  0]\n",
            "No viable 0\n",
            "---------------\n",
            "[32 16  8  4  2  1  1  0  0  0  0  0  0  0  0  0  0  0  0  0  0  0  0  0\n",
            "  0  0  0  0  0  0]\n",
            "No viable 0\n",
            "---------------\n",
            "[64 32 16  8  4  2  1  1  0  0  0  0  0  0  0  0  0  0  0  0  0  0  0  0\n",
            "  0  0  0  0  0  0]\n",
            "No viable 0\n",
            "---------------\n",
            "[128  64  32  16   8   4   2   1   1   0   0   0   0   0   0   0   0   0\n",
            "   0   0   0   0   0   0   0   0   0   0   0   0]\n",
            "No viable 0\n",
            "---------------\n",
            "[256 128  64  32  16   8   4   2   1   1   0   0   0   0   0   0   0   0\n",
            "   0   0   0   0   0   0   0   0   0   0   0   0]\n",
            "No viable 0\n",
            "---------------\n",
            "[512 256 128  64  32  16   8   4   2   1   1   0   0   0   0   0   0   0\n",
            "   0   0   0   0   0   0   0   0   0   0   0   0]\n",
            "No viable 0\n",
            "---------------\n",
            "[1024  512  256  128   64   32   16    8    4    2    1    1    0    0\n",
            "    0    0    0    0    0    0    0    0    0    0    0    0    0    0\n",
            "    0    0]\n",
            "No viable 0\n",
            "---------------\n",
            "[2048 1024  512  256  128   64   32   16    8    4    2    1    1    0\n",
            "    0    0    0    0    0    0    0    0    0    0    0    0    0    0\n",
            "    0    0]\n",
            "No viable 0\n",
            "---------------\n",
            "30\n",
            "tiempo de ejecucion 0.020803213119506836\n"
          ],
          "name": "stdout"
        }
      ]
    },
    {
      "cell_type": "code",
      "metadata": {
        "colab": {
          "base_uri": "https://localhost:8080/"
        },
        "id": "S-OrvaZUBUmF",
        "outputId": "12b78913-99a4-4c13-c924-29edc091e9ba"
      },
      "source": [
        "indice=[]#edades\n",
        "ind=-1\n",
        "for i in range(len(zi)):\n",
        "  ind=ind+1\n",
        "  indice.append(ind)\n",
        "print(indice)"
      ],
      "execution_count": null,
      "outputs": [
        {
          "output_type": "stream",
          "text": [
            "[0, 1, 2, 3, 4, 5, 6, 7, 8, 9, 10, 11, 12, 13, 14, 15, 16, 17, 18, 19, 20, 21, 22, 23, 24, 25, 26, 27, 28, 29]\n"
          ],
          "name": "stdout"
        }
      ]
    },
    {
      "cell_type": "code",
      "metadata": {
        "colab": {
          "base_uri": "https://localhost:8080/",
          "height": 295
        },
        "id": "XviRWaWDpN4A",
        "outputId": "519fd536-ba31-44b3-c824-403acf816673"
      },
      "source": [
        "fig, ax = plt.subplots()\n",
        "ax.set_ylabel('Número de células')\n",
        "ax.set_xlabel('Edad')\n",
        "ax.set_title('Distribución de edades ')\n",
        "plt.bar(indice, zi)\n",
        "#plt.savefig('barras_simple.png')\n",
        "plt.show()"
      ],
      "execution_count": null,
      "outputs": [
        {
          "output_type": "display_data",
          "data": {
            "image/png": "[encoded data removed]",
            "text/plain": [
              "<Figure size 432x288 with 1 Axes>"
            ]
          },
          "metadata": {
            "tags": [],
            "needs_background": "light"
          }
        }
      ]
    },
    {
      "cell_type": "code",
      "metadata": {
        "colab": {
          "base_uri": "https://localhost:8080/"
        },
        "id": "P2wETBRpBYgK",
        "outputId": "8e908b5c-5d3f-47e8-f00d-2b9ae1e862ba"
      },
      "source": [
        "dic= dict(zip(zi,indice))# diccionario que guarda la distribucion {Número de células: edad} \n",
        "print(dic) "
      ],
      "execution_count": null,
      "outputs": [
        {
          "output_type": "stream",
          "text": [
            "{2048: 0, 1024: 1, 512: 2, 256: 3, 128: 4, 64: 5, 32: 6, 16: 7, 8: 8, 4: 9, 2: 10, 1: 12, 0: 29}\n"
          ],
          "name": "stdout"
        }
      ]
    },
    {
      "cell_type": "code",
      "metadata": {
        "colab": {
          "base_uri": "https://localhost:8080/"
        },
        "id": "FkcX2ykYBaeq",
        "outputId": "13b5a5bf-3e08-462e-99b1-f71faba894b6"
      },
      "source": [
        "#Probabilidad \n",
        "P=[] \n",
        "for i in zi:\n",
        "  p=i/total_celulas \n",
        "  P.append(p)\n",
        "print(P)"
      ],
      "execution_count": null,
      "outputs": [
        {
          "output_type": "stream",
          "text": [
            "[0.5, 0.25, 0.125, 0.0625, 0.03125, 0.015625, 0.0078125, 0.00390625, 0.001953125, 0.0009765625, 0.00048828125, 0.000244140625, 0.000244140625, 0.0, 0.0, 0.0, 0.0, 0.0, 0.0, 0.0, 0.0, 0.0, 0.0, 0.0, 0.0, 0.0, 0.0, 0.0, 0.0, 0.0]\n"
          ],
          "name": "stdout"
        }
      ]
    },
    {
      "cell_type": "code",
      "metadata": {
        "colab": {
          "base_uri": "https://localhost:8080/",
          "height": 295
        },
        "id": "9lMiQcCKBcjR",
        "outputId": "188765e5-8ad6-4d63-f28f-f71929502cca"
      },
      "source": [
        "fig, ax = plt.subplots()  \n",
        "ax.set_ylabel('Probabilidad')\n",
        "ax.set_xlabel('Edad')\n",
        "ax.set_title('Distribución de probabilidades')\n",
        "plt.bar(indice, P)\n",
        "#plt.savefig('barras_simple.png')\n",
        "plt.show()"
      ],
      "execution_count": null,
      "outputs": [
        {
          "output_type": "display_data",
          "data": {
            "image/png": "[encoded data removed]",
            "text/plain": [
              "<Figure size 432x288 with 1 Axes>"
            ]
          },
          "metadata": {
            "tags": [],
            "needs_background": "light"
          }
        }
      ]
    },
    {
      "cell_type": "code",
      "metadata": {
        "colab": {
          "base_uri": "https://localhost:8080/"
        },
        "id": "j0uQ25OpULkH",
        "outputId": "1508f02b-038a-453b-d8d9-5c3a2edcb82c"
      },
      "source": [
        "#Determina el número de la primera muestra \n",
        "muestra=int((total_celulas*3)/10)\n",
        "print(muestra)\n",
        "print(total_celulas)"
      ],
      "execution_count": null,
      "outputs": [
        {
          "output_type": "stream",
          "text": [
            "1228\n",
            "4096\n"
          ],
          "name": "stdout"
        }
      ]
    },
    {
      "cell_type": "code",
      "metadata": {
        "colab": {
          "base_uri": "https://localhost:8080/"
        },
        "id": "IWvhfKH-BfDp",
        "outputId": "9b4bd8de-3268-491e-f20b-a908dbcd4952"
      },
      "source": [
        "#Toma una muestra de edades de segun los pesos probabilisticos y la cantidad hallada anteriormente\n",
        "sample= random.choices(indice,weights=P,k=muestra)    \n",
        "print(sample)"
      ],
      "execution_count": null,
      "outputs": [
        {
          "output_type": "stream",
          "text": [
            "[3, 1, 0, 2, 1, 2, 0, 0, 0, 0, 1, 2, 0, 2, 1, 2, 1, 0, 0, 1, 1, 0, 0, 0, 0, 4, 0, 0, 0, 1, 2, 0, 0, 0, 0, 0, 2, 2, 0, 1, 0, 1, 0, 1, 0, 0, 0, 0, 3, 3, 0, 0, 0, 0, 0, 4, 2, 2, 0, 0, 0, 1, 0, 1, 0, 4, 1, 1, 0, 1, 2, 1, 2, 0, 2, 0, 1, 0, 0, 0, 0, 0, 3, 1, 3, 1, 1, 3, 0, 2, 1, 1, 0, 0, 0, 1, 1, 1, 0, 2, 1, 1, 0, 1, 1, 3, 0, 2, 0, 0, 0, 1, 0, 0, 1, 1, 3, 1, 4, 2, 0, 0, 1, 1, 0, 2, 3, 1, 0, 0, 2, 2, 0, 0, 0, 0, 0, 1, 3, 0, 0, 0, 2, 0, 0, 2, 4, 1, 2, 3, 0, 1, 0, 0, 3, 0, 1, 3, 3, 1, 0, 2, 0, 1, 0, 0, 2, 1, 0, 0, 0, 4, 0, 0, 0, 0, 4, 0, 0, 1, 0, 0, 0, 0, 1, 1, 2, 1, 2, 2, 2, 0, 0, 6, 0, 0, 1, 0, 2, 3, 0, 0, 2, 1, 0, 0, 0, 1, 0, 0, 1, 1, 1, 1, 0, 0, 1, 0, 0, 0, 0, 0, 1, 1, 1, 0, 1, 0, 0, 0, 4, 1, 0, 4, 0, 4, 2, 1, 0, 0, 0, 2, 0, 3, 1, 2, 3, 0, 1, 0, 1, 4, 0, 0, 3, 0, 1, 0, 1, 0, 1, 0, 0, 0, 0, 0, 1, 2, 0, 1, 0, 3, 0, 3, 1, 4, 0, 9, 1, 1, 0, 0, 1, 2, 1, 3, 1, 0, 1, 0, 1, 0, 2, 0, 0, 1, 0, 1, 0, 0, 0, 1, 2, 0, 0, 0, 0, 0, 1, 2, 0, 0, 0, 1, 3, 4, 1, 2, 0, 2, 1, 2, 0, 1, 3, 1, 1, 0, 4, 2, 1, 1, 5, 0, 0, 0, 2, 0, 3, 0, 1, 0, 0, 0, 2, 0, 0, 0, 0, 0, 1, 0, 1, 0, 0, 0, 3, 1, 1, 0, 0, 0, 0, 0, 0, 0, 0, 4, 0, 1, 2, 1, 2, 0, 2, 1, 0, 2, 0, 2, 0, 0, 5, 1, 2, 0, 0, 0, 2, 3, 7, 1, 1, 0, 1, 0, 2, 1, 0, 0, 4, 1, 1, 0, 1, 2, 0, 0, 0, 2, 0, 1, 1, 1, 1, 1, 1, 3, 1, 0, 1, 0, 0, 2, 0, 0, 1, 0, 0, 3, 2, 1, 2, 0, 2, 0, 0, 0, 0, 2, 1, 0, 6, 0, 3, 1, 1, 0, 2, 0, 3, 1, 0, 0, 3, 1, 5, 0, 0, 0, 0, 2, 1, 1, 3, 0, 0, 0, 2, 0, 0, 2, 5, 2, 1, 3, 0, 0, 1, 0, 2, 2, 0, 0, 1, 0, 0, 0, 0, 3, 1, 2, 0, 0, 0, 2, 0, 0, 2, 1, 0, 0, 0, 0, 0, 0, 1, 0, 0, 0, 0, 3, 0, 0, 1, 0, 0, 0, 1, 0, 0, 0, 2, 3, 2, 0, 3, 0, 6, 3, 0, 0, 2, 0, 2, 1, 0, 0, 0, 0, 0, 0, 1, 0, 0, 0, 3, 1, 0, 0, 1, 1, 0, 0, 0, 0, 0, 1, 0, 1, 0, 3, 0, 0, 4, 0, 2, 0, 1, 0, 1, 0, 1, 4, 0, 0, 0, 0, 0, 2, 0, 7, 0, 0, 1, 0, 1, 1, 0, 0, 0, 1, 3, 2, 2, 0, 0, 0, 2, 0, 0, 0, 7, 1, 1, 0, 1, 1, 0, 1, 6, 0, 2, 2, 0, 0, 1, 1, 0, 1, 0, 0, 2, 1, 2, 0, 3, 0, 1, 0, 0, 1, 2, 0, 3, 1, 7, 3, 0, 0, 2, 1, 0, 0, 1, 3, 2, 2, 2, 0, 4, 2, 8, 3, 0, 0, 6, 2, 0, 1, 2, 0, 1, 2, 0, 2, 0, 0, 0, 2, 0, 3, 1, 0, 1, 0, 1, 3, 1, 0, 0, 0, 1, 0, 0, 4, 0, 0, 3, 3, 0, 0, 2, 0, 0, 1, 0, 1, 10, 0, 0, 2, 4, 0, 2, 0, 0, 0, 2, 0, 0, 0, 0, 1, 1, 1, 2, 0, 0, 5, 0, 0, 0, 0, 0, 0, 0, 0, 0, 1, 0, 2, 0, 3, 2, 1, 2, 0, 0, 0, 0, 0, 2, 1, 0, 1, 0, 0, 0, 1, 5, 3, 1, 1, 0, 1, 0, 0, 4, 1, 0, 0, 1, 0, 1, 1, 0, 0, 0, 0, 1, 0, 0, 0, 0, 1, 0, 2, 1, 0, 1, 3, 0, 1, 0, 3, 1, 4, 3, 0, 2, 0, 1, 0, 0, 0, 0, 1, 0, 2, 0, 0, 0, 0, 0, 0, 0, 0, 1, 1, 0, 0, 0, 2, 1, 0, 0, 1, 0, 0, 1, 0, 3, 1, 2, 1, 0, 2, 2, 0, 0, 1, 4, 0, 0, 0, 0, 0, 0, 0, 0, 1, 0, 2, 0, 1, 0, 1, 1, 0, 0, 0, 0, 0, 2, 5, 2, 1, 1, 1, 0, 0, 1, 0, 0, 0, 1, 2, 1, 3, 0, 1, 1, 0, 1, 0, 0, 0, 0, 0, 0, 0, 1, 0, 1, 1, 1, 1, 2, 3, 0, 0, 1, 0, 1, 0, 1, 1, 4, 3, 0, 0, 0, 1, 0, 2, 1, 1, 3, 0, 0, 3, 1, 5, 0, 2, 6, 0, 1, 4, 0, 0, 0, 1, 1, 1, 2, 0, 0, 1, 1, 0, 2, 1, 1, 3, 1, 1, 0, 1, 0, 1, 0, 1, 1, 5, 0, 0, 0, 0, 0, 0, 0, 3, 1, 2, 0, 3, 0, 0, 1, 1, 1, 0, 0, 4, 2, 0, 0, 0, 0, 4, 0, 0, 1, 1, 0, 0, 1, 3, 0, 0, 2, 0, 1, 0, 0, 1, 0, 0, 0, 1, 0, 1, 0, 1, 0, 0, 0, 1, 0, 4, 0, 0, 0, 1, 1, 1, 0, 0, 0, 1, 2, 1, 0, 1, 1, 2, 0, 0, 2, 0, 2, 3, 0, 0, 3, 1, 0, 3, 0, 2, 0, 3, 1, 2, 0, 3, 0, 3, 3, 0, 0, 3, 0, 0, 0, 0, 0, 0, 2, 0, 0, 0, 0, 6, 1, 5, 0, 1, 1, 0, 0, 6, 2, 0, 1, 0, 0, 1, 4, 0, 0, 0, 0, 0, 0, 4, 0, 0, 0, 0, 2, 0, 0, 0, 1, 1, 3, 0, 1, 3, 1, 2, 0, 0, 0, 1, 0, 0, 0, 0, 0, 1, 2, 1, 1, 1, 1, 0, 1, 0, 2, 0, 0, 5, 3, 1, 1, 0, 1, 0, 0, 0, 0, 0, 2, 1, 1, 0, 3, 0, 0, 0, 2, 2, 1, 0, 0, 0, 1, 0, 0, 0, 2, 1, 0, 0, 0, 1, 0, 1, 4, 3, 0, 0, 0, 2, 2, 3, 3, 0, 0, 0, 0, 0, 1, 0, 1, 2, 5, 4, 0, 4, 4, 0, 3, 2, 0, 3, 0, 2, 0, 3, 0, 1, 0, 1, 0, 2, 1, 0, 1, 0, 6, 4, 0, 0, 0, 0, 1, 1, 3, 2, 2, 1, 3, 0, 1, 3, 2, 0, 2, 3, 1, 0, 0, 4, 3, 2, 0, 2, 0, 1, 3, 0, 0, 4]\n"
          ],
          "name": "stdout"
        }
      ]
    },
    {
      "cell_type": "code",
      "metadata": {
        "colab": {
          "base_uri": "https://localhost:8080/"
        },
        "id": "kpenJX-PBhz8",
        "outputId": "8e8cc37b-bfe2-4dc7-af11-bc1ca5feb685"
      },
      "source": [
        "#Genera un diccionario con la mustra seleccionada {edad: numero de celulas}\n",
        "print(coll.Counter(sample))"
      ],
      "execution_count": null,
      "outputs": [
        {
          "output_type": "stream",
          "text": [
            "Counter({0: 624, 1: 299, 2: 150, 3: 89, 4: 38, 5: 12, 6: 9, 7: 4, 9: 1, 8: 1, 10: 1})\n"
          ],
          "name": "stdout"
        }
      ]
    },
    {
      "cell_type": "markdown",
      "metadata": {
        "id": "vCvDbQQ5Po2T"
      },
      "source": [
        "\n",
        "\n",
        "---\n",
        "\n",
        "\n",
        "\n",
        "---\n",
        "\n"
      ]
    },
    {
      "cell_type": "code",
      "metadata": {
        "colab": {
          "base_uri": "https://localhost:8080/"
        },
        "id": "xTRF5t6_i_7-",
        "outputId": "d7da042e-cbd9-4dd1-cf76-c9be46a820ba"
      },
      "source": [
        "#Para organizar el diccionario \n",
        "Dic= coll.Counter(sample)\n",
        "Dics=sorted(Dic)\n",
        "print(Dics)"
      ],
      "execution_count": null,
      "outputs": [
        {
          "output_type": "stream",
          "text": [
            "[0, 1, 2, 3, 4, 5, 6, 7, 8, 9, 10]\n"
          ],
          "name": "stdout"
        }
      ]
    },
    {
      "cell_type": "code",
      "metadata": {
        "colab": {
          "base_uri": "https://localhost:8080/"
        },
        "id": "BBx90xsYjRyq",
        "outputId": "84b83c0a-aeab-428e-d399-15f1984a4956"
      },
      "source": [
        "valores_ord = coll.OrderedDict(sorted(Dic.items()))\n",
        "print(valores_ord)\n",
        "print(valores_ord[0])"
      ],
      "execution_count": null,
      "outputs": [
        {
          "output_type": "stream",
          "text": [
            "OrderedDict([(0, 624), (1, 299), (2, 150), (3, 89), (4, 38), (5, 12), (6, 9), (7, 4), (8, 1), (9, 1), (10, 1)])\n",
            "624\n"
          ],
          "name": "stdout"
        }
      ]
    },
    {
      "cell_type": "code",
      "metadata": {
        "colab": {
          "base_uri": "https://localhost:8080/"
        },
        "id": "_4pSePC7BlFm",
        "outputId": "56b44a99-f2f3-4824-8a06-e1e05ea732f4"
      },
      "source": [
        "#Separa el diccionario en dos listas \n",
        "valores=valores_ord.values()\n",
        "llaves=valores_ord.keys()\n",
        "Ncell=[]\n",
        "Edad=[]\n",
        "for i in valores:\n",
        "  Ncell.append(i)\n",
        "print('Numero de celulas',Ncell)\n",
        "for j in llaves:\n",
        "  Edad.append(j)\n",
        "print('Edades',Edad)\n",
        "print(sum(Ncell))"
      ],
      "execution_count": null,
      "outputs": [
        {
          "output_type": "stream",
          "text": [
            "Numero de celulas [624, 299, 150, 89, 38, 12, 9, 4, 1, 1, 1]\n",
            "Edades [0, 1, 2, 3, 4, 5, 6, 7, 8, 9, 10]\n",
            "1228\n"
          ],
          "name": "stdout"
        }
      ]
    },
    {
      "cell_type": "code",
      "metadata": {
        "colab": {
          "base_uri": "https://localhost:8080/",
          "height": 295
        },
        "id": "QFEh9AHTSLb-",
        "outputId": "4c8bc3c4-c5b7-4dc9-be44-6c1f64404deb"
      },
      "source": [
        "#Distribucion de edades de la segunda muestra \n",
        "fig, ax = plt.subplots()  \n",
        "ax.set_ylabel('Número de celulas')\n",
        "ax.set_xlabel('Edad')\n",
        "ax.set_title('Distribucion de edades final ')\n",
        "plt.bar(Edad, Ncell)\n",
        "#plt.savefig('barras_simple.png')\n",
        "plt.show()"
      ],
      "execution_count": null,
      "outputs": [
        {
          "output_type": "display_data",
          "data": {
            "image/png": "[encoded data removed]",
            "text/plain": [
              "<Figure size 432x288 with 1 Axes>"
            ]
          },
          "metadata": {
            "tags": [],
            "needs_background": "light"
          }
        }
      ]
    },
    {
      "cell_type": "code",
      "metadata": {
        "colab": {
          "base_uri": "https://localhost:8080/"
        },
        "id": "vIyzFPxgjlop",
        "outputId": "0cc959ac-f1ce-4368-b43e-23e28ce4063e"
      },
      "source": [
        "#para organizar el diccionario en una lista \n",
        "inicial1=[0,0,0,0,0,0,0,0,0,0,0,0,0,0,0,0,0,0,0,0,0,0,0,0,0]\n",
        "for i in range(len(Edad)):\n",
        "  if i==Edad[i]:\n",
        "    inicial1[i]=Ncell[i]\n",
        "  else:\n",
        "    inicial1[Edad[i]]=Ncell[i]\n",
        "print(inicial1)\n",
        "print(len(inicial1))"
      ],
      "execution_count": null,
      "outputs": [
        {
          "output_type": "stream",
          "text": [
            "[624, 299, 150, 89, 38, 12, 9, 4, 1, 1, 1, 0, 0, 0, 0, 0, 0, 0, 0, 0, 0, 0, 0, 0, 0]\n",
            "25\n"
          ],
          "name": "stdout"
        }
      ]
    },
    {
      "cell_type": "markdown",
      "metadata": {
        "id": "3v9TwKZqSGsq"
      },
      "source": [
        "\n",
        "\n",
        "---\n",
        "\n",
        "\n",
        "\n",
        "---\n",
        "\n"
      ]
    },
    {
      "cell_type": "markdown",
      "metadata": {
        "id": "wr2bLM1zSYZo"
      },
      "source": [
        "## Convolución "
      ]
    },
    {
      "cell_type": "markdown",
      "metadata": {
        "id": "YgxlVh50Sc3I"
      },
      "source": [
        "Se vuelve a correr el primer código pero esta vez la matrix inicial va a ser la matrix hallada anteriormente "
      ]
    },
    {
      "cell_type": "code",
      "metadata": {
        "colab": {
          "base_uri": "https://localhost:8080/"
        },
        "id": "9o2Y3ukMhWjR",
        "outputId": "dcf8bd06-b67f-45b0-a419-9e33ae5ea262"
      },
      "source": [
        "tiempo_inicial = time()  \n",
        "#-------------------------------------------------------------------------------\n",
        "#variables \n",
        "s_1=[]\n",
        "R_1=0\n",
        "celulas_1=[]\n",
        "t_1=0  \n",
        "tr_1=[]\n",
        "m_1=19 \n",
        "muertes_1=0 \n",
        "fraccion_1=[]\n",
        "suma_1=[]\n",
        "r_1=0 \n",
        "g_1=10\n",
        "#------------------------------------------------------------------------------- \n",
        "for j_1 in range(g_1): \n",
        "  zf_1=np.zeros(m_1,dtype=np.int64) \n",
        "  for i_1 in range(m_1 -1):  \n",
        "    zf_1[i_1+1]= inicial1[i_1]\n",
        "    zf_1[0]=sum(inicial1)-inicial1[-1]\n",
        "  inicial1=zf_1\n",
        "#-------------------------------------------------------------------------------\n",
        "  muertes_1=muertes_1+zf_1[-1]\n",
        "  total_celulas_1= sum(inicial1)+muertes_1 \n",
        "  fraccion_viables_1= (sum(inicial1)-inicial1[-1])/total_celulas_1\n",
        "  fraccion.append(fraccion_viables_1)\n",
        "  r_1=inicial1[0]-muertes_1  \n",
        "#-------------------------------------------------------------------------------\n",
        "  total_1=sum(inicial1)\n",
        "  suma_1.append(total_1)\n",
        "#-------------------------------------------------------------------------------\n",
        "  print(inicial1)\n",
        "  #print('s',s)\n",
        "  #print('tiempo',t)\n",
        "  #print('lista tiempo',tr)\n",
        "  print('No viable', muertes_1)\n",
        "  #print('Crecimiento per capita', r)\n",
        "  #print('Células viables', total)\n",
        "  #print('Total de células',total_celulas)\n",
        "  #print('Fraccion de células viables',fraccion_viables)\n",
        "  #print('Lista de fracción de células viables', fraccion)\n",
        "  print('---------------')\n",
        "#-------------------------------------------------------------------------------\n",
        "print(len(inicial1))\n",
        "tiempo_final = time()\n",
        "tiempo_ejecucion = tiempo_final - tiempo_inicial\n",
        "print('tiempo de ejecucion',tiempo_ejecucion)"
      ],
      "execution_count": null,
      "outputs": [
        {
          "output_type": "stream",
          "text": [
            "[1228  624  299  150   89   38   12    9    4    1    1    1    0    0\n",
            "    0    0    0    0    0]\n",
            "No viable 0\n",
            "---------------\n",
            "[2456 1228  624  299  150   89   38   12    9    4    1    1    1    0\n",
            "    0    0    0    0    0]\n",
            "No viable 0\n",
            "---------------\n",
            "[4912 2456 1228  624  299  150   89   38   12    9    4    1    1    1\n",
            "    0    0    0    0    0]\n",
            "No viable 0\n",
            "---------------\n",
            "[9824 4912 2456 1228  624  299  150   89   38   12    9    4    1    1\n",
            "    1    0    0    0    0]\n",
            "No viable 0\n",
            "---------------\n",
            "[19648  9824  4912  2456  1228   624   299   150    89    38    12     9\n",
            "     4     1     1     1     0     0     0]\n",
            "No viable 0\n",
            "---------------\n",
            "[39296 19648  9824  4912  2456  1228   624   299   150    89    38    12\n",
            "     9     4     1     1     1     0     0]\n",
            "No viable 0\n",
            "---------------\n",
            "[78592 39296 19648  9824  4912  2456  1228   624   299   150    89    38\n",
            "    12     9     4     1     1     1     0]\n",
            "No viable 0\n",
            "---------------\n",
            "[157184  78592  39296  19648   9824   4912   2456   1228    624    299\n",
            "    150     89     38     12      9      4      1      1      1]\n",
            "No viable 1\n",
            "---------------\n",
            "[314367 157184  78592  39296  19648   9824   4912   2456   1228    624\n",
            "    299    150     89     38     12      9      4      1      1]\n",
            "No viable 2\n",
            "---------------\n",
            "[628733 314367 157184  78592  39296  19648   9824   4912   2456   1228\n",
            "    624    299    150     89     38     12      9      4      1]\n",
            "No viable 3\n",
            "---------------\n",
            "19\n",
            "tiempo de ejecucion 0.009526729583740234\n"
          ],
          "name": "stdout"
        }
      ]
    },
    {
      "cell_type": "code",
      "metadata": {
        "colab": {
          "base_uri": "https://localhost:8080/"
        },
        "id": "EZZzawLalnxC",
        "outputId": "adef3975-be03-4a13-fdb0-7da6001f04eb"
      },
      "source": [
        "edad=[]#edades\n",
        "ind=-1\n",
        "for i in range(len(inicial1)):\n",
        "  ind=ind+1\n",
        "  edad.append(ind)\n",
        "print('Edad',edad)"
      ],
      "execution_count": null,
      "outputs": [
        {
          "output_type": "stream",
          "text": [
            "Edad [0, 1, 2, 3, 4, 5, 6, 7, 8, 9, 10, 11, 12, 13, 14, 15, 16, 17, 18]\n"
          ],
          "name": "stdout"
        }
      ]
    },
    {
      "cell_type": "code",
      "metadata": {
        "colab": {
          "base_uri": "https://localhost:8080/",
          "height": 295
        },
        "id": "2iz_lHNvkMKU",
        "outputId": "91b1627f-60eb-4047-de13-c8c5780c2956"
      },
      "source": [
        "fig, ax = plt.subplots()\n",
        "ax.set_ylabel('Número de células')\n",
        "ax.set_xlabel('Edad')\n",
        "ax.set_title('Distribucion de edades ')\n",
        "plt.bar(edad, inicial1)\n",
        "#plt.savefig('Distribución de edades.png')\n",
        "plt.show()"
      ],
      "execution_count": null,
      "outputs": [
        {
          "output_type": "display_data",
          "data": {
            "image/png": "[encoded data removed]",
            "text/plain": [
              "<Figure size 432x288 with 1 Axes>"
            ]
          },
          "metadata": {
            "tags": [],
            "needs_background": "light"
          }
        }
      ]
    },
    {
      "cell_type": "code",
      "metadata": {
        "colab": {
          "base_uri": "https://localhost:8080/"
        },
        "id": "hDdMOLFWnKFu",
        "outputId": "729e13a0-dcd0-4feb-b2ec-a41f27bb5766"
      },
      "source": [
        "#Probabilidad\n",
        "P_1=[] \n",
        "for ii in inicial1:\n",
        "  p_1=ii/total_celulas_1 \n",
        "  P_1.append(p_1)\n",
        "print(P_1)"
      ],
      "execution_count": null,
      "outputs": [
        {
          "output_type": "stream",
          "text": [
            "[0.4999988071276509, 0.24999980118794182, 0.12500029821808728, 0.06250014910904364, 0.03125007455452182, 0.01562503727726091, 0.007812518638630455, 0.0039062593193152275, 0.0019531296596576138, 0.0009765648298288069, 0.0004962348972419996, 0.00023777922159512482, 0.0001192872349139422, 7.077709271560572e-05, 3.021943284486536e-05, 9.542978793115376e-06, 7.157234094836532e-06, 3.180992931038459e-06, 7.952482327596148e-07]\n"
          ],
          "name": "stdout"
        }
      ]
    },
    {
      "cell_type": "code",
      "metadata": {
        "colab": {
          "base_uri": "https://localhost:8080/"
        },
        "id": "-PG97kXwnqvc",
        "outputId": "9e782aa2-00d6-4e11-91b0-7dc6da2a4ca4"
      },
      "source": [
        "#Segunda muestra, fue el número de células que se estudiaron \n",
        "n_cell=100\n",
        "sample_1= random.choices(edad,weights=P_1,k=n_cell)   \n",
        "print(sample_1) "
      ],
      "execution_count": null,
      "outputs": [
        {
          "output_type": "stream",
          "text": [
            "[0, 0, 1, 0, 0, 0, 2, 0, 0, 1, 1, 0, 0, 0, 3, 1, 2, 0, 4, 0, 0, 0, 0, 1, 1, 1, 0, 0, 1, 0, 1, 3, 1, 2, 1, 0, 0, 0, 0, 3, 5, 0, 0, 0, 2, 0, 1, 2, 0, 1, 0, 0, 1, 1, 1, 0, 2, 5, 0, 0, 1, 2, 0, 0, 1, 2, 1, 2, 0, 1, 1, 1, 0, 0, 0, 1, 0, 1, 2, 2, 0, 0, 0, 1, 2, 0, 0, 2, 0, 0, 3, 2, 1, 0, 0, 3, 0, 0, 0, 2]\n"
          ],
          "name": "stdout"
        }
      ]
    },
    {
      "cell_type": "code",
      "metadata": {
        "colab": {
          "base_uri": "https://localhost:8080/"
        },
        "id": "lk0Xk82YVZWJ",
        "outputId": "7cdd3a57-f5ac-4789-f9e7-79c0bd6b79a7"
      },
      "source": [
        "Dic_1= coll.Counter(sample_1)\n",
        "valores_1=Dic_1.values()\n",
        "llaves_1=Dic_1.keys()\n",
        "Ncell_1=[]\n",
        "Edad_1=[]\n",
        "for i in valores_1:\n",
        "  Ncell_1.append(i)\n",
        "print('Numero de celulas',Ncell_1)\n",
        "for j in llaves_1:\n",
        "  Edad_1.append(j)\n",
        "print('Edades',Edad_1)\n",
        "print(sum(Ncell_1))"
      ],
      "execution_count": null,
      "outputs": [
        {
          "output_type": "stream",
          "text": [
            "Numero de celulas [51, 26, 15, 5, 1, 2]\n",
            "Edades [0, 1, 2, 3, 4, 5]\n",
            "100\n"
          ],
          "name": "stdout"
        }
      ]
    },
    {
      "cell_type": "code",
      "metadata": {
        "colab": {
          "base_uri": "https://localhost:8080/",
          "height": 295
        },
        "id": "LT3l6BgeS-xg",
        "outputId": "1aeafd36-5821-4c4f-94ff-290845c952ef"
      },
      "source": [
        "fig, ax = plt.subplots()  \n",
        "ax.set_ylabel('Número de celulas')\n",
        "ax.set_xlabel('Edad')\n",
        "ax.set_title('Distribucion de edades final ')\n",
        "plt.bar(Edad_1, Ncell_1)\n",
        "#plt.savefig('Distribucion de edades .png')\n",
        "plt.show()"
      ],
      "execution_count": null,
      "outputs": [
        {
          "output_type": "display_data",
          "data": {
            "image/png": "[encoded data removed]",
            "text/plain": [
              "<Figure size 432x288 with 1 Axes>"
            ]
          },
          "metadata": {
            "tags": [],
            "needs_background": "light"
          }
        }
      ]
    },
    {
      "cell_type": "markdown",
      "metadata": {
        "id": "XjREmh0HYOCi"
      },
      "source": [
        "\n",
        "\n",
        "---\n",
        "\n",
        "\n",
        "\n",
        "---\n",
        "\n"
      ]
    },
    {
      "cell_type": "code",
      "metadata": {
        "colab": {
          "base_uri": "https://localhost:8080/"
        },
        "id": "vN2OTiBuYPtD",
        "outputId": "5e7ccbb9-c7a7-458e-a393-8fdd3d07d4ff"
      },
      "source": [
        "#Porcentaje de las edades dentro de la distribucion \n",
        "per_cell=[]\n",
        "for i in range(len(Edad_1)):\n",
        "  per_c=(Ncell_1[i]*100)/180\n",
        "  per_cell.append(per_c)\n",
        "print(per_cell)\n",
        "print(Edad_1)"
      ],
      "execution_count": null,
      "outputs": [
        {
          "output_type": "stream",
          "text": [
            "[28.333333333333332, 14.444444444444445, 8.333333333333334, 2.7777777777777777, 0.5555555555555556, 1.1111111111111112]\n",
            "[0, 1, 2, 3, 4, 5]\n"
          ],
          "name": "stdout"
        }
      ]
    },
    {
      "cell_type": "markdown",
      "metadata": {
        "id": "KkUHagK0hUYz"
      },
      "source": [
        "\n",
        "\n",
        "---\n",
        "\n",
        "\n",
        "\n",
        "---\n",
        "\n"
      ]
    },
    {
      "cell_type": "markdown",
      "metadata": {
        "id": "WKHn93MiPq-x"
      },
      "source": [
        "## Datos"
      ]
    },
    {
      "cell_type": "code",
      "metadata": {
        "id": "Scr_Q_i8Pnt6"
      },
      "source": [
        "x=[0,2,4,6,8,10,12,14,16,18,20,22,24,26,28,30,32,34,36,38,40,42,44,46,48,50,58,59,60] # Generaciones\n",
        "y=[1,1,1,0.99,0.98,0.97,0.95,0.9,0.88,0.88,0.84,0.77,0.72,0.64,0.6,0.53,0.4,0.32,0.27,0.19,0.12,0.10,0.09,0.05,0.04,0.02,0.01,0,0] # "
      ],
      "execution_count": null,
      "outputs": []
    },
    {
      "cell_type": "code",
      "metadata": {
        "colab": {
          "base_uri": "https://localhost:8080/",
          "height": 331
        },
        "id": "ASjNHoaVQP3i",
        "outputId": "ea656404-b667-4dee-92e2-de873e4f6e81"
      },
      "source": [
        "#fit\n",
        "xa=np.array(x)\n",
        "ya=np.array(y)\n",
        "def fsigmoid(x,a,b):\n",
        "  return np.exp(a+b*x)/( 1+ np.exp(a+b*x))\n",
        "xdata = np.linspace(0, 35, 35)\n",
        "ydata = np.random.normal(size=len(xdata))\n",
        "popt, pcov = curve_fit(fsigmoid, xa, ya)\n",
        "a=curve_fit(fsigmoid,xa,ya)\n",
        "print('popt',popt,'pcov', pcov)\n",
        "plt.figure()\n",
        "plt.plot(xa, fsigmoid(xa, *popt), 'r-', label='fit')\n",
        "plt.plot(x,y)\n",
        "plt.title('RLS')\n",
        "plt.ylabel('Fracción de células viables ')\n",
        "plt.xlabel('Generaciones')\n",
        "plt.legend(loc=4)\n",
        "plt.plot(xa, ya, 'b-', label='data')\n",
        "plt.show()"
      ],
      "execution_count": null,
      "outputs": [
        {
          "output_type": "stream",
          "text": [
            "popt [ 5.01377943 -0.16867804] pcov [[ 1.12734971e-02 -3.61589181e-04]\n",
            " [-3.61589181e-04  1.21808784e-05]]\n"
          ],
          "name": "stdout"
        },
        {
          "output_type": "display_data",
          "data": {
            "image/png": "[encoded data removed]",
            "text/plain": [
              "<Figure size 432x288 with 1 Axes>"
            ]
          },
          "metadata": {
            "tags": [],
            "needs_background": "light"
          }
        }
      ]
    },
    {
      "cell_type": "markdown",
      "metadata": {
        "id": "xO1V4P3TTkUu"
      },
      "source": [
        "\n",
        "\n",
        "---\n",
        "\n"
      ]
    },
    {
      "cell_type": "markdown",
      "metadata": {
        "id": "tjxvBkYlBojq"
      },
      "source": [
        "## Simulacion de la curva de envejecimiento\n"
      ]
    },
    {
      "cell_type": "code",
      "metadata": {
        "colab": {
          "base_uri": "https://localhost:8080/"
        },
        "id": "oxwKgsaGBptH",
        "outputId": "c32ce8cf-f2b1-41f9-d8e6-7f3b8fc7bb74"
      },
      "source": [
        "R=[]#Me crea una lista de numeros aleatorios entre cero y uno \n",
        "for i in range(n_cell):\n",
        "  r=random.random()\n",
        "  R.append(r)\n",
        "print(R)\n",
        "print(len(R))"
      ],
      "execution_count": null,
      "outputs": [
        {
          "output_type": "stream",
          "text": [
            "[0.668564280115066, 0.6940163392050199, 0.516767256268976, 0.9199068374439227, 0.7711898127952587, 0.9425072751606645, 0.09065834307324883, 0.8060621412355736, 0.46048033157783397, 0.17007796169930323, 0.9449756620480283, 0.33339792573036, 0.372106154397448, 0.8127103114056253, 0.2881795627026733, 0.4334875018509051, 0.28708027458209195, 0.932107073917, 0.6615728342559556, 0.4563848434895733, 0.8853536129209462, 0.34154707358520264, 0.2134021870617523, 0.5180888467144263, 0.5660602166745465, 0.1923115985121836, 0.1695026601008558, 0.8578680831218889, 0.2922271377612743, 0.12262138032576975, 0.32405703157124677, 0.25459167403531213, 0.9584081593009133, 0.7582144434520933, 0.5639914007679323, 0.6561032070074659, 0.3760722957150715, 0.6877658375340555, 0.4477553508676595, 0.8265732825425254, 0.9629336634050711, 0.204958262604215, 0.16948358762269, 0.23774983644260694, 0.8494731430495025, 0.036685973579764664, 0.4932602889513784, 0.49456798458247164, 0.6684227564784543, 0.803958462950058, 0.18114788550463246, 0.3759964118137552, 0.7521202982113572, 0.3918304824056099, 0.02080255141545506, 0.8375105620973299, 0.9241829327107942, 0.9340935472564589, 0.04190804155383632, 0.6820025561412675, 0.18908998165645685, 0.9734446874628272, 0.7282583265010323, 0.18541562618183183, 0.03511083625850664, 0.594460059146279, 0.41974374652592816, 0.6013590135834138, 0.7802425365977765, 0.6521368969321272, 0.4676356326933955, 0.5094074518832737, 0.5304931455901787, 0.6391671289324641, 0.6029727291006453, 0.018561052566300695, 0.053034623023041405, 0.45647159867920983, 0.2598497024163551, 0.3112826201432639, 0.2126898703023189, 0.23413808742784092, 0.6550402476725471, 0.5568925983579688, 0.19723315856596235, 0.2926415267824788, 0.00572536132221213, 0.09792041941325724, 0.7425882742911225, 0.7227391311472305, 0.7897511326917164, 0.6834810462780035, 0.6790454122212055, 0.812363089483947, 0.6685720197494546, 0.5453143537465481, 0.7314057891319308, 0.6653206124813578, 0.6591084582463854, 0.15204863845561922]\n",
            "100\n"
          ],
          "name": "stdout"
        }
      ]
    },
    {
      "cell_type": "markdown",
      "metadata": {
        "id": "rql_sEsKFjUe"
      },
      "source": [
        "La ecuación inversa que utilizo para ajustar la curva \n",
        "$$f(x)=\\frac{ln\\left ( \\frac{1-x}{x} \\right )-a}{b}$$"
      ]
    },
    {
      "cell_type": "code",
      "metadata": {
        "colab": {
          "base_uri": "https://localhost:8080/"
        },
        "id": "kI2tPbVYBsep",
        "outputId": "2ddc8aa4-5e00-4df4-8e6a-49562092bcc9"
      },
      "source": [
        "p=[]\n",
        "def inversa(x,a,b):\n",
        "  return (np.log((1-x)/x)-a)/b\n",
        "for i in R:\n",
        "  p1= inversa(i,popt[0],popt[1])\n",
        "  p.append(p1)\n",
        "print(p)"
      ],
      "execution_count": null,
      "outputs": [
        {
          "output_type": "stream",
          "text": [
            "[33.88394865349381, 34.57914960916263, 30.12172521962574, 44.195802129445255, 36.92727950097535, 46.30516567014107, 16.05518118796064, 38.169772555975946, 28.784839409204064, 20.326917282589797, 46.58082902086799, 25.616392425303133, 26.622241115986327, 38.42526001805583, 24.363203885679983, 28.137291694836545, 24.331397548648827, 45.25363949084293, 33.69786940608983, 28.68704328918181, 41.84251845935999, 25.832478698784744, 21.990064078969745, 30.153103313075338, 31.299711999121175, 21.216277024770722, 20.30272166690852, 40.38151079346236, 24.47969836191298, 18.05772811280553, 25.365425237415497, 23.355193272794935, 48.323712386405745, 36.49967967356039, 31.24980836243344, 33.55360244576026, 26.722662244439043, 34.405630883688474, 28.480501843264243, 38.981439564309774, 49.03456724882031, 21.687417930099937, 20.3019184122363, 22.816980872290845, 39.98300062873948, 10.349862128545219, 29.564126497947356, 29.595141563823194, 33.88016264826094, 38.090319407989824, 20.780355568153837, 26.720744887809136, 36.30426406528897, 27.117667725191925, 6.8895853916374445, 39.44556296294395, 44.54857294080305, 45.442308923758816, 11.171065209629418, 34.24731188121533, 21.09252218308393, 51.07594645215321, 35.568253723222576, 20.949385722104452, 10.080007971871913, 31.99120376859116, 27.804176330260916, 32.161330979235565, 37.23578774222573, 33.4496705524023, 28.955403229919817, 29.947073355534403, 30.44796778042269, 33.11356037522526, 32.20126570559041, 6.20012571227883, 12.636273503720998, 28.689116328430433, 23.518352027227614, 25.01599878623825, 21.96487616721931, 22.698204076892846, 33.52569376230018, 31.07896916681242, 21.402321628942975, 24.491571202473406, -0.8497156467460445, 16.559546029581487, 36.00494932525141, 35.403950005357004, 37.569830308599606, 34.28777796016228, 34.16667484732066, 38.41174584594446, 33.88415572577668, 30.801493298660237, 35.662888126691065, 33.79737759531145, 33.63273083275804, 19.535184225161508]\n"
          ],
          "name": "stdout"
        }
      ]
    },
    {
      "cell_type": "code",
      "metadata": {
        "colab": {
          "base_uri": "https://localhost:8080/"
        },
        "id": "EIfYFhhfS_Iy",
        "outputId": "b9c2b4ee-aadf-47d5-8ac0-790a47e68dae"
      },
      "source": [
        "#RLS promedio \n",
        "RLSmean1=statistics.mean(p)\n",
        "print(RLSmean1)"
      ],
      "execution_count": null,
      "outputs": [
        {
          "output_type": "stream",
          "text": [
            "29.67693001146707\n"
          ],
          "name": "stdout"
        }
      ]
    },
    {
      "cell_type": "markdown",
      "metadata": {
        "id": "wypgQX1JRcBB"
      },
      "source": [
        "La siguiente celda de código es para restar la distribución de edades hallada, para esto, se divide la lista “p” según la cantidad de edades presentes en la distribución, y la cantidad de elementos dentro de la lista vienen dada por la cantidad de células en cada edad. Luego de esto se resta los valores de la edad a la respectiva lista. "
      ]
    },
    {
      "cell_type": "markdown",
      "metadata": {
        "id": "tQQokXjuZ6n2"
      },
      "source": [
        "Es posible que se presente un error cuando hay mas listas definidas que edades en la distribución, cuando suceda esto por favor comentar la lista donde se presenta el error y verificar que la suma sea igual al valor de n_cell "
      ]
    },
    {
      "cell_type": "code",
      "metadata": {
        "colab": {
          "base_uri": "https://localhost:8080/"
        },
        "id": "G3k_SraYM0AQ",
        "outputId": "71f24743-f7d1-4f64-afcf-ac134a52ea31"
      },
      "source": [
        "p_1=p[0:Ncell_1[0]]\n",
        "p_2=p[Ncell_1[0]:Ncell_1[1]+Ncell_1[0]]\n",
        "p_3=p[Ncell_1[1]+Ncell_1[0]:(Ncell_1[2]+Ncell_1[1]+Ncell_1[0])]\n",
        "p_4=p[(Ncell_1[2]+Ncell_1[1]+Ncell_1[0]):(Ncell_1[2]+Ncell_1[1]+Ncell_1[3]+Ncell_1[0])]\n",
        "p_5=p[(Ncell_1[2]+Ncell_1[1]+Ncell_1[3]+Ncell_1[0]):(Ncell_1[2]+Ncell_1[1]+Ncell_1[3]+Ncell_1[4]+Ncell_1[0])]\n",
        "p_6=p[(Ncell_1[2]+Ncell_1[1]+Ncell_1[3]+Ncell_1[4]+Ncell_1[0]):(Ncell_1[2]+Ncell_1[1]+Ncell_1[3]+Ncell_1[4]+Ncell_1[5]+Ncell_1[0])]\n",
        "#p_7=p[(Ncell_1[2]+Ncell_1[1]+Ncell_1[3]+Ncell_1[4]+Ncell_1[5]+Ncell_1[0]):(Ncell_1[2]+Ncell_1[1]+Ncell_1[3]+Ncell_1[4]+Ncell_1[5]+Ncell_1[6]+Ncell_1[0])]\n",
        "#p_8=p[(Ncell_1[2]+Ncell_1[1]+Ncell_1[3]+Ncell_1[4]+Ncell_1[5]+Ncell_1[6]+Ncell_1[0]):(Ncell_1[2]+Ncell_1[1]+Ncell_1[3]+Ncell_1[4]+Ncell_1[5]+Ncell_1[6]+Ncell_1[0]+Ncell_1[7])]\n",
        "#p_9=p[(Ncell_1[2]+Ncell_1[1]+Ncell_1[3]+Ncell_1[4]+Ncell_1[5]+Ncell_1[6]+Ncell_1[0]+Ncell_1[7]):(Ncell_1[2]+Ncell_1[1]+Ncell_1[3]+Ncell_1[4]+Ncell_1[5]+Ncell_1[6]+Ncell_1[0]+Ncell_1[7]+Ncell_1[8])]\n",
        "print(len(p_1)+len(p_2)+len(p_3)+len(p_4)+len(p_5)+len(p_6))#+len(p_7))#+len(p_8))#+len(p_9))"
      ],
      "execution_count": null,
      "outputs": [
        {
          "output_type": "stream",
          "text": [
            "100\n"
          ],
          "name": "stdout"
        }
      ]
    },
    {
      "cell_type": "code",
      "metadata": {
        "colab": {
          "base_uri": "https://localhost:8080/"
        },
        "id": "2hUvlDVQR_tm",
        "outputId": "e8dd5a03-ab8e-436f-db72-ab744234fe64"
      },
      "source": [
        "dp_1=[]\n",
        "for i in range(len(p_1)):\n",
        "  d=p_1[i]-Edad_1[0]\n",
        "  dp_1.append(d)\n",
        "print(dp_1)\n",
        "len(dp_1)"
      ],
      "execution_count": null,
      "outputs": [
        {
          "output_type": "stream",
          "text": [
            "[33.88394865349381, 34.57914960916263, 30.12172521962574, 44.195802129445255, 36.92727950097535, 46.30516567014107, 16.05518118796064, 38.169772555975946, 28.784839409204064, 20.326917282589797, 46.58082902086799, 25.616392425303133, 26.622241115986327, 38.42526001805583, 24.363203885679983, 28.137291694836545, 24.331397548648827, 45.25363949084293, 33.69786940608983, 28.68704328918181, 41.84251845935999, 25.832478698784744, 21.990064078969745, 30.153103313075338, 31.299711999121175, 21.216277024770722, 20.30272166690852, 40.38151079346236, 24.47969836191298, 18.05772811280553, 25.365425237415497, 23.355193272794935, 48.323712386405745, 36.49967967356039, 31.24980836243344, 33.55360244576026, 26.722662244439043, 34.405630883688474, 28.480501843264243, 38.981439564309774, 49.03456724882031, 21.687417930099937, 20.3019184122363, 22.816980872290845, 39.98300062873948, 10.349862128545219, 29.564126497947356, 29.595141563823194, 33.88016264826094, 38.090319407989824, 20.780355568153837]\n"
          ],
          "name": "stdout"
        },
        {
          "output_type": "execute_result",
          "data": {
            "text/plain": [
              "51"
            ]
          },
          "metadata": {
            "tags": []
          },
          "execution_count": 31
        }
      ]
    },
    {
      "cell_type": "code",
      "metadata": {
        "colab": {
          "base_uri": "https://localhost:8080/"
        },
        "id": "zYtf3e1ES6IA",
        "outputId": "2676d65c-5bdc-4bce-d3de-ff74702168f7"
      },
      "source": [
        "dp_2=[]\n",
        "for i in range(len(p_2)):\n",
        "  d=p_2[i]-Edad_1[1]\n",
        "  dp_2.append(d)\n",
        "print(dp_2)\n",
        "len(dp_2)"
      ],
      "execution_count": null,
      "outputs": [
        {
          "output_type": "stream",
          "text": [
            "[25.720744887809136, 35.30426406528897, 26.117667725191925, 5.8895853916374445, 38.44556296294395, 43.54857294080305, 44.442308923758816, 10.171065209629418, 33.24731188121533, 20.09252218308393, 50.07594645215321, 34.568253723222576, 19.949385722104452, 9.080007971871913, 30.99120376859116, 26.804176330260916, 31.161330979235565, 36.23578774222573, 32.4496705524023, 27.955403229919817, 28.947073355534403, 29.44796778042269, 32.11356037522526, 31.20126570559041, 5.20012571227883, 11.636273503720998]\n"
          ],
          "name": "stdout"
        },
        {
          "output_type": "execute_result",
          "data": {
            "text/plain": [
              "26"
            ]
          },
          "metadata": {
            "tags": []
          },
          "execution_count": 32
        }
      ]
    },
    {
      "cell_type": "code",
      "metadata": {
        "colab": {
          "base_uri": "https://localhost:8080/"
        },
        "id": "a5n9k0CBS8jq",
        "outputId": "d72ceefa-1c1b-4476-a8df-7aa049f499e7"
      },
      "source": [
        "dp_3=[]\n",
        "for i in range(len(p_3)):\n",
        "  d=p_3[i]-Edad_1[2]\n",
        "  dp_3.append(d)\n",
        "print(dp_3)\n",
        "len(dp_3)"
      ],
      "execution_count": null,
      "outputs": [
        {
          "output_type": "stream",
          "text": [
            "[26.689116328430433, 21.518352027227614, 23.01599878623825, 19.96487616721931, 20.698204076892846, 31.52569376230018, 29.07896916681242, 19.402321628942975, 22.491571202473406, -2.8497156467460445, 14.559546029581487, 34.00494932525141, 33.403950005357004, 35.569830308599606, 32.28777796016228]\n"
          ],
          "name": "stdout"
        },
        {
          "output_type": "execute_result",
          "data": {
            "text/plain": [
              "15"
            ]
          },
          "metadata": {
            "tags": []
          },
          "execution_count": 33
        }
      ]
    },
    {
      "cell_type": "code",
      "metadata": {
        "colab": {
          "base_uri": "https://localhost:8080/"
        },
        "id": "VQJ758dvTJYn",
        "outputId": "6e98197e-b6d1-451b-dc56-8bf51dc43690"
      },
      "source": [
        "dp_4=[]\n",
        "for i in range(len(p_4)):\n",
        "  d=p_4[i]-Edad_1[3]\n",
        "  dp_4.append(d)\n",
        "#dp_4=[dp_3-Edad[3]]\n",
        "print(dp_4)\n",
        "len(dp_4)"
      ],
      "execution_count": null,
      "outputs": [
        {
          "output_type": "stream",
          "text": [
            "[31.166674847320657, 35.41174584594446, 30.88415572577668, 27.801493298660237, 32.662888126691065]\n"
          ],
          "name": "stdout"
        },
        {
          "output_type": "execute_result",
          "data": {
            "text/plain": [
              "5"
            ]
          },
          "metadata": {
            "tags": []
          },
          "execution_count": 34
        }
      ]
    },
    {
      "cell_type": "code",
      "metadata": {
        "colab": {
          "base_uri": "https://localhost:8080/"
        },
        "id": "s8MQnvAOTSDY",
        "outputId": "7aac653f-11b7-461f-bb4b-98a34fe3ff54"
      },
      "source": [
        "dp_5=[]\n",
        "for i in range(len(p_5)):\n",
        "  d=p_5[i]-Edad_1[4]\n",
        "  dp_5.append(d)\n",
        "print(dp_5)\n",
        "len(dp_5)"
      ],
      "execution_count": null,
      "outputs": [
        {
          "output_type": "stream",
          "text": [
            "[29.797377595311453]\n"
          ],
          "name": "stdout"
        },
        {
          "output_type": "execute_result",
          "data": {
            "text/plain": [
              "1"
            ]
          },
          "metadata": {
            "tags": []
          },
          "execution_count": 35
        }
      ]
    },
    {
      "cell_type": "code",
      "metadata": {
        "colab": {
          "base_uri": "https://localhost:8080/"
        },
        "id": "goADsN_3TT4g",
        "outputId": "fa855c6a-87ea-4b47-895f-8038c5c25320"
      },
      "source": [
        "dp_6=[]\n",
        "for i in range(len(p_6)):\n",
        "  d=p_6[i]-Edad_1[5]\n",
        "  dp_6.append(d)\n",
        "print(dp_6)\n",
        "len(dp_6)"
      ],
      "execution_count": null,
      "outputs": [
        {
          "output_type": "stream",
          "text": [
            "[28.632730832758043, 14.535184225161508]\n"
          ],
          "name": "stdout"
        },
        {
          "output_type": "execute_result",
          "data": {
            "text/plain": [
              "2"
            ]
          },
          "metadata": {
            "tags": []
          },
          "execution_count": 36
        }
      ]
    },
    {
      "cell_type": "code",
      "metadata": {
        "colab": {
          "base_uri": "https://localhost:8080/"
        },
        "id": "bxtg0UX9TV0A",
        "outputId": "e2ecad27-fa08-46ab-e701-41a320bb6e41"
      },
      "source": [
        "dp_7=[]\n",
        "for i in range(len(p_7)):\n",
        "  d=p_7[i]-Edad_1[6]\n",
        "  dp_7.append(d)\n",
        "print(dp_7)\n",
        "len(dp_7)"
      ],
      "execution_count": null,
      "outputs": [
        {
          "output_type": "stream",
          "text": [
            "[11.22058247345875, 11.701056456559623, 16.753601572164044, 11.876389037268646, 18.835902373671917, 11.943177703551243]\n"
          ],
          "name": "stdout"
        },
        {
          "output_type": "execute_result",
          "data": {
            "text/plain": [
              "6"
            ]
          },
          "metadata": {
            "tags": []
          },
          "execution_count": 39
        }
      ]
    },
    {
      "cell_type": "code",
      "metadata": {
        "colab": {
          "base_uri": "https://localhost:8080/"
        },
        "id": "LPPAsjLOTX1Y",
        "outputId": "9fd4056e-5b38-4fb2-d948-c31cfdef4f28"
      },
      "source": [
        "dp_8=[]\n",
        "for i in range(len(p_8)):\n",
        "  d=p_8[i]-Edad_1[7]\n",
        "  dp_8.append(d)\n",
        "print(dp_8)\n",
        "print(Edad_1[7])\n",
        "len(dp_8)"
      ],
      "execution_count": null,
      "outputs": [
        {
          "output_type": "stream",
          "text": [
            "[4.0971774443547595, 11.905838818446075, 13.088015782043396, 12.194127283264145]\n",
            "7\n"
          ],
          "name": "stdout"
        },
        {
          "output_type": "execute_result",
          "data": {
            "text/plain": [
              "4"
            ]
          },
          "metadata": {
            "tags": []
          },
          "execution_count": 40
        }
      ]
    },
    {
      "cell_type": "code",
      "metadata": {
        "colab": {
          "base_uri": "https://localhost:8080/"
        },
        "id": "W6W8xWlDTajo",
        "outputId": "c0bf20b2-253a-458f-91fa-80a355b3396c"
      },
      "source": [
        "dp_9=[]\n",
        "for i in range(len(p_9)):\n",
        "  d=p_9[i]-Edad_1[8]\n",
        "  dp_9.append(d)\n",
        "print(dp_9)\n",
        "len(dp_9)"
      ],
      "execution_count": null,
      "outputs": [
        {
          "output_type": "stream",
          "text": [
            "[14.06081066323198]\n"
          ],
          "name": "stdout"
        },
        {
          "output_type": "execute_result",
          "data": {
            "text/plain": [
              "1"
            ]
          },
          "metadata": {
            "tags": []
          },
          "execution_count": 1013
        }
      ]
    },
    {
      "cell_type": "code",
      "metadata": {
        "colab": {
          "base_uri": "https://localhost:8080/"
        },
        "id": "bR3m0z0xTmm_",
        "outputId": "13739047-8cf9-4edc-c496-bce75bdd9a12"
      },
      "source": [
        "listaobservada=dp_1+dp_2+dp_3+dp_4+dp_5+dp_6#+dp_7+dp_8#+dp_9\n",
        "print(listaobservada)\n",
        "len(listaobservada)"
      ],
      "execution_count": null,
      "outputs": [
        {
          "output_type": "stream",
          "text": [
            "[33.88394865349381, 34.57914960916263, 30.12172521962574, 44.195802129445255, 36.92727950097535, 46.30516567014107, 16.05518118796064, 38.169772555975946, 28.784839409204064, 20.326917282589797, 46.58082902086799, 25.616392425303133, 26.622241115986327, 38.42526001805583, 24.363203885679983, 28.137291694836545, 24.331397548648827, 45.25363949084293, 33.69786940608983, 28.68704328918181, 41.84251845935999, 25.832478698784744, 21.990064078969745, 30.153103313075338, 31.299711999121175, 21.216277024770722, 20.30272166690852, 40.38151079346236, 24.47969836191298, 18.05772811280553, 25.365425237415497, 23.355193272794935, 48.323712386405745, 36.49967967356039, 31.24980836243344, 33.55360244576026, 26.722662244439043, 34.405630883688474, 28.480501843264243, 38.981439564309774, 49.03456724882031, 21.687417930099937, 20.3019184122363, 22.816980872290845, 39.98300062873948, 10.349862128545219, 29.564126497947356, 29.595141563823194, 33.88016264826094, 38.090319407989824, 20.780355568153837, 25.720744887809136, 35.30426406528897, 26.117667725191925, 5.8895853916374445, 38.44556296294395, 43.54857294080305, 44.442308923758816, 10.171065209629418, 33.24731188121533, 20.09252218308393, 50.07594645215321, 34.568253723222576, 19.949385722104452, 9.080007971871913, 30.99120376859116, 26.804176330260916, 31.161330979235565, 36.23578774222573, 32.4496705524023, 27.955403229919817, 28.947073355534403, 29.44796778042269, 32.11356037522526, 31.20126570559041, 5.20012571227883, 11.636273503720998, 26.689116328430433, 21.518352027227614, 23.01599878623825, 19.96487616721931, 20.698204076892846, 31.52569376230018, 29.07896916681242, 19.402321628942975, 22.491571202473406, -2.8497156467460445, 14.559546029581487, 34.00494932525141, 33.403950005357004, 35.569830308599606, 32.28777796016228, 31.166674847320657, 35.41174584594446, 30.88415572577668, 27.801493298660237, 32.662888126691065, 29.797377595311453, 28.632730832758043, 14.535184225161508]\n"
          ],
          "name": "stdout"
        },
        {
          "output_type": "execute_result",
          "data": {
            "text/plain": [
              "100"
            ]
          },
          "metadata": {
            "tags": []
          },
          "execution_count": 37
        }
      ]
    },
    {
      "cell_type": "code",
      "metadata": {
        "colab": {
          "base_uri": "https://localhost:8080/"
        },
        "id": "OaG2_LLFS2b8",
        "outputId": "9a086515-ef88-495d-ef40-063a29374554"
      },
      "source": [
        "#RLS promedio \n",
        "RLSmean2=statistics.mean(listaobservada)\n",
        "print(RLSmean2)"
      ],
      "execution_count": null,
      "outputs": [
        {
          "output_type": "stream",
          "text": [
            "28.82693001146707\n"
          ],
          "name": "stdout"
        }
      ]
    },
    {
      "cell_type": "markdown",
      "metadata": {
        "id": "u9zD4BZ8TnYg"
      },
      "source": [
        "## Simulación de la curva de RLS sin la distribución de edades  "
      ]
    },
    {
      "cell_type": "code",
      "metadata": {
        "colab": {
          "base_uri": "https://localhost:8080/"
        },
        "id": "nI2Pu6NUTvUw",
        "outputId": "a53f5fa9-32d4-4ec3-8814-ddf83bf1e394"
      },
      "source": [
        "l=[1,2,3,4,5,6,7,8,9,10,11,12,13,14,15,16,17,18,19,20,21,22,23,24,25,26,27,28,29,30]# lista de tiempos en los que se grafica \n",
        "d=[] # lista donde se van a guardar los datos de las celulas viables \n",
        "for i in x: \n",
        "  num=0  \n",
        "  for j in p:\n",
        "    if j>i:\n",
        "      num=num+1\n",
        "  d.append(num)\n",
        "print(d)\n",
        "for i in range(len(d)):  \n",
        "    d[i] /= len(listaobservada)\n",
        "print(d)"
      ],
      "execution_count": null,
      "outputs": [
        {
          "output_type": "stream",
          "text": [
            "[99, 99, 99, 99, 97, 97, 94, 93, 93, 91, 89, 78, 74, 66, 61, 52, 44, 32, 24, 18, 11, 9, 9, 5, 3, 1, 0, 0, 0]\n",
            "[0.99, 0.99, 0.99, 0.99, 0.97, 0.97, 0.94, 0.93, 0.93, 0.91, 0.89, 0.78, 0.74, 0.66, 0.61, 0.52, 0.44, 0.32, 0.24, 0.18, 0.11, 0.09, 0.09, 0.05, 0.03, 0.01, 0.0, 0.0, 0.0]\n"
          ],
          "name": "stdout"
        }
      ]
    },
    {
      "cell_type": "code",
      "metadata": {
        "colab": {
          "base_uri": "https://localhost:8080/",
          "height": 295
        },
        "id": "v6G3rEPvTycZ",
        "outputId": "9d284dab-8d04-41b9-c75b-72a66a8b234e"
      },
      "source": [
        "plt.plot(x,d) \n",
        "plt.xlabel('Generaciones')\n",
        "plt.ylabel(' Fracción de células viables  ')\n",
        "plt.title('RLS ')\n",
        "plt.show()"
      ],
      "execution_count": null,
      "outputs": [
        {
          "output_type": "display_data",
          "data": {
            "image/png": "[encoded data removed]",
            "text/plain": [
              "<Figure size 432x288 with 1 Axes>"
            ]
          },
          "metadata": {
            "tags": [],
            "needs_background": "light"
          }
        }
      ]
    },
    {
      "cell_type": "markdown",
      "metadata": {
        "id": "LWZ-KhtaT30Q"
      },
      "source": [
        "## Simulación de la curva de RLS con la distribución de edades"
      ]
    },
    {
      "cell_type": "code",
      "metadata": {
        "colab": {
          "base_uri": "https://localhost:8080/"
        },
        "id": "qkfhZr_eUOhf",
        "outputId": "80581a5c-e933-43c6-b621-edb2a76dec97"
      },
      "source": [
        "l=[1,2,3,4,5,6,7,8,9,10,11,12,13,14,15,16,17,18,19,20,21,22,23,24,25,26,27,29,29,30]# lista de tiempos en los que se grafica \n",
        "viab=[] # lista donde se van a guardar los datos de las celulas viables \n",
        "for i in x:  \n",
        "  num=0 \n",
        "  for j in listaobservada:\n",
        "    if j>i:\n",
        "      num=num+1\n",
        "  viab.append(num)\n",
        "print(viab)\n",
        "for i in range(len(viab)): \n",
        "    viab[i] /= len(listaobservada)\n",
        "print(viab)"
      ],
      "execution_count": null,
      "outputs": [
        {
          "output_type": "stream",
          "text": [
            "[99, 99, 99, 97, 97, 96, 93, 93, 91, 90, 86, 76, 72, 65, 58, 47, 37, 27, 20, 17, 11, 9, 8, 5, 3, 1, 0, 0, 0]\n",
            "[0.99, 0.99, 0.99, 0.97, 0.97, 0.96, 0.93, 0.93, 0.91, 0.9, 0.86, 0.76, 0.72, 0.65, 0.58, 0.47, 0.37, 0.27, 0.2, 0.17, 0.11, 0.09, 0.08, 0.05, 0.03, 0.01, 0.0, 0.0, 0.0]\n"
          ],
          "name": "stdout"
        }
      ]
    },
    {
      "cell_type": "code",
      "metadata": {
        "colab": {
          "base_uri": "https://localhost:8080/",
          "height": 295
        },
        "id": "y_0PHcI8T7Xh",
        "outputId": "abc61614-5854-4979-d264-1068adf59bc2"
      },
      "source": [
        "plt.plot(x,viab) \n",
        "plt.xlabel('Generaciones')\n",
        "plt.ylabel('Fracción de células viables ')\n",
        "plt.title('RLS Con la distribución ')\n",
        "plt.show() "
      ],
      "execution_count": null,
      "outputs": [
        {
          "output_type": "display_data",
          "data": {
            "image/png": "[encoded data removed]",
            "text/plain": [
              "<Figure size 432x288 with 1 Axes>"
            ]
          },
          "metadata": {
            "tags": [],
            "needs_background": "light"
          }
        }
      ]
    },
    {
      "cell_type": "markdown",
      "metadata": {
        "id": "xgk2cC3uUUg_"
      },
      "source": [
        "## Comparacion entre las simulaciones de las dos curvas de RLS "
      ]
    },
    {
      "cell_type": "code",
      "metadata": {
        "colab": {
          "base_uri": "https://localhost:8080/",
          "height": 295
        },
        "id": "uVwCWL4IUYaW",
        "outputId": "9a587843-c179-4656-e9a2-3f4c9f2524d6"
      },
      "source": [
        "plt.plot(x, viab, '--', label='distribucion de edades')# con distribucion de edades \n",
        "plt.plot(x, d, label=' virgenes')# virgenes sin distribucion \n",
        "plt.title('RLS')\n",
        "plt.ylabel('Fracción de células viables ')\n",
        "plt.xlabel('Generaciones')\n",
        "plt.legend(loc=3)\n",
        "plt.show()"
      ],
      "execution_count": null,
      "outputs": [
        {
          "output_type": "display_data",
          "data": {
            "image/png": "[encoded data removed]",
            "text/plain": [
              "<Figure size 432x288 with 1 Axes>"
            ]
          },
          "metadata": {
            "tags": [],
            "needs_background": "light"
          }
        }
      ]
    },
    {
      "cell_type": "markdown",
      "metadata": {
        "id": "x0YFGn6hVPo3"
      },
      "source": [
        "## Comparacion con los datos "
      ]
    },
    {
      "cell_type": "markdown",
      "metadata": {
        "id": "1JpGxJbTVU98"
      },
      "source": [
        "RLS sin la distribución de edades (virgenes)"
      ]
    },
    {
      "cell_type": "code",
      "metadata": {
        "colab": {
          "base_uri": "https://localhost:8080/",
          "height": 295
        },
        "id": "mJ097I8YVRqI",
        "outputId": "3bb96a2b-530c-41ce-a125-c3d9c2c64379"
      },
      "source": [
        "plt.plot(x, d, '--', label='simulación') \n",
        "plt.plot(x, y, label=' datos ')\n",
        "plt.title('RLS')\n",
        "plt.ylabel('Fracción de células viables ')\n",
        "plt.xlabel('Generaciones')\n",
        "plt.legend(loc=3)\n",
        "plt.show()"
      ],
      "execution_count": null,
      "outputs": [
        {
          "output_type": "display_data",
          "data": {
            "image/png": "[encoded data removed]",
            "text/plain": [
              "<Figure size 432x288 with 1 Axes>"
            ]
          },
          "metadata": {
            "tags": [],
            "needs_background": "light"
          }
        }
      ]
    },
    {
      "cell_type": "markdown",
      "metadata": {
        "id": "tRJfteI8XIO-"
      },
      "source": [
        "Minimos cuadrados "
      ]
    },
    {
      "cell_type": "code",
      "metadata": {
        "colab": {
          "base_uri": "https://localhost:8080/"
        },
        "id": "KZiuw1MpXL0v",
        "outputId": "850dd2c6-6358-4d37-fae4-7b43e94376e4"
      },
      "source": [
        "error=[]\n",
        "for i in range(len(xa)):\n",
        "  r_1=ya[i]\n",
        "  r_t=(r_1-d[i])**2\n",
        "  error.append(r_t)\n",
        "print(error)\n",
        "print(sum(error))"
      ],
      "execution_count": null,
      "outputs": [
        {
          "output_type": "stream",
          "text": [
            "[0.00010000000000000018, 0.00010000000000000018, 0.00010000000000000018, 0.0, 0.00010000000000000018, 0.0, 0.00010000000000000018, 0.0009000000000000016, 0.0025000000000000044, 0.0009000000000000016, 0.0025000000000000044, 0.00010000000000000018, 0.0004000000000000007, 0.0004000000000000007, 0.00010000000000000018, 0.00010000000000000018, 0.0015999999999999983, 0.0, 0.0009000000000000016, 0.00010000000000000018, 9.99999999999999e-05, 0.00010000000000000018, 0.0, 0.0, 0.00010000000000000005, 0.0001, 0.0001, 0.0, 0.0]\n",
            "0.01150000000000001\n"
          ],
          "name": "stdout"
        }
      ]
    },
    {
      "cell_type": "markdown",
      "metadata": {
        "id": "ZZcu8bjyVgom"
      },
      "source": [
        "RLS con la distribucion de edades"
      ]
    },
    {
      "cell_type": "code",
      "metadata": {
        "colab": {
          "base_uri": "https://localhost:8080/",
          "height": 295
        },
        "id": "d2zBHSVlVkpI",
        "outputId": "1ff739ac-819a-4061-f107-1b669f7f2c91"
      },
      "source": [
        "plt.plot(x, viab, '--', label='simulacion') \n",
        "plt.plot(x, y, label=' datos ')\n",
        "plt.title('RLS')\n",
        "plt.ylabel('Fracción de células viables ')\n",
        "plt.xlabel('Generaciones')\n",
        "plt.legend(loc=3)\n",
        "plt.show()"
      ],
      "execution_count": null,
      "outputs": [
        {
          "output_type": "display_data",
          "data": {
            "image/png": "[encoded data removed]",
            "text/plain": [
              "<Figure size 432x288 with 1 Axes>"
            ]
          },
          "metadata": {
            "tags": [],
            "needs_background": "light"
          }
        }
      ]
    },
    {
      "cell_type": "markdown",
      "metadata": {
        "id": "d_C5eCxTan_e"
      },
      "source": [
        "Minimos cuadrados "
      ]
    },
    {
      "cell_type": "code",
      "metadata": {
        "colab": {
          "base_uri": "https://localhost:8080/"
        },
        "id": "2cWa7p6QWC-Y",
        "outputId": "bac29a4b-1cea-4524-e437-ae85c9509c6f"
      },
      "source": [
        "error=[]\n",
        "for i in range(len(xa)):\n",
        "  r_t=(ya[i]-viab[i])**2\n",
        "  error.append(r_t)\n",
        "print(error)\n",
        "print(sum(error))"
      ],
      "execution_count": null,
      "outputs": [
        {
          "output_type": "stream",
          "text": [
            "[0.00010000000000000018, 0.00010000000000000018, 0.00010000000000000018, 0.0004000000000000007, 0.00010000000000000018, 0.00010000000000000018, 0.0003999999999999963, 0.0009000000000000016, 0.0009000000000000016, 0.0004000000000000007, 0.0004000000000000007, 0.00010000000000000018, 0.0, 0.00010000000000000018, 0.0004000000000000007, 0.0036000000000000064, 0.0009000000000000016, 0.0024999999999999988, 0.004900000000000001, 0.0003999999999999996, 9.99999999999999e-05, 0.00010000000000000018, 9.99999999999999e-05, 0.0, 0.00010000000000000005, 0.0001, 0.0001, 0.0, 0.0]\n",
            "0.01740000000000001\n"
          ],
          "name": "stdout"
        }
      ]
    },
    {
      "cell_type": "code",
      "metadata": {
        "id": "1FxwVBM1WuOo"
      },
      "source": [
        ""
      ],
      "execution_count": null,
      "outputs": []
    }
  ]
}