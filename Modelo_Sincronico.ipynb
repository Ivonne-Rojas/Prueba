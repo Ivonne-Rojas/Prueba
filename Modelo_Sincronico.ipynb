{
  "nbformat": 4,
  "nbformat_minor": 0,
  "metadata": {
    "colab": {
      "name": "Modelo Sincronico",
      "provenance": [],
      "authorship_tag": "ABX9TyP1eHFWJX7uzQeyKLh3N8in"
    },
    "kernelspec": {
      "name": "python3",
      "display_name": "Python 3"
    }
  },
  "cells": [
    {
      "cell_type": "code",
      "metadata": {
        "id": "68w5g-PQR2Qv"
      },
      "source": [
        "import numpy as np\n",
        "import matplotlib.pyplot as plt\n",
        "import collections as coll \n",
        "import random\n",
        "from time import time\n",
        "from timeit import timeit"
      ],
      "execution_count": null,
      "outputs": []
    },
    {
      "cell_type": "code",
      "metadata": {
        "colab": {
          "base_uri": "https://localhost:8080/"
        },
        "id": "6KUl1Z6MSXa5",
        "outputId": "86273596-033e-4e23-9b17-2487eec84ba3"
      },
      "source": [
        "tiempo_inicial = time()# libreria para calcular el tiempo de ejecución  \n",
        "#-------------------------------------------------------------------------------\n",
        "#variables \n",
        "s=[]#para guardar los tiempos aleatorios de replicacion\n",
        "R=0 \n",
        "celulas=[] # guarda el numero total de células \n",
        "zi=[1,0,0,0,0,0,0,0,0,0,0,0,0,0,0,0,0,0,0,0,0,0,0,0,0,0,0,0,0,0,0,0,0,0,0,0,0,0,0,0,0,0,0,0,0,0]# matrix inicial  \n",
        "t=0 # tiempo que ha pasado  \n",
        "tr=[]#lista para guardar t (tiempo total )\n",
        "m=19 # para definir la generacion en la que se mueren las células  \n",
        "muertes=0# variable para contabilizar el número de células no viables \n",
        "fraccion=[] # guarda la fracción de células viables \n",
        "r=0 # crecimiento per capita\n",
        "g=25 #número de generaciones que crece la población \n",
        "#------------------------------------------------------------------------------- \n",
        "for j in range(g):# número de iteraciones o numero de generaciones la cual se va realizar \n",
        "  zf=np.zeros(m,dtype=np.int64) # tiene que tener una longitud definida la cual sera la generacion en la que se mueran las celulas\n",
        "  for i in range(m-1):  \n",
        "    zf[i+1]= zi[i]\n",
        "    zf[0]=sum(zi)-zi[-1]\n",
        "  zi=zf\n",
        "#-------------------------------------------------------------------------------\n",
        "  R=R+120\n",
        "  s.append(R)\n",
        "  celulas.append(sum(zi)) \n",
        "#-------------------------------------------------------------------------------\n",
        "  t=t+max(s)    # tiempo total trascurrido \n",
        "  tr.append(t)\n",
        "#-------------------------------------------------------------------------------\n",
        "#calculos \n",
        "  muertes=muertes+zf[-1]#para guardas las celulas muertas\n",
        "  total_celulas= sum(zi)+muertes #total de celulas teniendo en cuenta las muertes para sacar la fraccion de celulas viables \n",
        "  fraccion_viables= (sum(zi)-zi[-1])/total_celulas\n",
        "  fraccion.append(fraccion_viables)\n",
        "  r=zi[0]-muertes # numero de nacimientos menos numero de muertes \n",
        "#-------------------------------------------------------------------------------\n",
        "  print(zi)\n",
        "  #print('s',s)\n",
        "  #print('tiempo',t)\n",
        "  #print('lista tiempo',tr)\n",
        "  print('No viable', muertes)\n",
        "  #print('Crecimiento per capita', r)\n",
        "  #print('Células viables', celulas)\n",
        "  #print('Total celulas',total_celulas)\n",
        "  #print('Fraccion de células viables',fraccion_viables)\n",
        "  #print('Lista de fracción de células viables', fraccion)\n",
        "  print('---------------')\n",
        "#-------------------------------------------------------------------------------\n",
        "print(len(zi))\n",
        "tiempo_final = time()\n",
        "tiempo_ejecucion = tiempo_final - tiempo_inicial\n",
        "print('tiempo de ejecucion',tiempo_ejecucion)"
      ],
      "execution_count": null,
      "outputs": [
        {
          "output_type": "stream",
          "text": [
            "[1 1 0 0 0 0 0 0 0 0 0 0 0 0 0 0 0 0 0]\n",
            "No viable 0\n",
            "---------------\n",
            "[2 1 1 0 0 0 0 0 0 0 0 0 0 0 0 0 0 0 0]\n",
            "No viable 0\n",
            "---------------\n",
            "[4 2 1 1 0 0 0 0 0 0 0 0 0 0 0 0 0 0 0]\n",
            "No viable 0\n",
            "---------------\n",
            "[8 4 2 1 1 0 0 0 0 0 0 0 0 0 0 0 0 0 0]\n",
            "No viable 0\n",
            "---------------\n",
            "[16  8  4  2  1  1  0  0  0  0  0  0  0  0  0  0  0  0  0]\n",
            "No viable 0\n",
            "---------------\n",
            "[32 16  8  4  2  1  1  0  0  0  0  0  0  0  0  0  0  0  0]\n",
            "No viable 0\n",
            "---------------\n",
            "[64 32 16  8  4  2  1  1  0  0  0  0  0  0  0  0  0  0  0]\n",
            "No viable 0\n",
            "---------------\n",
            "[128  64  32  16   8   4   2   1   1   0   0   0   0   0   0   0   0   0\n",
            "   0]\n",
            "No viable 0\n",
            "---------------\n",
            "[256 128  64  32  16   8   4   2   1   1   0   0   0   0   0   0   0   0\n",
            "   0]\n",
            "No viable 0\n",
            "---------------\n",
            "[512 256 128  64  32  16   8   4   2   1   1   0   0   0   0   0   0   0\n",
            "   0]\n",
            "No viable 0\n",
            "---------------\n",
            "[1024  512  256  128   64   32   16    8    4    2    1    1    0    0\n",
            "    0    0    0    0    0]\n",
            "No viable 0\n",
            "---------------\n",
            "[2048 1024  512  256  128   64   32   16    8    4    2    1    1    0\n",
            "    0    0    0    0    0]\n",
            "No viable 0\n",
            "---------------\n",
            "[4096 2048 1024  512  256  128   64   32   16    8    4    2    1    1\n",
            "    0    0    0    0    0]\n",
            "No viable 0\n",
            "---------------\n",
            "[8192 4096 2048 1024  512  256  128   64   32   16    8    4    2    1\n",
            "    1    0    0    0    0]\n",
            "No viable 0\n",
            "---------------\n",
            "[16384  8192  4096  2048  1024   512   256   128    64    32    16     8\n",
            "     4     2     1     1     0     0     0]\n",
            "No viable 0\n",
            "---------------\n",
            "[32768 16384  8192  4096  2048  1024   512   256   128    64    32    16\n",
            "     8     4     2     1     1     0     0]\n",
            "No viable 0\n",
            "---------------\n",
            "[65536 32768 16384  8192  4096  2048  1024   512   256   128    64    32\n",
            "    16     8     4     2     1     1     0]\n",
            "No viable 0\n",
            "---------------\n",
            "[131072  65536  32768  16384   8192   4096   2048   1024    512    256\n",
            "    128     64     32     16      8      4      2      1      1]\n",
            "No viable 1\n",
            "---------------\n",
            "[262143 131072  65536  32768  16384   8192   4096   2048   1024    512\n",
            "    256    128     64     32     16      8      4      2      1]\n",
            "No viable 2\n",
            "---------------\n",
            "[524285 262143 131072  65536  32768  16384   8192   4096   2048   1024\n",
            "    512    256    128     64     32     16      8      4      2]\n",
            "No viable 4\n",
            "---------------\n",
            "[1048568  524285  262143  131072   65536   32768   16384    8192    4096\n",
            "    2048    1024     512     256     128      64      32      16       8\n",
            "       4]\n",
            "No viable 8\n",
            "---------------\n",
            "[2097132 1048568  524285  262143  131072   65536   32768   16384    8192\n",
            "    4096    2048    1024     512     256     128      64      32      16\n",
            "       8]\n",
            "No viable 16\n",
            "---------------\n",
            "[4194256 2097132 1048568  524285  262143  131072   65536   32768   16384\n",
            "    8192    4096    2048    1024     512     256     128      64      32\n",
            "      16]\n",
            "No viable 32\n",
            "---------------\n",
            "[8388496 4194256 2097132 1048568  524285  262143  131072   65536   32768\n",
            "   16384    8192    4096    2048    1024     512     256     128      64\n",
            "      32]\n",
            "No viable 64\n",
            "---------------\n",
            "[16776960  8388496  4194256  2097132  1048568   524285   262143   131072\n",
            "    65536    32768    16384     8192     4096     2048     1024      512\n",
            "      256      128       64]\n",
            "No viable 128\n",
            "---------------\n",
            "19\n",
            "tiempo de ejecucion 0.022933006286621094\n"
          ],
          "name": "stdout"
        }
      ]
    },
    {
      "cell_type": "markdown",
      "metadata": {
        "id": "8PYBO9B6Vsbu"
      },
      "source": [
        "**Distribucion de edades** "
      ]
    },
    {
      "cell_type": "code",
      "metadata": {
        "colab": {
          "base_uri": "https://localhost:8080/"
        },
        "id": "sua28LJyZ681",
        "outputId": "6ae04a0a-72b1-4920-db11-4ea3e590f938"
      },
      "source": [
        "edad=[]#edades\n",
        "ind=-1\n",
        "for i in range(len(zi)):\n",
        "  ind=ind+1\n",
        "  edad.append(ind)\n",
        "print('Edad',edad)"
      ],
      "execution_count": null,
      "outputs": [
        {
          "output_type": "stream",
          "text": [
            "Edad [0, 1, 2, 3, 4, 5, 6, 7, 8, 9, 10, 11, 12, 13, 14, 15, 16, 17, 18]\n"
          ],
          "name": "stdout"
        }
      ]
    },
    {
      "cell_type": "code",
      "metadata": {
        "colab": {
          "base_uri": "https://localhost:8080/",
          "height": 303
        },
        "id": "jtBnKclIVenV",
        "outputId": "5e67db10-3d05-43b4-a92b-46e283e1581c"
      },
      "source": [
        "fig, ax = plt.subplots()\n",
        "ax.set_ylabel('Número de células',fontsize=14)\n",
        "ax.set_xlabel('Edad',fontsize=14)\n",
        "ax.set_title('Distribucion de edades ',fontsize=18)\n",
        "plt.bar(edad, zi)\n",
        "#plt.savefig('Distribucion de edades.png')\n",
        "plt.show()"
      ],
      "execution_count": null,
      "outputs": [
        {
          "output_type": "display_data",
          "data": {
            "image/png": "[encoded data removed]",
            "text/plain": [
              "<Figure size 432x288 with 1 Axes>"
            ]
          },
          "metadata": {
            "tags": [],
            "needs_background": "light"
          }
        }
      ]
    },
    {
      "cell_type": "markdown",
      "metadata": {
        "id": "3UAMwyeoc8Rz"
      },
      "source": [
        "**Curva de crecimeinto (tiempo)**"
      ]
    },
    {
      "cell_type": "code",
      "metadata": {
        "colab": {
          "base_uri": "https://localhost:8080/",
          "height": 305
        },
        "id": "rqI7J9Pbbhxt",
        "outputId": "202a40ab-5f6c-42da-8ef2-c59c88b23813"
      },
      "source": [
        "plt.plot(s,celulas) \n",
        "axes = plt.gca()  \n",
        "plt.xlabel('Tiempo(min)')\n",
        "plt.ylabel('Número de células')\n",
        "plt.title('Curva de crecimiento')\n",
        "axes.title.set_size(20)\n",
        "axes.xaxis.label.set_size(16)\n",
        "axes.yaxis.label.set_size(16)\n",
        "plt.show()  "
      ],
      "execution_count": null,
      "outputs": [
        {
          "output_type": "display_data",
          "data": {
            "image/png": "[encoded data removed]",
            "text/plain": [
              "<Figure size 432x288 with 1 Axes>"
            ]
          },
          "metadata": {
            "tags": [],
            "needs_background": "light"
          }
        }
      ]
    },
    {
      "cell_type": "markdown",
      "metadata": {
        "id": "xZr0fHHbH3ii"
      },
      "source": [
        "Tasa de crecimiento "
      ]
    },
    {
      "cell_type": "code",
      "metadata": {
        "colab": {
          "base_uri": "https://localhost:8080/"
        },
        "id": "Rk0OSlSfH11r",
        "outputId": "5463f31b-b61f-4750-e1f6-e575332d5beb"
      },
      "source": [
        "pendientes=[]\n",
        "for i in range(len(celulas)-1):\n",
        "  y=np.log(celulas[i+1])-np.log(celulas[i])\n",
        "  x=s[i+1]-s[i]\n",
        "  pendiente=y/x\n",
        "  pendientes.append(pendiente)\n",
        "print(pendientes)\n",
        "print(sum(pendientes)/len(pendientes))"
      ],
      "execution_count": null,
      "outputs": [
        {
          "output_type": "stream",
          "text": [
            "[0.0057762265046662105, 0.00577622650466621, 0.005776226504666211, 0.005776226504666211, 0.005776226504666208, 0.005776226504666211, 0.005776226504666211, 0.005776226504666211, 0.005776226504666211, 0.005776226504666211, 0.005776226504666204, 0.005776226504666211, 0.005776226504666211, 0.005776226504666211, 0.005776226504666211, 0.005776226504666211, 0.005776226504666211, 0.005776194715461699, 0.0057762106100184805, 0.005776210609988164, 0.005776210609957848, 0.005776210609927531, 0.0057762106098972, 0.0057762106098669126]\n",
            "0.005776221206435141\n"
          ],
          "name": "stdout"
        }
      ]
    },
    {
      "cell_type": "markdown",
      "metadata": {
        "id": "FURGUOR_JCT2"
      },
      "source": [
        "**Curva de crecimeinto (generaciones)**"
      ]
    },
    {
      "cell_type": "code",
      "metadata": {
        "colab": {
          "base_uri": "https://localhost:8080/",
          "height": 305
        },
        "id": "AiFE_i59JBiq",
        "outputId": "bd7cc1c6-833e-4307-f057-019b1caa1b87"
      },
      "source": [
        "plt.plot(celulas) \n",
        "axes = plt.gca() \n",
        "plt.xlabel('Generaciones')\n",
        "plt.ylabel('Número de células')\n",
        "plt.title('Curva de crecimiento')\n",
        "axes.title.set_size(20)\n",
        "axes.xaxis.label.set_size(16)\n",
        "axes.yaxis.label.set_size(16)\n",
        "plt.show() "
      ],
      "execution_count": null,
      "outputs": [
        {
          "output_type": "display_data",
          "data": {
            "image/png": "[encoded data removed]",
            "text/plain": [
              "<Figure size 432x288 with 1 Axes>"
            ]
          },
          "metadata": {
            "tags": [],
            "needs_background": "light"
          }
        }
      ]
    },
    {
      "cell_type": "markdown",
      "metadata": {
        "id": "T4is9x-YJkMw"
      },
      "source": [
        "tasa de crecimiento"
      ]
    },
    {
      "cell_type": "code",
      "metadata": {
        "id": "sv8NAvjkLaZc"
      },
      "source": [
        "gen=[]\n",
        "g=0\n",
        "for i in range(len(celulas)):\n",
        "  g=g+1\n",
        "  gen.append(g)"
      ],
      "execution_count": null,
      "outputs": []
    },
    {
      "cell_type": "code",
      "metadata": {
        "colab": {
          "base_uri": "https://localhost:8080/"
        },
        "id": "k2NSFJ8KJ5_1",
        "outputId": "ff3aa005-571d-46fe-ccad-c15a97f197af"
      },
      "source": [
        "pendientes=[]\n",
        "for i in range(len(celulas)-1):\n",
        "  y=np.log(celulas[i+1])-np.log(celulas[i])\n",
        "  x=gen[i+1]-gen[i]\n",
        "  pendiente=y/x\n",
        "  pendientes.append(pendiente)\n",
        "print(pendientes)\n",
        "print(sum(pendientes)/len(pendientes))"
      ],
      "execution_count": null,
      "outputs": [
        {
          "output_type": "stream",
          "text": [
            "[0.6931471805599453, 0.6931471805599452, 0.6931471805599454, 0.6931471805599454, 0.693147180559945, 0.6931471805599454, 0.6931471805599454, 0.6931471805599454, 0.6931471805599454, 0.6931471805599454, 0.6931471805599445, 0.6931471805599454, 0.6931471805599454, 0.6931471805599454, 0.6931471805599454, 0.6931471805599454, 0.6931471805599454, 0.6931433658554038, 0.6931452732022176, 0.6931452731985797, 0.6931452731949417, 0.6931452731913037, 0.693145273187664, 0.6931452731840295]\n",
            "0.6931465447722172\n"
          ],
          "name": "stdout"
        }
      ]
    },
    {
      "cell_type": "markdown",
      "metadata": {
        "id": "CCM4csSQd1uO"
      },
      "source": [
        "Probabilidad"
      ]
    },
    {
      "cell_type": "code",
      "metadata": {
        "colab": {
          "base_uri": "https://localhost:8080/"
        },
        "id": "jNGKJi04eGX_",
        "outputId": "7cad8424-0dfa-4f33-c7ef-bb8b2fc65c56"
      },
      "source": [
        "P=[]  \n",
        "for i in zi:\n",
        "  p=i/total_celulas  \n",
        "  P.append(p)\n",
        "print(P)"
      ],
      "execution_count": null,
      "outputs": [
        {
          "output_type": "stream",
          "text": [
            "[0.49999809262953904, 0.24999952315738477, 0.125, 0.0625001192106538, 0.03125011921065381, 0.015625089407990355, 0.007812559605326905, 0.003906294703995178, 0.001953147351997589, 0.0009765736759987946, 0.0004882868379993973, 0.00024414341899969865, 0.00012207170949984932, 6.103585474992466e-05, 3.051792737496233e-05, 1.5258963687481166e-05, 7.629481843740583e-06, 3.814740921870291e-06, 1.9073704609351457e-06]\n"
          ],
          "name": "stdout"
        }
      ]
    },
    {
      "cell_type": "code",
      "metadata": {
        "colab": {
          "base_uri": "https://localhost:8080/",
          "height": 304
        },
        "id": "0bHWPuieeMuD",
        "outputId": "6a569949-56db-4b53-9936-0c2d681eb887"
      },
      "source": [
        "fig, ax = plt.subplots() \n",
        "ax.set_ylabel('Probabilidad',fontsize=14)\n",
        "ax.set_xlabel('Edad',fontsize=14)\n",
        "ax.set_title('Distribución de probabilidad',fontsize=18)\n",
        "plt.bar(edad, P)\n",
        "plt.savefig('D probabilidad.png')\n",
        "plt.show()"
      ],
      "execution_count": null,
      "outputs": [
        {
          "output_type": "display_data",
          "data": {
            "image/png": "[encoded data removed]",
            "text/plain": [
              "<Figure size 432x288 with 1 Axes>"
            ]
          },
          "metadata": {
            "tags": [],
            "needs_background": "light"
          }
        }
      ]
    },
    {
      "cell_type": "code",
      "metadata": {
        "id": "nyyoEYchecOl"
      },
      "source": [
        ""
      ],
      "execution_count": null,
      "outputs": []
    }
  ]
}