{
  "nbformat": 4,
  "nbformat_minor": 0,
  "metadata": {
    "colab": {
      "name": "A2: Minimos cuadrados vs generaciones",
      "provenance": [],
      "authorship_tag": "ABX9TyMTdRPK6V4OY7NmXvquob0i"
    },
    "kernelspec": {
      "name": "python3",
      "display_name": "Python 3"
    },
    "language_info": {
      "name": "python"
    }
  },
  "cells": [
    {
      "cell_type": "code",
      "metadata": {
        "id": "qDLUdJbwBNWJ"
      },
      "source": [
        "import statistics\n",
        "import matplotlib.pyplot as plt\n",
        "import numpy as np\n",
        "import math"
      ],
      "execution_count": null,
      "outputs": []
    },
    {
      "cell_type": "markdown",
      "metadata": {
        "id": "lr6u9NM07EIJ"
      },
      "source": [
        "Datos"
      ]
    },
    {
      "cell_type": "markdown",
      "metadata": {
        "id": "au1kO1fR7F54"
      },
      "source": [
        "Los datos son los minimos cuadrados obtenidos para cada generación, de la simulación de comparacion entre los datos experimentales del artículo Yeast Replicator: A High-Throughput Multiplexed Microfluidics Platform for Automated Measurements\n",
        "of Single-Cell Aging. \\\n",
        "Para cada simulacion se realizo 5 veces y se calculo la desviacion estandar y el intervalo de confianza del 95% "
      ]
    },
    {
      "cell_type": "code",
      "metadata": {
        "id": "R05gPwFcBiYT"
      },
      "source": [
        "g0=[0.012599999999999998,0.037899999999999996,0.016699999999999996,0.03619999999999999,0.02560000000000001]\n",
        "g2=[0.0267,0.051100000000000007,0.037399999999999996,0.0758,0.01870000000000002]\n",
        "g4=[0.028299999999999995,0.09550000000000003,0.040499999999999994,0.017100000000000008,0.0185]\n",
        "g6=[0.034700000000000016,0.055400000000000005,0.008600000000000003,0.0615,0.022100000000000012]\n",
        "g8=[0.017400000000000013,0.03900000000000001,0.07790000000000002,0.1188,0.09620000000000002]\n",
        "g10=[0.017700000000000007,0.026999999999999986,0.029899999999999993,0.04210000000000001,0.028100000000000014]\n",
        "g15=[0.08520000000000003,0.030500000000000013,0.02619999999999999,0.012499999999999987,0.04270000000000003]\n",
        "g20=[0.01020000000000001,0.06460000000000002,0.049899999999999986,0.01559999999999999,0.015499999999999995]\n",
        "g25=[0.03670000000000003,0.09930000000000001,0.04939999999999998,0.025300000000000003,0.02159999999999998]\n",
        "g30=[0.05110000000000001,0.02539999999999999,0.054799999999999995,0.02030000000000001,0.009000000000000011]\n",
        "g35=[0.04410000000000002,0.013599999999999994,0.019000000000000017,0.024900000000000023,0.03569999999999998]\n",
        "g40=[0.024900000000000012,0.06830000000000001,0.0442,0.13339999999999996,0.03160000000000001]"
      ],
      "execution_count": null,
      "outputs": []
    },
    {
      "cell_type": "code",
      "metadata": {
        "id": "FH0IpgI9HZ_Y"
      },
      "source": [
        "#Se definio una funcion para calcular el intervalo de confianza del 95%\n",
        "def intervalo(x):\n",
        "  inte=(1.96)*(x/(np.sqrt(5)))\n",
        "  return inte "
      ],
      "execution_count": null,
      "outputs": []
    },
    {
      "cell_type": "markdown",
      "metadata": {
        "id": "zPGFwZUf8Drg"
      },
      "source": [
        "\n",
        "\n",
        "---\n",
        "\n",
        "\n",
        "\n",
        "---\n",
        "\n"
      ]
    },
    {
      "cell_type": "code",
      "metadata": {
        "colab": {
          "base_uri": "https://localhost:8080/"
        },
        "id": "6kQcJWTLBlNS",
        "outputId": "c7407130-9789-45ff-e72b-3f9439353ba3"
      },
      "source": [
        "promg0=statistics.mean(g0) \n",
        "standar0=statistics.stdev(g0)\n",
        "i0=intervalo(standar0)\n",
        "print(promg0,standar0,i0)"
      ],
      "execution_count": null,
      "outputs": [
        {
          "output_type": "stream",
          "text": [
            "0.025799999999999997 0.011309951370364063 0.00991360947384957\n"
          ],
          "name": "stdout"
        }
      ]
    },
    {
      "cell_type": "code",
      "metadata": {
        "colab": {
          "base_uri": "https://localhost:8080/"
        },
        "id": "Xx0xac0TBnZN",
        "outputId": "d093b2fa-208f-4490-fdb1-87fdb2a5d242"
      },
      "source": [
        "promg2=statistics.mean(g2) \n",
        "standar2=statistics.stdev(g2)\n",
        "i2=intervalo(standar2)\n",
        "print(promg2,standar2,i2)"
      ],
      "execution_count": null,
      "outputs": [
        {
          "output_type": "stream",
          "text": [
            "0.041940000000000005 0.022490953737002793 0.019714190162418536\n"
          ],
          "name": "stdout"
        }
      ]
    },
    {
      "cell_type": "code",
      "metadata": {
        "colab": {
          "base_uri": "https://localhost:8080/"
        },
        "id": "06dF0_UFBpeV",
        "outputId": "2f025b25-22f0-4d7e-fce5-03cf86a8862e"
      },
      "source": [
        "promg4=statistics.mean(g4) \n",
        "standar4=statistics.stdev(g4)\n",
        "i4=intervalo(standar4)\n",
        "print(promg4,standar4,i4)"
      ],
      "execution_count": null,
      "outputs": [
        {
          "output_type": "stream",
          "text": [
            "0.03998 0.03241931523027593 0.02841678271444536\n"
          ],
          "name": "stdout"
        }
      ]
    },
    {
      "cell_type": "code",
      "metadata": {
        "colab": {
          "base_uri": "https://localhost:8080/"
        },
        "id": "X43F8AWABsFJ",
        "outputId": "c0301210-be41-4214-bc15-f3ddb35bdbd6"
      },
      "source": [
        "promg6=statistics.mean(g6) \n",
        "standar6=statistics.stdev(g6)\n",
        "i6=intervalo(standar6)\n",
        "print(promg6,standar6,i6)"
      ],
      "execution_count": null,
      "outputs": [
        {
          "output_type": "stream",
          "text": [
            "0.036460000000000006 0.022199166651025438 0.019458427504811377\n"
          ],
          "name": "stdout"
        }
      ]
    },
    {
      "cell_type": "code",
      "metadata": {
        "colab": {
          "base_uri": "https://localhost:8080/"
        },
        "id": "oOHSU59vBt7t",
        "outputId": "cd5d5d12-dbd2-43f8-b1e8-3e5f37e176f9"
      },
      "source": [
        "promg8=statistics.mean(g8) \n",
        "standar8=statistics.stdev(g8)\n",
        "i8=intervalo(standar8)\n",
        "print(promg8,standar8,i8)"
      ],
      "execution_count": null,
      "outputs": [
        {
          "output_type": "stream",
          "text": [
            "0.06986000000000002 0.04140637632056203 0.03629428908464801\n"
          ],
          "name": "stdout"
        }
      ]
    },
    {
      "cell_type": "code",
      "metadata": {
        "colab": {
          "base_uri": "https://localhost:8080/"
        },
        "id": "RppO8-JPBvm4",
        "outputId": "7eb293d6-69a6-40ab-9041-a616dd61aa1a"
      },
      "source": [
        "promg10=statistics.mean(g10) \n",
        "standar10=statistics.stdev(g10)\n",
        "i10=intervalo(standar10)\n",
        "print(promg10,standar10,i10)"
      ],
      "execution_count": null,
      "outputs": [
        {
          "output_type": "stream",
          "text": [
            "0.028960000000000003 0.008730864791073106 0.007652940412677994\n"
          ],
          "name": "stdout"
        }
      ]
    },
    {
      "cell_type": "code",
      "metadata": {
        "colab": {
          "base_uri": "https://localhost:8080/"
        },
        "id": "b6pHXa-fBy0_",
        "outputId": "65a270c8-9c67-489c-d4c0-6bb22f9ff3ea"
      },
      "source": [
        "promg15=statistics.mean(g15) \n",
        "standar15=statistics.stdev(g15)\n",
        "i15=intervalo(standar15)\n",
        "print(promg15,standar15,i15)"
      ],
      "execution_count": null,
      "outputs": [
        {
          "output_type": "stream",
          "text": [
            "0.03942000000000001 0.02777403463668901 0.024345014747171555\n"
          ],
          "name": "stdout"
        }
      ]
    },
    {
      "cell_type": "code",
      "metadata": {
        "colab": {
          "base_uri": "https://localhost:8080/"
        },
        "id": "2pe8B02PB07m",
        "outputId": "5d588458-50d4-4224-cd90-6d0d4600aab9"
      },
      "source": [
        "promg20=statistics.mean(g20) \n",
        "standar20=statistics.stdev(g20)\n",
        "i20=intervalo(standar20)\n",
        "print(promg20,standar20,i20)"
      ],
      "execution_count": null,
      "outputs": [
        {
          "output_type": "stream",
          "text": [
            "0.03116 0.024474946373792123 0.021453236384284775\n"
          ],
          "name": "stdout"
        }
      ]
    },
    {
      "cell_type": "code",
      "metadata": {
        "colab": {
          "base_uri": "https://localhost:8080/"
        },
        "id": "VqDvJa4xB2pw",
        "outputId": "0726fa8a-837e-45cb-87b3-efd0d6efaf75"
      },
      "source": [
        "promg25=statistics.mean(g25) \n",
        "standar25=statistics.stdev(g25)\n",
        "i25=intervalo(standar25)\n",
        "print(promg25,standar25,i25)"
      ],
      "execution_count": null,
      "outputs": [
        {
          "output_type": "stream",
          "text": [
            "0.04646 0.03147114551458209 0.027585675314554116\n"
          ],
          "name": "stdout"
        }
      ]
    },
    {
      "cell_type": "code",
      "metadata": {
        "colab": {
          "base_uri": "https://localhost:8080/"
        },
        "id": "lLZyYvYjB4Rf",
        "outputId": "62065b2a-7715-4c8c-ec64-9f18eac3cbbf"
      },
      "source": [
        "promg30=statistics.mean(g30) \n",
        "standar30=statistics.stdev(g30)\n",
        "i30=intervalo(standar30)\n",
        "print(promg30,standar30,i30)"
      ],
      "execution_count": null,
      "outputs": [
        {
          "output_type": "stream",
          "text": [
            "0.03212 0.019962640105957927 0.017498025552615926\n"
          ],
          "name": "stdout"
        }
      ]
    },
    {
      "cell_type": "code",
      "metadata": {
        "colab": {
          "base_uri": "https://localhost:8080/"
        },
        "id": "6pKWkMIqB6BK",
        "outputId": "b4504b97-808e-4f0d-e10f-f98a38545893"
      },
      "source": [
        "promg35=statistics.mean(g35) \n",
        "standar35=statistics.stdev(g35)\n",
        "i35=intervalo(standar35)\n",
        "print(promg35,standar35,i35)"
      ],
      "execution_count": null,
      "outputs": [
        {
          "output_type": "stream",
          "text": [
            "0.02746000000000001 0.012399717738722928 0.010868831812113022\n"
          ],
          "name": "stdout"
        }
      ]
    },
    {
      "cell_type": "code",
      "metadata": {
        "colab": {
          "base_uri": "https://localhost:8080/"
        },
        "id": "0LWx0KAyB8MF",
        "outputId": "05177859-8b03-45cf-d41a-971d4f1577ca"
      },
      "source": [
        "promg40=statistics.mean(g40) \n",
        "standar40=statistics.stdev(g40)\n",
        "i40=intervalo(standar40)\n",
        "print(promg40,standar40,i40)"
      ],
      "execution_count": null,
      "outputs": [
        {
          "output_type": "stream",
          "text": [
            "0.06048 0.04399860225052608 0.0385664752944834\n"
          ],
          "name": "stdout"
        }
      ]
    },
    {
      "cell_type": "code",
      "metadata": {
        "id": "mpxZiYm2B-ON"
      },
      "source": [
        "x=[0,2,4,6,8,10,15,20,25,30,35,40]\n",
        "y=[promg0,promg2,promg4,promg6,promg8,promg10,promg15,promg20,promg25,promg30,promg35,promg40]\n",
        "yerr=[i0,i2,i4,i6,i8,i10,i15,i20,i25,i30,i35,i40]"
      ],
      "execution_count": null,
      "outputs": []
    },
    {
      "cell_type": "code",
      "metadata": {
        "colab": {
          "base_uri": "https://localhost:8080/",
          "height": 305
        },
        "id": "z-ruS_lRCAN9",
        "outputId": "bff3c91d-991c-4c57-a966-6d38b79538c3"
      },
      "source": [
        "plt.scatter(x,y) \n",
        "axes = plt.gca() \n",
        "plt.errorbar(x,y,yerr=yerr,xerr=None)\n",
        "plt.xlabel('Generaciones')\n",
        "plt.ylabel('Minimos cuadrados')\n",
        "plt.title(' ')\n",
        "axes.title.set_size(20)\n",
        "axes.xaxis.label.set_size(16)\n",
        "axes.yaxis.label.set_size(16)\n",
        "#plt.savefig('Minimos cuadrados .png')\n",
        "plt.show() "
      ],
      "execution_count": null,
      "outputs": [
        {
          "output_type": "display_data",
          "data": {
            "image/png": "[encoded data removed]",
            "text/plain": [
              "<Figure size 432x288 with 1 Axes>"
            ]
          },
          "metadata": {
            "tags": [],
            "needs_background": "light"
          }
        }
      ]
    },
    {
      "cell_type": "code",
      "metadata": {
        "id": "N4cq7Sac8lrH"
      },
      "source": [
        ""
      ],
      "execution_count": null,
      "outputs": []
    }
  ]
}