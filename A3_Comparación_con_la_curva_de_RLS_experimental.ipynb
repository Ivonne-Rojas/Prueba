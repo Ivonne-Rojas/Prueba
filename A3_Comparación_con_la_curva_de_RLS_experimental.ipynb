{
  "nbformat": 4,
  "nbformat_minor": 0,
  "metadata": {
    "colab": {
      "name": "A3:Comparación con la curva de RLS experimental",
      "provenance": [],
      "collapsed_sections": [],
      "authorship_tag": "ABX9TyNk7zvzOOgyF/U4FUtYxvbq"
    },
    "kernelspec": {
      "name": "python3",
      "display_name": "Python 3"
    },
    "language_info": {
      "name": "python"
    }
  },
  "cells": [
    {
      "cell_type": "code",
      "metadata": {
        "id": "_sPNylZoA4aA"
      },
      "source": [
        "import numpy as np\n",
        "import matplotlib.pyplot as plt\n",
        "import collections as coll \n",
        "import random\n",
        "from time import time\n",
        "from timeit import timeit\n",
        "from scipy.interpolate import interp1d \n",
        "from scipy.optimize import curve_fit\n",
        "import statistics"
      ],
      "execution_count": null,
      "outputs": []
    },
    {
      "cell_type": "markdown",
      "metadata": {
        "id": "unZLsWmoCgxL"
      },
      "source": [
        "## Modelo inicial de crecimiento"
      ]
    },
    {
      "cell_type": "code",
      "metadata": {
        "colab": {
          "base_uri": "https://localhost:8080/"
        },
        "id": "nfk2jJzPBQGb",
        "outputId": "8e834fc6-ee3c-4859-8ffd-5cbed3cbf034"
      },
      "source": [
        "tiempo_inicial = time()# libreria para calcular el tiempo de ejecución  \n",
        "#-------------------------------------------------------------------------------\n",
        "#variables \n",
        "s=[]#para guardar los tiempos aleatorios de replicacion\n",
        "R=0 \n",
        "celulas=[] # guarda el numero total de células \n",
        "zi=[1,0,0,0,0,0,0,0,0,0,0,0,0,0,0,0,0,0,0,0,0,0,0,0,0,0,0,0,0,0,0,0,0,0,0,0,0,0,0,0,0,0,0,0,0,0]# matrix inicial  \n",
        "t=0 # tiempo que ha pasado  \n",
        "tr=[]#lista para guardar t (t}iempo total )\n",
        "m=19 # para definir la generacion en la que se mueren las células  \n",
        "muertes=0# variable para contabilizar el número de células no viables \n",
        "fraccion=[] # guarda la fracción de células viables \n",
        "r=0 # crecimiento per capita\n",
        "g=9 #número de generaciones que crece la población \n",
        "#------------------------------------------------------------------------------- \n",
        "for j in range(g):# número de iteraciones o numero de generaciones la cual se va realizar \n",
        "  zf=np.zeros(m,dtype=np.int64) # tiene que tener una longitud definida la cual sera la generacion en la que se mueran las celulas\n",
        "  for i in range(m-1):  \n",
        "    zf[i+1]= zi[i]\n",
        "    zf[0]=sum(zi)-zi[-1]\n",
        "  zi=zf\n",
        "#-------------------------------------------------------------------------------\n",
        "  R=R+120\n",
        "  s.append(R)\n",
        "  celulas.append(sum(zi)) \n",
        "#-------------------------------------------------------------------------------\n",
        "  t=t+max(s)    # tiempo total trascurrido \n",
        "  tr.append(t)\n",
        "#-------------------------------------------------------------------------------\n",
        "#calculos \n",
        "  muertes=muertes+zf[-1]#para guardas las celulas muertas\n",
        "  total_celulas= sum(zi)+muertes #total de celulas teniendo en cuenta las muertes para sacar la fraccion de celulas viables \n",
        "  fraccion_viables= (sum(zi)-zi[-1])/total_celulas\n",
        "  fraccion.append(fraccion_viables)\n",
        "  r=zi[0]-muertes # numero de nacimientos menos numero de muertes \n",
        "#-------------------------------------------------------------------------------\n",
        "  print(zi)\n",
        "  #print('s',s)\n",
        "  #print('tiempo',t)\n",
        "  #print('lista tiempo',tr)\n",
        "  print('No viable', muertes)\n",
        "  #print('Crecimiento per capita', r)\n",
        "  #print('Células viables', celulas)\n",
        "  #print('Total celulas',total_celulas)\n",
        "  #print('Fraccion de células viables',fraccion_viables)\n",
        "  #print('Lista de fracción de células viables', fraccion)\n",
        "  print('---------------')\n",
        "#-------------------------------------------------------------------------------\n",
        "print(len(zi))\n",
        "tiempo_final = time()\n",
        "tiempo_ejecucion = tiempo_final - tiempo_inicial\n",
        "print('tiempo de ejecucion',tiempo_ejecucion)"
      ],
      "execution_count": null,
      "outputs": [
        {
          "output_type": "stream",
          "text": [
            "[1 1 0 0 0 0 0 0 0 0 0 0 0 0 0 0 0 0 0]\n",
            "No viable 0\n",
            "---------------\n",
            "[2 1 1 0 0 0 0 0 0 0 0 0 0 0 0 0 0 0 0]\n",
            "No viable 0\n",
            "---------------\n",
            "[4 2 1 1 0 0 0 0 0 0 0 0 0 0 0 0 0 0 0]\n",
            "No viable 0\n",
            "---------------\n",
            "[8 4 2 1 1 0 0 0 0 0 0 0 0 0 0 0 0 0 0]\n",
            "No viable 0\n",
            "---------------\n",
            "[16  8  4  2  1  1  0  0  0  0  0  0  0  0  0  0  0  0  0]\n",
            "No viable 0\n",
            "---------------\n",
            "[32 16  8  4  2  1  1  0  0  0  0  0  0  0  0  0  0  0  0]\n",
            "No viable 0\n",
            "---------------\n",
            "[64 32 16  8  4  2  1  1  0  0  0  0  0  0  0  0  0  0  0]\n",
            "No viable 0\n",
            "---------------\n",
            "[128  64  32  16   8   4   2   1   1   0   0   0   0   0   0   0   0   0\n",
            "   0]\n",
            "No viable 0\n",
            "---------------\n",
            "[256 128  64  32  16   8   4   2   1   1   0   0   0   0   0   0   0   0\n",
            "   0]\n",
            "No viable 0\n",
            "---------------\n",
            "19\n",
            "tiempo de ejecucion 0.012091398239135742\n"
          ],
          "name": "stdout"
        }
      ]
    },
    {
      "cell_type": "code",
      "metadata": {
        "colab": {
          "base_uri": "https://localhost:8080/"
        },
        "id": "S-OrvaZUBUmF",
        "outputId": "36dd8cdf-e8f0-4a7b-d818-af13205afb9c"
      },
      "source": [
        "indice=[]#edades\n",
        "ind=-1\n",
        "for i in range(len(zi)):\n",
        "  ind=ind+1\n",
        "  indice.append(ind)\n",
        "print(indice)"
      ],
      "execution_count": null,
      "outputs": [
        {
          "output_type": "stream",
          "text": [
            "[0, 1, 2, 3, 4, 5, 6, 7, 8, 9, 10, 11, 12, 13, 14, 15, 16, 17, 18]\n"
          ],
          "name": "stdout"
        }
      ]
    },
    {
      "cell_type": "code",
      "metadata": {
        "colab": {
          "base_uri": "https://localhost:8080/",
          "height": 295
        },
        "id": "XviRWaWDpN4A",
        "outputId": "4c893958-a185-4ab7-e7d2-8dca39f0a4e6"
      },
      "source": [
        "fig, ax = plt.subplots()\n",
        "ax.set_ylabel('Número de células')\n",
        "ax.set_xlabel('Edad')\n",
        "ax.set_title('Distribución de edades ')\n",
        "plt.bar(indice, zi)\n",
        "#plt.savefig('barras_simple.png')\n",
        "plt.show()"
      ],
      "execution_count": null,
      "outputs": [
        {
          "output_type": "display_data",
          "data": {
            "image/png": "[encoded data removed]",
            "text/plain": [
              "<Figure size 432x288 with 1 Axes>"
            ]
          },
          "metadata": {
            "tags": [],
            "needs_background": "light"
          }
        }
      ]
    },
    {
      "cell_type": "code",
      "metadata": {
        "colab": {
          "base_uri": "https://localhost:8080/"
        },
        "id": "P2wETBRpBYgK",
        "outputId": "0228d76d-2f1a-42e2-9374-7b468d3d6ec0"
      },
      "source": [
        "dic= dict(zip(zi,indice))# diccionario que guarda la distribucion {Número de células: edad} \n",
        "print(dic) "
      ],
      "execution_count": null,
      "outputs": [
        {
          "output_type": "stream",
          "text": [
            "{256: 0, 128: 1, 64: 2, 32: 3, 16: 4, 8: 5, 4: 6, 2: 7, 1: 9, 0: 18}\n"
          ],
          "name": "stdout"
        }
      ]
    },
    {
      "cell_type": "code",
      "metadata": {
        "colab": {
          "base_uri": "https://localhost:8080/"
        },
        "id": "FkcX2ykYBaeq",
        "outputId": "6fd968f0-8878-4a01-8f29-2e9c32bfe06c"
      },
      "source": [
        "#Probabilidad \n",
        "P=[] \n",
        "for i in zi:\n",
        "  p=i/total_celulas \n",
        "  P.append(p)\n",
        "print(P)"
      ],
      "execution_count": null,
      "outputs": [
        {
          "output_type": "stream",
          "text": [
            "[0.5, 0.25, 0.125, 0.0625, 0.03125, 0.015625, 0.0078125, 0.00390625, 0.001953125, 0.001953125, 0.0, 0.0, 0.0, 0.0, 0.0, 0.0, 0.0, 0.0, 0.0]\n"
          ],
          "name": "stdout"
        }
      ]
    },
    {
      "cell_type": "code",
      "metadata": {
        "colab": {
          "base_uri": "https://localhost:8080/",
          "height": 295
        },
        "id": "9lMiQcCKBcjR",
        "outputId": "38f672b5-327b-4ba7-8425-18689011034b"
      },
      "source": [
        "fig, ax = plt.subplots()  \n",
        "ax.set_ylabel('Probabilidad')\n",
        "ax.set_xlabel('Edad')\n",
        "ax.set_title('Distribución de probabilidades')\n",
        "plt.bar(indice, P)\n",
        "#plt.savefig('barras_simple.png')\n",
        "plt.show()"
      ],
      "execution_count": null,
      "outputs": [
        {
          "output_type": "display_data",
          "data": {
            "image/png": "[encoded data removed]",
            "text/plain": [
              "<Figure size 432x288 with 1 Axes>"
            ]
          },
          "metadata": {
            "tags": [],
            "needs_background": "light"
          }
        }
      ]
    },
    {
      "cell_type": "code",
      "metadata": {
        "colab": {
          "base_uri": "https://localhost:8080/"
        },
        "id": "j0uQ25OpULkH",
        "outputId": "7510acf9-a792-4d0d-9c86-06b0643e8d0c"
      },
      "source": [
        "#Determina el número de la primera muestra \n",
        "muestra=int((total_celulas*5)/20)\n",
        "print(muestra)\n",
        "print(total_celulas)"
      ],
      "execution_count": null,
      "outputs": [
        {
          "output_type": "stream",
          "text": [
            "128\n",
            "512\n"
          ],
          "name": "stdout"
        }
      ]
    },
    {
      "cell_type": "code",
      "metadata": {
        "colab": {
          "base_uri": "https://localhost:8080/"
        },
        "id": "IWvhfKH-BfDp",
        "outputId": "897762a7-e5f4-4729-8138-a7e790170384"
      },
      "source": [
        "#Toma una muestra de edades de segun los pesos probabilisticos y la cantidad hallada anteriormente\n",
        "sample= random.choices(indice,weights=P,k=muestra)    \n",
        "print(sample)"
      ],
      "execution_count": null,
      "outputs": [
        {
          "output_type": "stream",
          "text": [
            "[0, 1, 2, 0, 1, 0, 0, 1, 0, 0, 0, 2, 1, 2, 3, 1, 0, 0, 0, 0, 4, 0, 1, 0, 0, 2, 6, 0, 0, 0, 1, 3, 1, 0, 1, 3, 1, 1, 2, 1, 0, 0, 0, 1, 1, 0, 2, 0, 0, 2, 4, 0, 5, 1, 2, 1, 0, 0, 3, 1, 0, 2, 1, 2, 1, 1, 3, 0, 1, 2, 2, 0, 2, 0, 1, 3, 3, 0, 0, 1, 0, 0, 0, 0, 0, 1, 0, 1, 0, 1, 2, 2, 0, 0, 0, 0, 2, 0, 0, 2, 0, 4, 0, 0, 1, 3, 3, 0, 0, 1, 2, 0, 1, 2, 0, 0, 1, 1, 0, 2, 0, 4, 0, 0, 0, 2, 0, 0]\n"
          ],
          "name": "stdout"
        }
      ]
    },
    {
      "cell_type": "code",
      "metadata": {
        "colab": {
          "base_uri": "https://localhost:8080/"
        },
        "id": "kpenJX-PBhz8",
        "outputId": "cc195988-6b72-4c7d-899d-2d13e5ab85aa"
      },
      "source": [
        "#Genera un diccionario con la mustra seleccionada {edad: numero de celulas}\n",
        "print(coll.Counter(sample))"
      ],
      "execution_count": null,
      "outputs": [
        {
          "output_type": "stream",
          "text": [
            "Counter({0: 61, 1: 31, 2: 21, 3: 9, 4: 4, 6: 1, 5: 1})\n"
          ],
          "name": "stdout"
        }
      ]
    },
    {
      "cell_type": "markdown",
      "metadata": {
        "id": "vCvDbQQ5Po2T"
      },
      "source": [
        "\n",
        "\n",
        "---\n",
        "\n",
        "\n",
        "\n",
        "---\n",
        "\n"
      ]
    },
    {
      "cell_type": "code",
      "metadata": {
        "colab": {
          "base_uri": "https://localhost:8080/"
        },
        "id": "xTRF5t6_i_7-",
        "outputId": "81f281f9-abaf-48c2-c420-ede97d1f9ab6"
      },
      "source": [
        "#Para organizar el diccionario \n",
        "Dic= coll.Counter(sample)\n",
        "Dics=sorted(Dic)\n",
        "print(Dics)"
      ],
      "execution_count": null,
      "outputs": [
        {
          "output_type": "stream",
          "text": [
            "[0, 1, 2, 3, 4, 5, 6]\n"
          ],
          "name": "stdout"
        }
      ]
    },
    {
      "cell_type": "code",
      "metadata": {
        "colab": {
          "base_uri": "https://localhost:8080/"
        },
        "id": "BBx90xsYjRyq",
        "outputId": "7f9e5965-f3e6-472d-91fe-9a7d1ecc7e2d"
      },
      "source": [
        "valores_ord = coll.OrderedDict(sorted(Dic.items()))\n",
        "print(valores_ord)\n",
        "print(valores_ord[0])"
      ],
      "execution_count": null,
      "outputs": [
        {
          "output_type": "stream",
          "text": [
            "OrderedDict([(0, 61), (1, 31), (2, 21), (3, 9), (4, 4), (5, 1), (6, 1)])\n",
            "61\n"
          ],
          "name": "stdout"
        }
      ]
    },
    {
      "cell_type": "code",
      "metadata": {
        "colab": {
          "base_uri": "https://localhost:8080/"
        },
        "id": "_4pSePC7BlFm",
        "outputId": "9b010319-4af4-49fc-a386-3d08249ab3b0"
      },
      "source": [
        "#Separa el diccionario en dos listas \n",
        "valores=valores_ord.values()\n",
        "llaves=valores_ord.keys()\n",
        "Ncell=[]\n",
        "Edad=[]\n",
        "for i in valores:\n",
        "  Ncell.append(i)\n",
        "print('Numero de celulas',Ncell)\n",
        "for j in llaves:\n",
        "  Edad.append(j)\n",
        "print('Edades',Edad)\n",
        "print(sum(Ncell))"
      ],
      "execution_count": null,
      "outputs": [
        {
          "output_type": "stream",
          "text": [
            "Numero de celulas [61, 31, 21, 9, 4, 1, 1]\n",
            "Edades [0, 1, 2, 3, 4, 5, 6]\n",
            "128\n"
          ],
          "name": "stdout"
        }
      ]
    },
    {
      "cell_type": "code",
      "metadata": {
        "colab": {
          "base_uri": "https://localhost:8080/",
          "height": 295
        },
        "id": "QFEh9AHTSLb-",
        "outputId": "a5bbb2d7-5647-4c2f-c177-9511316f37c8"
      },
      "source": [
        "#Distribucion de edades de la segunda muestra \n",
        "fig, ax = plt.subplots()  \n",
        "ax.set_ylabel('Número de celulas')\n",
        "ax.set_xlabel('Edad')\n",
        "ax.set_title('Distribucion de edades final ')\n",
        "plt.bar(Edad, Ncell)\n",
        "#plt.savefig('barras_simple.png')\n",
        "plt.show()"
      ],
      "execution_count": null,
      "outputs": [
        {
          "output_type": "display_data",
          "data": {
            "image/png": "[encoded data removed]",
            "text/plain": [
              "<Figure size 432x288 with 1 Axes>"
            ]
          },
          "metadata": {
            "tags": [],
            "needs_background": "light"
          }
        }
      ]
    },
    {
      "cell_type": "code",
      "metadata": {
        "colab": {
          "base_uri": "https://localhost:8080/"
        },
        "id": "vIyzFPxgjlop",
        "outputId": "a7772274-8e64-4b5c-f805-8cbcf8c6a90c"
      },
      "source": [
        "#para organizar el diccionario en una lista \n",
        "inicial1=[0,0,0,0,0,0,0,0,0,0,0,0,0,0,0,0,0,0,0,0,0,0,0,0,0]\n",
        "for i in range(len(Edad)):\n",
        "  if i==Edad[i]:\n",
        "    inicial1[i]=Ncell[i]\n",
        "  else:\n",
        "    inicial1[Edad[i]]=Ncell[i]\n",
        "print(inicial1)\n",
        "print(len(inicial1))"
      ],
      "execution_count": null,
      "outputs": [
        {
          "output_type": "stream",
          "text": [
            "[61, 31, 21, 9, 4, 1, 1, 0, 0, 0, 0, 0, 0, 0, 0, 0, 0, 0, 0, 0, 0, 0, 0, 0, 0]\n",
            "25\n"
          ],
          "name": "stdout"
        }
      ]
    },
    {
      "cell_type": "markdown",
      "metadata": {
        "id": "3v9TwKZqSGsq"
      },
      "source": [
        "\n",
        "\n",
        "---\n",
        "\n",
        "\n",
        "\n",
        "---\n",
        "\n"
      ]
    },
    {
      "cell_type": "markdown",
      "metadata": {
        "id": "wr2bLM1zSYZo"
      },
      "source": [
        "## Convolución "
      ]
    },
    {
      "cell_type": "markdown",
      "metadata": {
        "id": "YgxlVh50Sc3I"
      },
      "source": [
        "Se vuelve a correr el primer código pero esta vez la matrix inicial va a ser la matrix hallada anteriormente "
      ]
    },
    {
      "cell_type": "code",
      "metadata": {
        "colab": {
          "base_uri": "https://localhost:8080/"
        },
        "id": "9o2Y3ukMhWjR",
        "outputId": "1ac8735e-5efb-48a6-aa50-834d21b62dca"
      },
      "source": [
        "tiempo_inicial = time()  \n",
        "#-------------------------------------------------------------------------------\n",
        "#variables \n",
        "s_1=[]\n",
        "R_1=0\n",
        "celulas_1=[]\n",
        "t_1=0  \n",
        "tr_1=[]\n",
        "m_1=19 \n",
        "muertes_1=0 \n",
        "fraccion_1=[]\n",
        "suma_1=[]\n",
        "r_1=0 \n",
        "g_1=10\n",
        "#------------------------------------------------------------------------------- \n",
        "for j_1 in range(g_1): \n",
        "  zf_1=np.zeros(m_1,dtype=np.int64) \n",
        "  for i_1 in range(m_1 -1):  \n",
        "    zf_1[i_1+1]= inicial1[i_1]\n",
        "    zf_1[0]=sum(inicial1)-inicial1[-1]\n",
        "  inicial1=zf_1\n",
        "#-------------------------------------------------------------------------------\n",
        "  muertes_1=muertes_1+zf_1[-1]\n",
        "  total_celulas_1= sum(inicial1)+muertes_1 \n",
        "  fraccion_viables_1= (sum(inicial1)-inicial1[-1])/total_celulas_1\n",
        "  fraccion.append(fraccion_viables_1)\n",
        "  r_1=inicial1[0]-muertes_1  \n",
        "#-------------------------------------------------------------------------------\n",
        "  total_1=sum(inicial1)\n",
        "  suma_1.append(total_1)\n",
        "#-------------------------------------------------------------------------------\n",
        "  print(inicial1)\n",
        "  #print('s',s)\n",
        "  #print('tiempo',t)\n",
        "  #print('lista tiempo',tr)\n",
        "  print('No viable', muertes_1)\n",
        "  #print('Crecimiento per capita', r)\n",
        "  #print('Células viables', total)\n",
        "  #print('Total de células',total_celulas)\n",
        "  #print('Fraccion de células viables',fraccion_viables)\n",
        "  #print('Lista de fracción de células viables', fraccion)\n",
        "  print('---------------')\n",
        "#-------------------------------------------------------------------------------\n",
        "print(len(inicial1))\n",
        "tiempo_final = time()\n",
        "tiempo_ejecucion = tiempo_final - tiempo_inicial\n",
        "print('tiempo de ejecucion',tiempo_ejecucion)"
      ],
      "execution_count": null,
      "outputs": [
        {
          "output_type": "stream",
          "text": [
            "[128  61  31  21   9   4   1   1   0   0   0   0   0   0   0   0   0   0\n",
            "   0]\n",
            "No viable 0\n",
            "---------------\n",
            "[256 128  61  31  21   9   4   1   1   0   0   0   0   0   0   0   0   0\n",
            "   0]\n",
            "No viable 0\n",
            "---------------\n",
            "[512 256 128  61  31  21   9   4   1   1   0   0   0   0   0   0   0   0\n",
            "   0]\n",
            "No viable 0\n",
            "---------------\n",
            "[1024  512  256  128   61   31   21    9    4    1    1    0    0    0\n",
            "    0    0    0    0    0]\n",
            "No viable 0\n",
            "---------------\n",
            "[2048 1024  512  256  128   61   31   21    9    4    1    1    0    0\n",
            "    0    0    0    0    0]\n",
            "No viable 0\n",
            "---------------\n",
            "[4096 2048 1024  512  256  128   61   31   21    9    4    1    1    0\n",
            "    0    0    0    0    0]\n",
            "No viable 0\n",
            "---------------\n",
            "[8192 4096 2048 1024  512  256  128   61   31   21    9    4    1    1\n",
            "    0    0    0    0    0]\n",
            "No viable 0\n",
            "---------------\n",
            "[16384  8192  4096  2048  1024   512   256   128    61    31    21     9\n",
            "     4     1     1     0     0     0     0]\n",
            "No viable 0\n",
            "---------------\n",
            "[32768 16384  8192  4096  2048  1024   512   256   128    61    31    21\n",
            "     9     4     1     1     0     0     0]\n",
            "No viable 0\n",
            "---------------\n",
            "[65536 32768 16384  8192  4096  2048  1024   512   256   128    61    31\n",
            "    21     9     4     1     1     0     0]\n",
            "No viable 0\n",
            "---------------\n",
            "19\n",
            "tiempo de ejecucion 0.011001825332641602\n"
          ],
          "name": "stdout"
        }
      ]
    },
    {
      "cell_type": "code",
      "metadata": {
        "colab": {
          "base_uri": "https://localhost:8080/"
        },
        "id": "EZZzawLalnxC",
        "outputId": "d020ec4f-1484-4f2c-829d-c9ebe0a5740f"
      },
      "source": [
        "edad=[]#edades\n",
        "ind=-1\n",
        "for i in range(len(inicial1)):\n",
        "  ind=ind+1\n",
        "  edad.append(ind)\n",
        "print('Edad',edad)"
      ],
      "execution_count": null,
      "outputs": [
        {
          "output_type": "stream",
          "text": [
            "Edad [0, 1, 2, 3, 4, 5, 6, 7, 8, 9, 10, 11, 12, 13, 14, 15, 16, 17, 18]\n"
          ],
          "name": "stdout"
        }
      ]
    },
    {
      "cell_type": "code",
      "metadata": {
        "colab": {
          "base_uri": "https://localhost:8080/",
          "height": 295
        },
        "id": "2iz_lHNvkMKU",
        "outputId": "c8aa1f4f-a7eb-4ef7-ad08-96accce99fc2"
      },
      "source": [
        "fig, ax = plt.subplots()\n",
        "ax.set_ylabel('Número de células')\n",
        "ax.set_xlabel('Edad')\n",
        "ax.set_title('Distribucion de edades ')\n",
        "plt.bar(edad, inicial1)\n",
        "#plt.savefig('Distribución de edades.png')\n",
        "plt.show()"
      ],
      "execution_count": null,
      "outputs": [
        {
          "output_type": "display_data",
          "data": {
            "image/png": "[encoded data removed]",
            "text/plain": [
              "<Figure size 432x288 with 1 Axes>"
            ]
          },
          "metadata": {
            "tags": [],
            "needs_background": "light"
          }
        }
      ]
    },
    {
      "cell_type": "code",
      "metadata": {
        "colab": {
          "base_uri": "https://localhost:8080/"
        },
        "id": "hDdMOLFWnKFu",
        "outputId": "83ae6012-4739-43e5-f9af-b8abe9a6c0fd"
      },
      "source": [
        "#Probabilidad\n",
        "P_1=[] \n",
        "for ii in inicial1:\n",
        "  p_1=ii/total_celulas_1 \n",
        "  P_1.append(p_1)\n",
        "print(P_1)"
      ],
      "execution_count": null,
      "outputs": [
        {
          "output_type": "stream",
          "text": [
            "[0.5, 0.25, 0.125, 0.0625, 0.03125, 0.015625, 0.0078125, 0.00390625, 0.001953125, 0.0009765625, 0.00046539306640625, 0.00023651123046875, 0.00016021728515625, 6.866455078125e-05, 3.0517578125e-05, 7.62939453125e-06, 7.62939453125e-06, 0.0, 0.0]\n"
          ],
          "name": "stdout"
        }
      ]
    },
    {
      "cell_type": "code",
      "metadata": {
        "colab": {
          "base_uri": "https://localhost:8080/"
        },
        "id": "-PG97kXwnqvc",
        "outputId": "e9b69c87-aeaf-4e37-e894-65aba7961278"
      },
      "source": [
        "#Segunda muestra, fue el número de células que se estudiaron \n",
        "n_cell=96\n",
        "sample_1= random.choices(edad,weights=P_1,k=n_cell)   \n",
        "print(sample_1) "
      ],
      "execution_count": null,
      "outputs": [
        {
          "output_type": "stream",
          "text": [
            "[3, 0, 4, 3, 3, 0, 2, 2, 1, 1, 0, 0, 2, 0, 0, 0, 0, 0, 3, 0, 0, 3, 1, 0, 0, 5, 0, 3, 2, 0, 1, 2, 0, 1, 0, 3, 1, 1, 10, 4, 0, 1, 4, 2, 0, 0, 0, 1, 0, 0, 0, 0, 1, 1, 0, 0, 0, 1, 8, 1, 1, 0, 0, 0, 0, 1, 1, 1, 2, 1, 0, 3, 2, 0, 0, 0, 3, 1, 0, 6, 1, 0, 0, 0, 0, 0, 0, 2, 1, 2, 0, 2, 1, 0, 2, 0]\n"
          ],
          "name": "stdout"
        }
      ]
    },
    {
      "cell_type": "code",
      "metadata": {
        "colab": {
          "base_uri": "https://localhost:8080/"
        },
        "id": "lk0Xk82YVZWJ",
        "outputId": "c3cac78f-14f6-4c44-f39e-67777f18e2d3"
      },
      "source": [
        "Dic_1= coll.Counter(sample_1)\n",
        "valores_1=Dic_1.values()\n",
        "llaves_1=Dic_1.keys()\n",
        "Ncell_1=[]\n",
        "Edad_1=[]\n",
        "for i in valores_1:\n",
        "  Ncell_1.append(i)\n",
        "print('Numero de celulas',Ncell_1)\n",
        "for j in llaves_1:\n",
        "  Edad_1.append(j)\n",
        "print('Edades',Edad_1)\n",
        "print(sum(Ncell_1))"
      ],
      "execution_count": null,
      "outputs": [
        {
          "output_type": "stream",
          "text": [
            "Numero de celulas [9, 46, 3, 12, 22, 1, 1, 1, 1]\n",
            "Edades [3, 0, 4, 2, 1, 5, 10, 8, 6]\n",
            "96\n"
          ],
          "name": "stdout"
        }
      ]
    },
    {
      "cell_type": "code",
      "metadata": {
        "colab": {
          "base_uri": "https://localhost:8080/",
          "height": 295
        },
        "id": "LT3l6BgeS-xg",
        "outputId": "47339f99-b488-487b-e426-b993dd2ccd4b"
      },
      "source": [
        "fig, ax = plt.subplots()  \n",
        "ax.set_ylabel('Número de celulas')\n",
        "ax.set_xlabel('Edad')\n",
        "ax.set_title('Distribucion de edades final ')\n",
        "plt.bar(Edad_1, Ncell_1)\n",
        "#plt.savefig('Distribucion de edades .png')\n",
        "plt.show()"
      ],
      "execution_count": null,
      "outputs": [
        {
          "output_type": "display_data",
          "data": {
            "image/png": "[encoded data removed]",
            "text/plain": [
              "<Figure size 432x288 with 1 Axes>"
            ]
          },
          "metadata": {
            "tags": [],
            "needs_background": "light"
          }
        }
      ]
    },
    {
      "cell_type": "markdown",
      "metadata": {
        "id": "XjREmh0HYOCi"
      },
      "source": [
        "\n",
        "\n",
        "---\n",
        "\n",
        "\n",
        "\n",
        "---\n",
        "\n"
      ]
    },
    {
      "cell_type": "code",
      "metadata": {
        "colab": {
          "base_uri": "https://localhost:8080/"
        },
        "id": "vN2OTiBuYPtD",
        "outputId": "c11e48fa-9340-47cd-b1cb-940c067fcb66"
      },
      "source": [
        "#Porcentaje de las edades dentro de la distribucion \n",
        "per_cell=[]\n",
        "for i in range(len(Edad_1)):\n",
        "  per_c=(Ncell_1[i]*100)/180\n",
        "  per_cell.append(per_c)\n",
        "print(per_cell)\n",
        "print(Edad_1)"
      ],
      "execution_count": null,
      "outputs": [
        {
          "output_type": "stream",
          "text": [
            "[5.0, 25.555555555555557, 1.6666666666666667, 6.666666666666667, 12.222222222222221, 0.5555555555555556, 0.5555555555555556, 0.5555555555555556, 0.5555555555555556]\n",
            "[3, 0, 4, 2, 1, 5, 10, 8, 6]\n"
          ],
          "name": "stdout"
        }
      ]
    },
    {
      "cell_type": "markdown",
      "metadata": {
        "id": "KkUHagK0hUYz"
      },
      "source": [
        "\n",
        "\n",
        "---\n",
        "\n",
        "\n",
        "\n",
        "---\n",
        "\n"
      ]
    },
    {
      "cell_type": "markdown",
      "metadata": {
        "id": "WKHn93MiPq-x"
      },
      "source": [
        "## Datos"
      ]
    },
    {
      "cell_type": "code",
      "metadata": {
        "id": "NfASNSaXVazF"
      },
      "source": [
        "x=[0,6,8,10,12,14,16,18,20,22,24,26,28,30,32,34,35,38,39,40] # Generaciones \n",
        "y=[1,1,0.98,0.93,0.84,0.65,0.51,0.43,0.28,0.23,0.12,0.1,0.08,0.045,0.03,0.03,0.01,0.01,0,0] # Fracción de células viables "
      ],
      "execution_count": null,
      "outputs": []
    },
    {
      "cell_type": "code",
      "metadata": {
        "colab": {
          "base_uri": "https://localhost:8080/",
          "height": 331
        },
        "id": "ASjNHoaVQP3i",
        "outputId": "cc56019f-587e-4cad-e7ec-0d7cd8c4eab7"
      },
      "source": [
        "#fit\n",
        "xa=np.array(x)\n",
        "ya=np.array(y)\n",
        "def fsigmoid(x,a,b):\n",
        "  return np.exp(a+b*x)/( 1+ np.exp(a+b*x))\n",
        "xdata = np.linspace(0, 35, 35)\n",
        "ydata = np.random.normal(size=len(xdata))\n",
        "popt, pcov = curve_fit(fsigmoid, xa, ya)\n",
        "a=curve_fit(fsigmoid,xa,ya)\n",
        "print('popt',popt,'pcov', pcov)\n",
        "plt.figure()\n",
        "plt.plot(xa, fsigmoid(xa, *popt), 'r-', label='fit')\n",
        "plt.plot(x,y)\n",
        "plt.title('RLS')\n",
        "plt.ylabel('Fracción de células viables ')\n",
        "plt.xlabel('Generaciones')\n",
        "plt.legend(loc=4)\n",
        "plt.plot(xa, ya, 'b-', label='data')\n",
        "plt.show()"
      ],
      "execution_count": null,
      "outputs": [
        {
          "output_type": "stream",
          "text": [
            "popt [ 4.84417292 -0.28571052] pcov [[ 0.0740209  -0.00413624]\n",
            " [-0.00413624  0.00024342]]\n"
          ],
          "name": "stdout"
        },
        {
          "output_type": "display_data",
          "data": {
            "image/png": "[encoded data removed]",
            "text/plain": [
              "<Figure size 432x288 with 1 Axes>"
            ]
          },
          "metadata": {
            "tags": [],
            "needs_background": "light"
          }
        }
      ]
    },
    {
      "cell_type": "markdown",
      "metadata": {
        "id": "xO1V4P3TTkUu"
      },
      "source": [
        "\n",
        "\n",
        "---\n",
        "\n"
      ]
    },
    {
      "cell_type": "markdown",
      "metadata": {
        "id": "tjxvBkYlBojq"
      },
      "source": [
        "## Simulacion de la curva de envejecimiento\n"
      ]
    },
    {
      "cell_type": "code",
      "metadata": {
        "colab": {
          "base_uri": "https://localhost:8080/"
        },
        "id": "oxwKgsaGBptH",
        "outputId": "4bd5a920-7b36-403c-bafb-85232a1a5209"
      },
      "source": [
        "R=[]#Me crea una lista de numeros aleatorios entre cero y uno \n",
        "for i in range(n_cell):\n",
        "  r=random.random()\n",
        "  R.append(r)\n",
        "print(R)\n",
        "print(len(R))"
      ],
      "execution_count": null,
      "outputs": [
        {
          "output_type": "stream",
          "text": [
            "[0.023277849996582445, 0.8650209059812807, 0.3809378011760206, 0.12169929754382847, 0.648142024159664, 0.6218079785921224, 0.07935090675331602, 0.8351867209178433, 0.6657976232066496, 0.028597553553637023, 0.9245650506324398, 0.43881786795132804, 0.19645281402430337, 0.6140935473460266, 0.9630079953589131, 0.47632344059664855, 0.4323785872455994, 0.6456761351547661, 0.4604279814879845, 0.5891288161917814, 0.2619187654166375, 0.6458011566231893, 0.5821937584658429, 0.19299773276103438, 0.7856457054834415, 0.25432474216343304, 0.8569630778753393, 0.23942014929897415, 0.25900147692895004, 0.6849679427954274, 0.8685595167345449, 0.01477921585137787, 0.5632696363304949, 0.7839270788891449, 0.7489179044512673, 0.3621967350337013, 0.9391027988696968, 0.7249148543774492, 0.6940914926131817, 0.5265175206905941, 0.2683903028877759, 0.21210770982453409, 0.24440266437387015, 0.41300205622685526, 0.9007816221768864, 0.21553322209759185, 0.9540938720721445, 0.9430188881475171, 0.5409695657771909, 0.0039029758238529055, 0.7135774031694213, 0.3289458217756728, 0.3019236969175584, 0.3412568788976754, 0.8424518701397843, 0.9702821468294216, 0.16444472815805233, 0.4096772997758257, 0.5798074290515162, 0.8217898227090819, 0.29221340836188214, 0.98692906693598, 0.8542534963848819, 0.9646036764918657, 0.5100543301391419, 0.11734975432902106, 0.8971590207743075, 0.31833057404638265, 0.2012460444206079, 0.6854894219535845, 0.31998324286881485, 0.12474696844004673, 0.5365990996063382, 0.7540487616830713, 0.6737631011994847, 0.7775518775239888, 0.43872036098091116, 0.5848133098145852, 0.9686816922004382, 0.868892189483835, 0.4177435009520256, 0.35687444048787054, 0.32005400676430396, 0.6448654199864038, 0.7095546148274229, 0.18690301381926888, 0.7346893396850968, 0.49129560240452086, 0.6083271245937508, 0.6732688243991214, 0.3471447142079426, 0.9728653371506781, 0.21046588079523987, 0.5218356159121166, 0.020753407330942553, 0.21285904108084086]\n",
            "96\n"
          ],
          "name": "stdout"
        }
      ]
    },
    {
      "cell_type": "markdown",
      "metadata": {
        "id": "rql_sEsKFjUe"
      },
      "source": [
        "La ecuación inversa que utilizo para ajustar la curva \n",
        "$$f(x)=\\frac{ln\\left ( \\frac{1-x}{x} \\right )-a}{b}$$"
      ]
    },
    {
      "cell_type": "code",
      "metadata": {
        "colab": {
          "base_uri": "https://localhost:8080/"
        },
        "id": "kI2tPbVYBsep",
        "outputId": "632441bd-f850-493c-dee8-2b13c97e27a8"
      },
      "source": [
        "p=[]\n",
        "def inversa(x,a,b):\n",
        "  return (np.log((1-x)/x)-a)/b\n",
        "for i in R:\n",
        "  p1= inversa(i,popt[0],popt[1])\n",
        "  p.append(p1)\n",
        "print(p)"
      ],
      "execution_count": null,
      "outputs": [
        {
          "output_type": "stream",
          "text": [
            "[3.8762064799455436, 23.456632626242296, 15.255312586796036, 10.037212266789027, 19.092944716680208, 18.69515411379049, 8.37551884549358, 22.634851048007558, 19.367197125988348, 4.615697214334497, 25.726128889833163, 16.093953667708924, 12.024616004171163, 18.58078315905047, 28.362738816197055, 16.62310443695862, 16.002280303377155, 19.055159769069242, 16.399652057593045, 18.216123273318292, 13.328712706763605, 19.05707260539768, 18.116093367384547, 11.947494596189843, 21.500953630765217, 13.189905290964017, 23.22093347469086, 12.909261381744408, 13.2757031935808, 19.67330629090376, 23.563902715875127, 2.2558813065004766, 17.84538905662633, 21.46533838432642, 20.779852091095147, 14.974354424670404, 26.530037024375915, 20.346280811273257, 19.822478565312434, 17.326427576235318, 13.444965326982521, 12.361833047709966, 13.004356472925153, 15.724321901563519, 24.67571910133935, 12.433157055910735, 27.574540798542863, 26.777240856945873, 17.52969908781834, -2.4427957761535812, 20.1497498877028, 14.459446985281938, 14.021250754069236, 14.652854849210492, 22.82295545783804, 29.15542578072891, 11.265426783226463, 15.676263413239758, 18.081783809804435, 22.304722918547906, 13.858484080490724, 32.08975363221874, 23.14416733663331, 28.522863981667705, 17.095610185291356, 9.892539949915768, 24.53610094760312, 14.289703045058301, 12.129928688991367, 19.68176842911433, 14.31632310613875, 10.135949277253511, 17.46814096447488, 20.876013504753125, 19.493253874367298, 21.334984039253158, 16.09256776794338, 18.15381991053749, 28.966053357051365, 23.57411279830673, 15.792661298541718, 14.893455683164646, 14.31746129211674, 19.04276315029852, 20.081146642179306, 11.808848945939049, 20.519787775222216, 16.83295324450964, 18.49584927871848, 19.485386420358836, 14.74415145178327, 29.48301179509503, 12.327349496176586, 17.260725948611007, 3.4653952321302413, 12.377548283505941]\n"
          ],
          "name": "stdout"
        }
      ]
    },
    {
      "cell_type": "code",
      "metadata": {
        "colab": {
          "base_uri": "https://localhost:8080/"
        },
        "id": "EIfYFhhfS_Iy",
        "outputId": "206c7d62-72ad-43b1-a58f-3d8f94feeba6"
      },
      "source": [
        "#RLS promedio \n",
        "RLSmean1=statistics.mean(p)\n",
        "print(RLSmean1)"
      ],
      "execution_count": null,
      "outputs": [
        {
          "output_type": "stream",
          "text": [
            "17.436189575256986\n"
          ],
          "name": "stdout"
        }
      ]
    },
    {
      "cell_type": "markdown",
      "metadata": {
        "id": "wypgQX1JRcBB"
      },
      "source": [
        "La siguiente celda de código es para restar la distribución de edades hallada, para esto, se divide la lista “p” según la cantidad de edades presentes en la distribución, y la cantidad de elementos dentro de la lista vienen dada por la cantidad de células en cada edad. Luego de esto se resta los valores de la edad a la respectiva lista. "
      ]
    },
    {
      "cell_type": "markdown",
      "metadata": {
        "id": "tQQokXjuZ6n2"
      },
      "source": [
        "Es posible que se presente un error cuando hay mas listas definidas que edades en la distribución, cuando suceda esto por favor comentar la lista donde se presenta el error y verificar que la suma sea igual al valor de n_cell "
      ]
    },
    {
      "cell_type": "code",
      "metadata": {
        "colab": {
          "base_uri": "https://localhost:8080/"
        },
        "id": "G3k_SraYM0AQ",
        "outputId": "818c0e71-962f-43f6-bf4e-5bd6c1e2f6e5"
      },
      "source": [
        "p_1=p[0:Ncell_1[0]]\n",
        "p_2=p[Ncell_1[0]:Ncell_1[1]+Ncell_1[0]]\n",
        "p_3=p[Ncell_1[1]+Ncell_1[0]:(Ncell_1[2]+Ncell_1[1]+Ncell_1[0])]\n",
        "p_4=p[(Ncell_1[2]+Ncell_1[1]+Ncell_1[0]):(Ncell_1[2]+Ncell_1[1]+Ncell_1[3]+Ncell_1[0])]\n",
        "p_5=p[(Ncell_1[2]+Ncell_1[1]+Ncell_1[3]+Ncell_1[0]):(Ncell_1[2]+Ncell_1[1]+Ncell_1[3]+Ncell_1[4]+Ncell_1[0])]\n",
        "p_6=p[(Ncell_1[2]+Ncell_1[1]+Ncell_1[3]+Ncell_1[4]+Ncell_1[0]):(Ncell_1[2]+Ncell_1[1]+Ncell_1[3]+Ncell_1[4]+Ncell_1[5]+Ncell_1[0])]\n",
        "p_7=p[(Ncell_1[2]+Ncell_1[1]+Ncell_1[3]+Ncell_1[4]+Ncell_1[5]+Ncell_1[0]):(Ncell_1[2]+Ncell_1[1]+Ncell_1[3]+Ncell_1[4]+Ncell_1[5]+Ncell_1[6]+Ncell_1[0])]\n",
        "p_8=p[(Ncell_1[2]+Ncell_1[1]+Ncell_1[3]+Ncell_1[4]+Ncell_1[5]+Ncell_1[6]+Ncell_1[0]):(Ncell_1[2]+Ncell_1[1]+Ncell_1[3]+Ncell_1[4]+Ncell_1[5]+Ncell_1[6]+Ncell_1[0]+Ncell_1[7])]\n",
        "p_9=p[(Ncell_1[2]+Ncell_1[1]+Ncell_1[3]+Ncell_1[4]+Ncell_1[5]+Ncell_1[6]+Ncell_1[0]+Ncell_1[7]):(Ncell_1[2]+Ncell_1[1]+Ncell_1[3]+Ncell_1[4]+Ncell_1[5]+Ncell_1[6]+Ncell_1[0]+Ncell_1[7]+Ncell_1[8])]\n",
        "print(len(p_1)+len(p_2)+len(p_3)+len(p_4)+len(p_5)+len(p_6)+len(p_7)+len(p_8)+len(p_9))"
      ],
      "execution_count": null,
      "outputs": [
        {
          "output_type": "stream",
          "text": [
            "96\n"
          ],
          "name": "stdout"
        }
      ]
    },
    {
      "cell_type": "code",
      "metadata": {
        "colab": {
          "base_uri": "https://localhost:8080/"
        },
        "id": "2hUvlDVQR_tm",
        "outputId": "f2ff525c-4796-4bc6-d5ca-a2014d3183ee"
      },
      "source": [
        "dp_1=[]\n",
        "for i in range(len(p_1)):\n",
        "  d=p_1[i]-Edad_1[0]\n",
        "  dp_1.append(d)\n",
        "print(dp_1)\n",
        "len(dp_1)"
      ],
      "execution_count": null,
      "outputs": [
        {
          "output_type": "stream",
          "text": [
            "[0.8762064799455436, 20.456632626242296, 12.255312586796036, 7.037212266789027, 16.092944716680208, 15.69515411379049, 5.3755188454935805, 19.634851048007558, 16.367197125988348]\n"
          ],
          "name": "stdout"
        },
        {
          "output_type": "execute_result",
          "data": {
            "text/plain": [
              "9"
            ]
          },
          "metadata": {
            "tags": []
          },
          "execution_count": 33
        }
      ]
    },
    {
      "cell_type": "code",
      "metadata": {
        "colab": {
          "base_uri": "https://localhost:8080/"
        },
        "id": "zYtf3e1ES6IA",
        "outputId": "2331e9a1-0d38-472e-a6e2-5af983bfa32e"
      },
      "source": [
        "dp_2=[]\n",
        "for i in range(len(p_2)):\n",
        "  d=p_2[i]-Edad_1[1]\n",
        "  dp_2.append(d)\n",
        "print(dp_2)\n",
        "len(dp_2)"
      ],
      "execution_count": null,
      "outputs": [
        {
          "output_type": "stream",
          "text": [
            "[4.615697214334497, 25.726128889833163, 16.093953667708924, 12.024616004171163, 18.58078315905047, 28.362738816197055, 16.62310443695862, 16.002280303377155, 19.055159769069242, 16.399652057593045, 18.216123273318292, 13.328712706763605, 19.05707260539768, 18.116093367384547, 11.947494596189843, 21.500953630765217, 13.189905290964017, 23.22093347469086, 12.909261381744408, 13.2757031935808, 19.67330629090376, 23.563902715875127, 2.2558813065004766, 17.84538905662633, 21.46533838432642, 20.779852091095147, 14.974354424670404, 26.530037024375915, 20.346280811273257, 19.822478565312434, 17.326427576235318, 13.444965326982521, 12.361833047709966, 13.004356472925153, 15.724321901563519, 24.67571910133935, 12.433157055910735, 27.574540798542863, 26.777240856945873, 17.52969908781834, -2.4427957761535812, 20.1497498877028, 14.459446985281938, 14.021250754069236, 14.652854849210492, 22.82295545783804]\n"
          ],
          "name": "stdout"
        },
        {
          "output_type": "execute_result",
          "data": {
            "text/plain": [
              "46"
            ]
          },
          "metadata": {
            "tags": []
          },
          "execution_count": 34
        }
      ]
    },
    {
      "cell_type": "code",
      "metadata": {
        "colab": {
          "base_uri": "https://localhost:8080/"
        },
        "id": "a5n9k0CBS8jq",
        "outputId": "d66518d4-9587-4afd-8f38-d06dabce9476"
      },
      "source": [
        "dp_3=[]\n",
        "for i in range(len(p_3)):\n",
        "  d=p_3[i]-Edad_1[2]\n",
        "  dp_3.append(d)\n",
        "print(dp_3)\n",
        "len(dp_3)"
      ],
      "execution_count": null,
      "outputs": [
        {
          "output_type": "stream",
          "text": [
            "[25.15542578072891, 7.265426783226463, 11.676263413239758]\n"
          ],
          "name": "stdout"
        },
        {
          "output_type": "execute_result",
          "data": {
            "text/plain": [
              "3"
            ]
          },
          "metadata": {
            "tags": []
          },
          "execution_count": 35
        }
      ]
    },
    {
      "cell_type": "code",
      "metadata": {
        "colab": {
          "base_uri": "https://localhost:8080/"
        },
        "id": "VQJ758dvTJYn",
        "outputId": "cad98955-c7ca-4575-e869-6668e0dc23be"
      },
      "source": [
        "dp_4=[]\n",
        "for i in range(len(p_4)):\n",
        "  d=p_4[i]-Edad_1[3]\n",
        "  dp_4.append(d)\n",
        "#dp_4=[dp_3-Edad[3]]\n",
        "print(dp_4)\n",
        "len(dp_4)"
      ],
      "execution_count": null,
      "outputs": [
        {
          "output_type": "stream",
          "text": [
            "[16.081783809804435, 20.304722918547906, 11.858484080490724, 30.089753632218738, 21.14416733663331, 26.522863981667705, 15.095610185291356, 7.8925399499157685, 22.53610094760312, 12.289703045058301, 10.129928688991367, 17.68176842911433]\n"
          ],
          "name": "stdout"
        },
        {
          "output_type": "execute_result",
          "data": {
            "text/plain": [
              "12"
            ]
          },
          "metadata": {
            "tags": []
          },
          "execution_count": 36
        }
      ]
    },
    {
      "cell_type": "code",
      "metadata": {
        "colab": {
          "base_uri": "https://localhost:8080/"
        },
        "id": "s8MQnvAOTSDY",
        "outputId": "94af211f-8728-41ed-fb63-51643bf15ce0"
      },
      "source": [
        "dp_5=[]\n",
        "for i in range(len(p_5)):\n",
        "  d=p_5[i]-Edad_1[4]\n",
        "  dp_5.append(d)\n",
        "print(dp_5)\n",
        "len(dp_5)"
      ],
      "execution_count": null,
      "outputs": [
        {
          "output_type": "stream",
          "text": [
            "[13.31632310613875, 9.135949277253511, 16.46814096447488, 19.876013504753125, 18.493253874367298, 20.334984039253158, 15.092567767943379, 17.15381991053749, 27.966053357051365, 22.57411279830673, 14.792661298541718, 13.893455683164646, 13.31746129211674, 18.04276315029852, 19.081146642179306, 10.808848945939049, 19.519787775222216, 15.832953244509639, 17.49584927871848, 18.485386420358836, 13.74415145178327, 28.48301179509503]\n"
          ],
          "name": "stdout"
        },
        {
          "output_type": "execute_result",
          "data": {
            "text/plain": [
              "22"
            ]
          },
          "metadata": {
            "tags": []
          },
          "execution_count": 37
        }
      ]
    },
    {
      "cell_type": "code",
      "metadata": {
        "colab": {
          "base_uri": "https://localhost:8080/"
        },
        "id": "goADsN_3TT4g",
        "outputId": "867fafe9-c177-44b4-99ac-9ef5bcbedccd"
      },
      "source": [
        "dp_6=[]\n",
        "for i in range(len(p_6)):\n",
        "  d=p_6[i]-Edad_1[5]\n",
        "  dp_6.append(d)\n",
        "print(dp_6)\n",
        "len(dp_6)"
      ],
      "execution_count": null,
      "outputs": [
        {
          "output_type": "stream",
          "text": [
            "[7.327349496176586]\n"
          ],
          "name": "stdout"
        },
        {
          "output_type": "execute_result",
          "data": {
            "text/plain": [
              "1"
            ]
          },
          "metadata": {
            "tags": []
          },
          "execution_count": 38
        }
      ]
    },
    {
      "cell_type": "code",
      "metadata": {
        "colab": {
          "base_uri": "https://localhost:8080/"
        },
        "id": "bxtg0UX9TV0A",
        "outputId": "cfa862c6-79b9-4361-8c8e-3f151bd1ff4a"
      },
      "source": [
        "dp_7=[]\n",
        "for i in range(len(p_7)):\n",
        "  d=p_7[i]-Edad_1[6]\n",
        "  dp_7.append(d)\n",
        "print(dp_7)\n",
        "len(dp_7)"
      ],
      "execution_count": null,
      "outputs": [
        {
          "output_type": "stream",
          "text": [
            "[7.260725948611007]\n"
          ],
          "name": "stdout"
        },
        {
          "output_type": "execute_result",
          "data": {
            "text/plain": [
              "1"
            ]
          },
          "metadata": {
            "tags": []
          },
          "execution_count": 39
        }
      ]
    },
    {
      "cell_type": "code",
      "metadata": {
        "colab": {
          "base_uri": "https://localhost:8080/"
        },
        "id": "LPPAsjLOTX1Y",
        "outputId": "ce9e354c-2fc4-4ef1-e400-a6e95c438dcf"
      },
      "source": [
        "dp_8=[]\n",
        "for i in range(len(p_8)):\n",
        "  d=p_8[i]-Edad_1[7]\n",
        "  dp_8.append(d)\n",
        "print(dp_8)\n",
        "print(Edad_1[7])\n",
        "len(dp_8)"
      ],
      "execution_count": null,
      "outputs": [
        {
          "output_type": "stream",
          "text": [
            "[-4.534604767869759]\n",
            "8\n"
          ],
          "name": "stdout"
        },
        {
          "output_type": "execute_result",
          "data": {
            "text/plain": [
              "1"
            ]
          },
          "metadata": {
            "tags": []
          },
          "execution_count": 40
        }
      ]
    },
    {
      "cell_type": "code",
      "metadata": {
        "colab": {
          "base_uri": "https://localhost:8080/"
        },
        "id": "W6W8xWlDTajo",
        "outputId": "e055eb0a-4cb0-4e1d-969f-eaa1d98defaf"
      },
      "source": [
        "dp_9=[]\n",
        "for i in range(len(p_9)):\n",
        "  d=p_9[i]-Edad_1[8]\n",
        "  dp_9.append(d)\n",
        "print(dp_9)\n",
        "len(dp_9)"
      ],
      "execution_count": null,
      "outputs": [
        {
          "output_type": "stream",
          "text": [
            "[6.377548283505941]\n"
          ],
          "name": "stdout"
        },
        {
          "output_type": "execute_result",
          "data": {
            "text/plain": [
              "1"
            ]
          },
          "metadata": {
            "tags": []
          },
          "execution_count": 41
        }
      ]
    },
    {
      "cell_type": "code",
      "metadata": {
        "colab": {
          "base_uri": "https://localhost:8080/"
        },
        "id": "bR3m0z0xTmm_",
        "outputId": "c6999786-7c5a-45d0-f80b-cbdd200e614c"
      },
      "source": [
        "listaobservada=dp_1+dp_2+dp_3+dp_4+dp_5+dp_6+dp_7+dp_8+dp_9\n",
        "print(listaobservada)\n",
        "len(listaobservada)"
      ],
      "execution_count": null,
      "outputs": [
        {
          "output_type": "stream",
          "text": [
            "[0.8762064799455436, 20.456632626242296, 12.255312586796036, 7.037212266789027, 16.092944716680208, 15.69515411379049, 5.3755188454935805, 19.634851048007558, 16.367197125988348, 4.615697214334497, 25.726128889833163, 16.093953667708924, 12.024616004171163, 18.58078315905047, 28.362738816197055, 16.62310443695862, 16.002280303377155, 19.055159769069242, 16.399652057593045, 18.216123273318292, 13.328712706763605, 19.05707260539768, 18.116093367384547, 11.947494596189843, 21.500953630765217, 13.189905290964017, 23.22093347469086, 12.909261381744408, 13.2757031935808, 19.67330629090376, 23.563902715875127, 2.2558813065004766, 17.84538905662633, 21.46533838432642, 20.779852091095147, 14.974354424670404, 26.530037024375915, 20.346280811273257, 19.822478565312434, 17.326427576235318, 13.444965326982521, 12.361833047709966, 13.004356472925153, 15.724321901563519, 24.67571910133935, 12.433157055910735, 27.574540798542863, 26.777240856945873, 17.52969908781834, -2.4427957761535812, 20.1497498877028, 14.459446985281938, 14.021250754069236, 14.652854849210492, 22.82295545783804, 25.15542578072891, 7.265426783226463, 11.676263413239758, 16.081783809804435, 20.304722918547906, 11.858484080490724, 30.089753632218738, 21.14416733663331, 26.522863981667705, 15.095610185291356, 7.8925399499157685, 22.53610094760312, 12.289703045058301, 10.129928688991367, 17.68176842911433, 13.31632310613875, 9.135949277253511, 16.46814096447488, 19.876013504753125, 18.493253874367298, 20.334984039253158, 15.092567767943379, 17.15381991053749, 27.966053357051365, 22.57411279830673, 14.792661298541718, 13.893455683164646, 13.31746129211674, 18.04276315029852, 19.081146642179306, 10.808848945939049, 19.519787775222216, 15.832953244509639, 17.49584927871848, 18.485386420358836, 13.74415145178327, 28.48301179509503, 7.327349496176586, 7.260725948611007, -4.534604767869759, 6.377548283505941]\n"
          ],
          "name": "stdout"
        },
        {
          "output_type": "execute_result",
          "data": {
            "text/plain": [
              "96"
            ]
          },
          "metadata": {
            "tags": []
          },
          "execution_count": 42
        }
      ]
    },
    {
      "cell_type": "code",
      "metadata": {
        "colab": {
          "base_uri": "https://localhost:8080/"
        },
        "id": "OaG2_LLFS2b8",
        "outputId": "d0f990fc-2a88-443b-a2cc-1478016216a9"
      },
      "source": [
        "#RLS promedio \n",
        "RLSmean2=statistics.mean(listaobservada)\n",
        "print(RLSmean2)"
      ],
      "execution_count": null,
      "outputs": [
        {
          "output_type": "stream",
          "text": [
            "16.248689575256986\n"
          ],
          "name": "stdout"
        }
      ]
    },
    {
      "cell_type": "markdown",
      "metadata": {
        "id": "u9zD4BZ8TnYg"
      },
      "source": [
        "## Simulación de la curva de RLS sin la distribución de edades  "
      ]
    },
    {
      "cell_type": "code",
      "metadata": {
        "colab": {
          "base_uri": "https://localhost:8080/"
        },
        "id": "nI2Pu6NUTvUw",
        "outputId": "369196ae-1576-413d-eb5f-4fc57f9d417c"
      },
      "source": [
        "l=[1,2,3,4,5,6,7,8,9,10,11,12,13,14,15,16,17,18,19,20,21,22,23,24,25,26,27,28,29,30]# lista de tiempos en los que se grafica \n",
        "d=[] # lista donde se van a guardar los datos de las celulas viables \n",
        "for i in x: \n",
        "  num=0  \n",
        "  for j in p:\n",
        "    if j>i:\n",
        "      num=num+1\n",
        "  d.append(num)\n",
        "print(d)\n",
        "for i in range(len(d)):  \n",
        "    d[i] /= len(listaobservada)\n",
        "print(d)"
      ],
      "execution_count": null,
      "outputs": [
        {
          "output_type": "stream",
          "text": [
            "[95, 91, 91, 89, 84, 71, 58, 46, 29, 20, 12, 9, 6, 1, 1, 0, 0, 0, 0, 0]\n",
            "[0.9895833333333334, 0.9479166666666666, 0.9479166666666666, 0.9270833333333334, 0.875, 0.7395833333333334, 0.6041666666666666, 0.4791666666666667, 0.3020833333333333, 0.20833333333333334, 0.125, 0.09375, 0.0625, 0.010416666666666666, 0.010416666666666666, 0.0, 0.0, 0.0, 0.0, 0.0]\n"
          ],
          "name": "stdout"
        }
      ]
    },
    {
      "cell_type": "code",
      "metadata": {
        "colab": {
          "base_uri": "https://localhost:8080/",
          "height": 295
        },
        "id": "v6G3rEPvTycZ",
        "outputId": "094a755d-8da0-457f-a684-3a45e102db5b"
      },
      "source": [
        "plt.plot(x,d) \n",
        "plt.xlabel('Generaciones')\n",
        "plt.ylabel(' Fracción de células viables  ')\n",
        "plt.title('RLS ')\n",
        "plt.show()"
      ],
      "execution_count": null,
      "outputs": [
        {
          "output_type": "display_data",
          "data": {
            "image/png": "[encoded data removed]",
            "text/plain": [
              "<Figure size 432x288 with 1 Axes>"
            ]
          },
          "metadata": {
            "tags": [],
            "needs_background": "light"
          }
        }
      ]
    },
    {
      "cell_type": "markdown",
      "metadata": {
        "id": "LWZ-KhtaT30Q"
      },
      "source": [
        "## Simulación de la curva de RLS con la distribución de edades"
      ]
    },
    {
      "cell_type": "code",
      "metadata": {
        "colab": {
          "base_uri": "https://localhost:8080/"
        },
        "id": "qkfhZr_eUOhf",
        "outputId": "a90a4ca7-563c-4fad-fd29-a2069be81a2e"
      },
      "source": [
        "l=[1,2,3,4,5,6,7,8,9,10,11,12,13,14,15,16,17,18,19,20,21,22,23,24,25,26,27,29,29,30]# lista de tiempos en los que se grafica \n",
        "viab=[] # lista donde se van a guardar los datos de las celulas viables \n",
        "for i in x:  \n",
        "  num=0 \n",
        "  for j in listaobservada:\n",
        "    if j>i:\n",
        "      num=num+1\n",
        "  viab.append(num)\n",
        "print(viab)\n",
        "for i in range(len(viab)): \n",
        "    viab[i] /= len(listaobservada)\n",
        "print(viab)"
      ],
      "execution_count": null,
      "outputs": [
        {
          "output_type": "stream",
          "text": [
            "[94, 90, 84, 83, 78, 63, 53, 39, 25, 16, 11, 8, 3, 1, 0, 0, 0, 0, 0, 0]\n",
            "[0.9791666666666666, 0.9375, 0.875, 0.8645833333333334, 0.8125, 0.65625, 0.5520833333333334, 0.40625, 0.2604166666666667, 0.16666666666666666, 0.11458333333333333, 0.08333333333333333, 0.03125, 0.010416666666666666, 0.0, 0.0, 0.0, 0.0, 0.0, 0.0]\n"
          ],
          "name": "stdout"
        }
      ]
    },
    {
      "cell_type": "code",
      "metadata": {
        "colab": {
          "base_uri": "https://localhost:8080/",
          "height": 295
        },
        "id": "y_0PHcI8T7Xh",
        "outputId": "4a4def58-d60d-4ebc-c6ea-6eba9a7251b2"
      },
      "source": [
        "plt.plot(x,viab) \n",
        "plt.xlabel('Generaciones')\n",
        "plt.ylabel('Fracción de células viables ')\n",
        "plt.title('RLS Con la distribución ')\n",
        "plt.show() "
      ],
      "execution_count": null,
      "outputs": [
        {
          "output_type": "display_data",
          "data": {
            "image/png": "[encoded data removed]",
            "text/plain": [
              "<Figure size 432x288 with 1 Axes>"
            ]
          },
          "metadata": {
            "tags": [],
            "needs_background": "light"
          }
        }
      ]
    },
    {
      "cell_type": "markdown",
      "metadata": {
        "id": "xgk2cC3uUUg_"
      },
      "source": [
        "## Comparacion entre las simulaciones de las dos curvas de RLS "
      ]
    },
    {
      "cell_type": "code",
      "metadata": {
        "colab": {
          "base_uri": "https://localhost:8080/",
          "height": 295
        },
        "id": "uVwCWL4IUYaW",
        "outputId": "aaf9591c-747a-44d4-b372-852cf04cc185"
      },
      "source": [
        "plt.plot(x, viab, '--', label='distribucion de edades')# con distribucion de edades \n",
        "plt.plot(x, d, label=' virgenes')# virgenes sin distribucion \n",
        "plt.title('RLS')\n",
        "plt.ylabel('Fracción de células viables ')\n",
        "plt.xlabel('Generaciones')\n",
        "plt.legend(loc=3)\n",
        "plt.show()"
      ],
      "execution_count": null,
      "outputs": [
        {
          "output_type": "display_data",
          "data": {
            "image/png": "[encoded data removed]",
            "text/plain": [
              "<Figure size 432x288 with 1 Axes>"
            ]
          },
          "metadata": {
            "tags": [],
            "needs_background": "light"
          }
        }
      ]
    },
    {
      "cell_type": "markdown",
      "metadata": {
        "id": "x0YFGn6hVPo3"
      },
      "source": [
        "## Comparacion con los datos "
      ]
    },
    {
      "cell_type": "markdown",
      "metadata": {
        "id": "1JpGxJbTVU98"
      },
      "source": [
        "RLS sin la distribución de edades (virgenes)"
      ]
    },
    {
      "cell_type": "code",
      "metadata": {
        "colab": {
          "base_uri": "https://localhost:8080/",
          "height": 295
        },
        "id": "mJ097I8YVRqI",
        "outputId": "0de084ff-af53-40ab-9a9e-8cface77d1b7"
      },
      "source": [
        "plt.plot(x, d, '--', label='simulación') \n",
        "plt.plot(x, y, label=' datos ')\n",
        "plt.title('RLS')\n",
        "plt.ylabel('Fracción de células viables ')\n",
        "plt.xlabel('Generaciones')\n",
        "plt.legend(loc=3)\n",
        "plt.show()"
      ],
      "execution_count": null,
      "outputs": [
        {
          "output_type": "display_data",
          "data": {
            "image/png": "[encoded data removed]",
            "text/plain": [
              "<Figure size 432x288 with 1 Axes>"
            ]
          },
          "metadata": {
            "tags": [],
            "needs_background": "light"
          }
        }
      ]
    },
    {
      "cell_type": "markdown",
      "metadata": {
        "id": "tRJfteI8XIO-"
      },
      "source": [
        "Minimos cuadrados "
      ]
    },
    {
      "cell_type": "code",
      "metadata": {
        "colab": {
          "base_uri": "https://localhost:8080/"
        },
        "id": "KZiuw1MpXL0v",
        "outputId": "6063b138-413a-470b-d935-763d6b0666e4"
      },
      "source": [
        "error=[]\n",
        "for i in range(len(xa)):\n",
        "  r_1=ya[i]\n",
        "  r_t=(r_1-d[i])**2\n",
        "  error.append(r_t)\n",
        "print(error)\n",
        "print(sum(error))"
      ],
      "execution_count": null,
      "outputs": [
        {
          "output_type": "stream",
          "text": [
            "[0.00010850694444444368, 0.002712673611111115, 0.001029340277777779, 8.506944444444513e-06, 0.0012250000000000021, 0.008025173611111113, 0.008867361111111102, 0.0024173611111111136, 0.00048767361111110914, 0.0004694444444444445, 2.5000000000000045e-05, 3.906250000000007e-05, 0.00030625000000000004, 0.0011960069444444444, 0.0003835069444444445, 0.0009, 0.0001, 0.0001, 0.0, 0.0]\n",
            "0.02840086805555556\n"
          ],
          "name": "stdout"
        }
      ]
    },
    {
      "cell_type": "markdown",
      "metadata": {
        "id": "ZZcu8bjyVgom"
      },
      "source": [
        "RLS con la distribucion de edades"
      ]
    },
    {
      "cell_type": "code",
      "metadata": {
        "colab": {
          "base_uri": "https://localhost:8080/",
          "height": 295
        },
        "id": "d2zBHSVlVkpI",
        "outputId": "627b3c0e-d0ac-47e6-90e5-fe7db4b9743b"
      },
      "source": [
        "plt.plot(x, viab, '--', label='simulacion') \n",
        "plt.plot(x, y, label=' datos ')\n",
        "plt.title('RLS')\n",
        "plt.ylabel('Fracción de células viables ')\n",
        "plt.xlabel('Generaciones')\n",
        "plt.legend(loc=3)\n",
        "plt.show()"
      ],
      "execution_count": null,
      "outputs": [
        {
          "output_type": "display_data",
          "data": {
            "image/png": "[encoded data removed]",
            "text/plain": [
              "<Figure size 432x288 with 1 Axes>"
            ]
          },
          "metadata": {
            "tags": [],
            "needs_background": "light"
          }
        }
      ]
    },
    {
      "cell_type": "markdown",
      "metadata": {
        "id": "d_C5eCxTan_e"
      },
      "source": [
        "Minimos cuadrados "
      ]
    },
    {
      "cell_type": "code",
      "metadata": {
        "colab": {
          "base_uri": "https://localhost:8080/"
        },
        "id": "2cWa7p6QWC-Y",
        "outputId": "abbd3850-0d32-4683-de98-4aed1ba52723"
      },
      "source": [
        "error=[]\n",
        "for i in range(len(xa)):\n",
        "  r_t=(ya[i]-viab[i])**2\n",
        "  error.append(r_t)\n",
        "print(error)\n",
        "print(sum(error))"
      ],
      "execution_count": null,
      "outputs": [
        {
          "output_type": "stream",
          "text": [
            "[0.0004340277777777793, 0.00390625, 0.011024999999999997, 0.0042793402777777795, 0.0007562499999999982, 3.906249999999972e-05, 0.0017710069444444468, 0.0005640624999999997, 0.0003835069444444448, 0.004011111111111114, 2.934027777777778e-05, 0.0002777777777777781, 0.0023765625, 0.0011960069444444444, 0.0009, 0.0009, 0.0001, 0.0001, 0.0, 0.0]\n",
            "0.03304930555555557\n"
          ],
          "name": "stdout"
        }
      ]
    },
    {
      "cell_type": "code",
      "metadata": {
        "id": "1FxwVBM1WuOo"
      },
      "source": [
        ""
      ],
      "execution_count": null,
      "outputs": []
    }
  ]
}